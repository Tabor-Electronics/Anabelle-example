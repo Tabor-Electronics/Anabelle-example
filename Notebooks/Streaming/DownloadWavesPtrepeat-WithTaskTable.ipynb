{
 "cells": [
  {
   "cell_type": "markdown",
   "metadata": {},
   "source": [
    "<img align=\"left\" src=\"https://www.taborelec.com/Pictures/logo.png\">"
   ]
  },
  {
   "cell_type": "markdown",
   "metadata": {},
   "source": [
    "# Point-Repeat Example using waveforms \n",
    "\n",
    "The scirpt demonstrates the usage of ptRepeat option to enable effective lower signal generation frequencies.\n",
    "\n",
    "The scpi command: ':PTRepeat X1|X2|X4|X8' defines the factor of the generation slow down. This is done by repeating each data-point during the generation in accordance to the parameter set (Default value is X1). The PTRepeat function can work by using the slow segments which are defined from Segment # 250 onwards. Also, note that PTRepeat parameters can be set per-channel independtly only if each channel generates from separate segments.\n",
    "\n",
    "\n",
    "### set up:\n",
    "\n",
    "* Proteues device P94xx and connect channel 1 to the scope.\n",
    "* This scripts works either the PXI or Lan interfaces.\n",
    "* Connect any of P94xx channels to Scope input to verfigy test results. \n",
    "\n",
    "### Proteus version: \n",
    "Anabelle"
   ]
  },
  {
   "cell_type": "code",
   "execution_count": 25,
   "metadata": {},
   "outputs": [],
   "source": [
    "%matplotlib notebook\n",
    "import numpy as np\n",
    "import time\n",
    "import ipywidgets as widgets\n",
    "import matplotlib.pyplot as plt"
   ]
  },
  {
   "cell_type": "code",
   "execution_count": 26,
   "metadata": {},
   "outputs": [],
   "source": [
    "import os\n",
    "import gc\n",
    "import sys\n",
    "srcpath = os.path.realpath('../../SourceFiles')\n",
    "sys.path.append(srcpath)\n",
    "from teproteus import TEProteusAdmin, TEProteusInst\n",
    "from tevisainst import TEVisaInst"
   ]
  },
  {
   "cell_type": "markdown",
   "metadata": {},
   "source": [
    "### Before we start\n",
    "\n",
    "This example is designed to work both when there is a LAN based communication-service (usually on benchtop/desktop)<br>\n",
    "And when there's no communication-service, and the user's application has access to hardware-modules in the PXI chassis.\n",
    "\n",
    "In the first case, when there's a LAN communication, this example uses the class `TEVisaInst` from `tevisainst`.<br>\n",
    "\n",
    "In the second case, this example uses the classes `TEProteusAdmin` and `TEProteusInst` from `teproteus`."
   ]
  },
  {
   "cell_type": "code",
   "execution_count": 27,
   "metadata": {},
   "outputs": [
    {
     "data": {
      "application/vnd.jupyter.widget-view+json": {
       "model_id": "2567a39896ae494aa9c164a967f11cb1",
       "version_major": 2,
       "version_minor": 0
      },
      "text/plain": [
       "Text(value='', description='Address:', placeholder='IP Address or Slot Id')"
      ]
     },
     "metadata": {},
     "output_type": "display_data"
    },
    {
     "data": {
      "application/vnd.jupyter.widget-view+json": {
       "model_id": "97f057820c0944c3adc3fcb69ef23b8f",
       "version_major": 2,
       "version_minor": 0
      },
      "text/plain": [
       "Button(description='Connect', style=ButtonStyle())"
      ]
     },
     "metadata": {},
     "output_type": "display_data"
    },
    {
     "data": {
      "application/vnd.jupyter.widget-view+json": {
       "model_id": "f3e4a01de9624995af80560ea970b5f2",
       "version_major": 2,
       "version_minor": 0
      },
      "text/plain": [
       "Button(description='Disconnect', style=ButtonStyle())"
      ]
     },
     "metadata": {},
     "output_type": "display_data"
    },
    {
     "data": {
      "application/vnd.jupyter.widget-view+json": {
       "model_id": "746fabeae0d9414a90c5197cf8eccdd0",
       "version_major": 2,
       "version_minor": 0
      },
      "text/plain": [
       "Output()"
      ]
     },
     "metadata": {},
     "output_type": "display_data"
    }
   ],
   "source": [
    "# Connect to instrument\n",
    "\n",
    "inst = None\n",
    "admin = None\n",
    "\n",
    "conn_msg_str = ''\n",
    "\n",
    "def disconnect():\n",
    "    global inst\n",
    "    global admin\n",
    "    if inst is not None:\n",
    "        try:\n",
    "            inst.close_instrument()            \n",
    "        except:\n",
    "            pass\n",
    "        inst = None\n",
    "    if admin is not None:\n",
    "        try:\n",
    "            admin.close_inst_admin()\n",
    "        except:\n",
    "            pass\n",
    "        admin = None\n",
    "    gc.collect()\n",
    "\n",
    "def connect_to_pxi_slot(slot_id):\n",
    "    global inst\n",
    "    global admin\n",
    "    try:\n",
    "        disconnect()        \n",
    "        admin = TEProteusAdmin()\n",
    "        admin.open_inst_admin()        \n",
    "        inst = admin.open_instrument(slot_id, reset_hot_flag=True)\n",
    "    except:\n",
    "        pass\n",
    "\n",
    "def connect_to_lan_server(ip_address):\n",
    "    global inst\n",
    "    try:\n",
    "        disconnect()\n",
    "        inst = TEVisaInst(ip_address, port=5025)\n",
    "    except:\n",
    "        pass\n",
    "\n",
    "def connect(ipaddr_or_slotid):\n",
    "    try:\n",
    "        disconnect()\n",
    "        if isinstance(ipaddr_or_slotid, str) and '.' in ipaddr_or_slotid:\n",
    "            connect_to_lan_server(ipaddr_or_slotid)\n",
    "        else:\n",
    "            connect_to_pxi_slot(ipaddr_or_slotid)\n",
    "    except:\n",
    "        pass\n",
    "\n",
    "addr_textbox = widgets.Text(\n",
    "    value='',\n",
    "    placeholder='IP Address or Slot Id',\n",
    "    description='Address:',\n",
    "    disabled=False\n",
    ")\n",
    "\n",
    "output = widgets.Output()\n",
    "\n",
    "def print_conn_message(msg_str):\n",
    "    global output\n",
    "    global conn_msg_str\n",
    "    with output:\n",
    "        if len(conn_msg_str) > 0:\n",
    "            print('\\r', end='')\n",
    "            print(' ' * len(conn_msg_str), end='')\n",
    "            print('\\r', end='')\n",
    "        conn_msg_str = str(msg_str)\n",
    "        if len(conn_msg_str) > 0:\n",
    "            print(conn_msg_str, end='')\n",
    "\n",
    "def on_button_connect_clicked(b):\n",
    "    global inst\n",
    "    global addr_textbox\n",
    "    print_conn_message('')\n",
    "    disconnect()\n",
    "    if addr_textbox is not None:\n",
    "        conn_str = addr_textbox.value\n",
    "        if conn_str:\n",
    "            print_conn_message('Connecting to {0} ..'.format(conn_str))\n",
    "            connect(conn_str)\n",
    "            print_conn_message('')\n",
    "    if inst is not None:\n",
    "        idn_str = inst.send_scpi_query('*IDN?')\n",
    "        if idn_str:\n",
    "            print_conn_message('Connected to: ' + idn_str.strip())\n",
    "    \n",
    "def on_button_disconnect_clicked(b):\n",
    "    print_conn_message('')\n",
    "    disconnect()\n",
    "\n",
    "btn_connect = widgets.Button(description=\"Connect\")\n",
    "btn_disconnect = widgets.Button(description=\"Disconnect\")\n",
    "\n",
    "btn_connect.on_click(on_button_connect_clicked)\n",
    "btn_disconnect.on_click(on_button_disconnect_clicked)\n",
    "\n",
    "display(addr_textbox, btn_connect, btn_disconnect, output)"
   ]
  },
  {
   "cell_type": "markdown",
   "metadata": {},
   "source": [
    "### Paranoia Level\n",
    "\n",
    "When sending a SCPI command to instrument, it is highlly recommended to send it as query with `*OPC?`.<br>\n",
    "For example, instead of sending bare SCPI command `:OUTPUT ON`, send a compound query `:OUTPUT ON; *OPC?`<br>\n",
    "In that way the user makes sure the execution of the command has been completed before sending the next command.\n",
    "\n",
    "The class `TEProteusInst` from `teproteus` and the class `TEVisaInst` from `tevisainst` both have a method<br>\n",
    "called `send_scpi_cmd(scpi_str, paranoia_level=None)` that sends the given SCPI string `scpi_str` to the instrument.<br>\n",
    "\n",
    "The optional `paranoia_level` argument can receive the values 0, 1 or 2 where\n",
    " - 0 means: send `scpi_str` as a bare SCPI command.\n",
    " - 1 means: append `*OPC?` to the given `scpi_str`, send it as query, and read the response (which is \"1\").\n",
    " - 2 means: append `:SYST:ERR?` to the given, send it as query and read the response (the last system error).\n",
    "\n",
    "If the optional `paranoia_level` argument is not given then a default paranoia-level (that the user can setup) is used.\n",
    "\n",
    "The initial value of the default paranoia-level is 1.<br>\n",
    "High paranoia-level (2) is good for debugging, because the system-error is checked after each SCPI command.     "
   ]
  },
  {
   "cell_type": "code",
   "execution_count": 28,
   "metadata": {},
   "outputs": [
    {
     "name": "stdout",
     "output_type": "stream",
     "text": [
      "Connected to: Tabor Electronics,P9082M,000000000000,1.235.0 --slot#: 5,\n",
      "process id 28948\n"
     ]
    },
    {
     "data": {
      "text/plain": [
       "0"
      ]
     },
     "execution_count": 28,
     "metadata": {},
     "output_type": "execute_result"
    }
   ],
   "source": [
    "connect(\"192.168.0.117\")\n",
    "\n",
    "#connect(\"5\")\n",
    "\n",
    "if inst is not None:\n",
    "        idn_str = inst.send_scpi_query('*IDN?')\n",
    "        model = inst.send_scpi_query(\":SYST:iNF:MODel?\")\n",
    "        if idn_str:\n",
    "            prnmsg = 'Connected to: ' + idn_str.strip()\n",
    "            print(prnmsg)\n",
    "else:\n",
    "    print(\"Not connected\")\n",
    "\n",
    "pid = os.getpid()\n",
    "print('process id {0}'.format(pid))\n",
    "\n",
    "\n",
    "# Set the default paranoia-level (0, 1 or 2)\n",
    "inst.default_paranoia_level = 2 # good for debugging\n",
    "\n",
    "# Clear error-list and reset the instrument\n",
    "inst.send_scpi_cmd('*CLS; *RST')"
   ]
  },
  {
   "cell_type": "code",
   "execution_count": 29,
   "metadata": {},
   "outputs": [
    {
     "name": "stdout",
     "output_type": "stream",
     "text": [
      "Model: P9082M\n",
      "DAC waveform format: 8 bits-per-point\n",
      "Max DAC wave-point level: 255\n",
      "Half DAC wave-point level: 127.5\n",
      "Number of channels: 2\n",
      "Max segment number: 65536\n",
      "Available memory per DDR: 4,286,560,192 wave-bytes\n"
     ]
    }
   ],
   "source": [
    "# Get the model name\n",
    "model = inst.send_scpi_query(\":SYST:iNF:MODel?\")\n",
    "print(\"Model: \" + model)\n",
    "\n",
    "# Infer the natural DAC waveform format\n",
    "if 'P908' in model:\n",
    "    dac_mode = 8\n",
    "else:\n",
    "    dac_mode = 16\n",
    "    \n",
    "\n",
    "\n",
    "print(\"DAC waveform format: {0} bits-per-point\".format(dac_mode))\n",
    "\n",
    "max_dac = 2 ** dac_mode - 1\n",
    "half_dac = max_dac / 2.0\n",
    "print('Max DAC wave-point level: {0}'.format(max_dac))\n",
    "print('Half DAC wave-point level: {0}'.format(half_dac))\n",
    "\n",
    "# Get number of channels\n",
    "resp = inst.send_scpi_query(\":INST:CHAN? MAX\")\n",
    "print(\"Number of channels: \" + resp)\n",
    "num_channels = int(resp)\n",
    "\n",
    "# Get the maximal number of segments\n",
    "resp = inst.send_scpi_query(\":TRACe:SELect:SEGMent? MAX\")\n",
    "print(\"Max segment number: \" + resp)\n",
    "max_seg_number = int(resp)\n",
    "\n",
    "# Get the available memory in bytes of wavform-data (per DDR):\n",
    "resp = inst.send_scpi_query(\":TRACe:FREE?\")\n",
    "arbmem_capacity = int(resp)\n",
    "print(\"Available memory per DDR: {0:,} wave-bytes\".format(arbmem_capacity))\n"
   ]
  },
  {
   "cell_type": "markdown",
   "metadata": {},
   "source": [
    "## Set DAC frequency"
   ]
  },
  {
   "cell_type": "code",
   "execution_count": 30,
   "metadata": {},
   "outputs": [
    {
     "name": "stdout",
     "output_type": "stream",
     "text": [
      "DAC Generate Freq:1000000000.0\n"
     ]
    }
   ],
   "source": [
    "FREQ = 1000\n",
    "inst.send_scpi_cmd(\":FREQ:RAST {0}MHz\".format(FREQ))\n",
    "resp = inst.send_scpi_query(\":FREQ:RAST?\")\n",
    "freq = float(resp)\n",
    "print (\"DAC Generate Freq:{0}\".format(freq))"
   ]
  },
  {
   "cell_type": "markdown",
   "metadata": {},
   "source": [
    "## Writing waveform data to segment\n",
    "\n",
    "The command `:TRACE:DATA [<offset-in-bytes>] #<binary-header><binary-data>`  \n",
    "writes the given block of binary data to the specified offset in the selected segment of the selected channel.\n",
    "\n",
    "#### The header of the binary-data block\n",
    "The SCPI protocol uses text-based messages, and the new-line character denotes end of a SCPI statement.<br>\n",
    "In case of binary-data the sender must send a header that defines the size of the binary block before the data  \n",
    "because the new-line character can be a part of the data.<br>\n",
    "\n",
    "The header is composed of `'#'` character followed by a sequence of between 2 and 10 decimal digits, where the<br>\n",
    "first digits denotes how many digits follows it (between 1 and 9) and the rest of the digits denote the size of the<br>\n",
    "binary-block in bytes. For example, `#3256` denotes block of 256 bytes, and `#41024` denotes block of 1024 bytes.\n",
    "\n",
    "### Simple example\n",
    "\n",
    "Download waves to several segments and play different segment in each channel.  \n"
   ]
  },
  {
   "cell_type": "code",
   "execution_count": 31,
   "metadata": {},
   "outputs": [],
   "source": [
    "# Build 12 waveforms\n",
    "\n",
    "seglen = 81920 #2**28\n",
    "num_cycles = (1, 2, 4, 8)  #(2^16,0)\n",
    "\n",
    "waves = [ None for _ in range(1)]\n",
    "\n",
    "for ii in range(1):\n",
    "    ncycles = num_cycles[ii]\n",
    "    cyclelen = seglen / ncycles\n",
    "    \n",
    "    x = np.linspace(\n",
    "        start=0, stop=2 * np.pi * ncycles, num=seglen, endpoint=False)\n",
    "    y = (np.sin(x) + 1.0) * half_dac\n",
    "    y = np.round(y)\n",
    "    y = np.clip(y, 0, max_dac)\n",
    "    if dac_mode == 16:\n",
    "        waves[ii] = y.astype(np.uint16)\n",
    "    else:\n",
    "        waves[ii] = y.astype(np.uint8)\n",
    "    "
   ]
  },
  {
   "cell_type": "markdown",
   "metadata": {},
   "source": [
    "## Define and download segments"
   ]
  },
  {
   "cell_type": "code",
   "execution_count": 32,
   "metadata": {},
   "outputs": [
    {
     "name": "stdout",
     "output_type": "stream",
     "text": [
      "Download wave to segment 250 of channel 1\n",
      "0, no error\n",
      "Download wave to segment 251 of channel 2\n",
      "0, no error\n",
      "\n",
      "0, no error\n"
     ]
    }
   ],
   "source": [
    "segList = []\n",
    "# Download segments\n",
    "for ii in range(num_channels):\n",
    "    ichan = ii\n",
    "    channb = ichan + 1\n",
    "    segnum = ichan % 2 + 250\n",
    "    segList.append(segnum)\n",
    "    wav = waves[0] #ichan]\n",
    "    print('Download wave to segment {0} of channel {1}'.format(segnum, channb))\n",
    "    \n",
    "    # Select channel\n",
    "    cmd = ':INST:CHAN {0}'.format(channb)\n",
    "    inst.send_scpi_cmd(cmd)\n",
    "    \n",
    "    # Define segment\n",
    "    cmd = ':TRAC:DEF {0}, {1}'.format(segnum, seglen)\n",
    "    inst.send_scpi_cmd(cmd)\n",
    "    \n",
    "    # Select the segment\n",
    "    cmd = ':TRAC:SEL {0}'.format(segnum)\n",
    "    inst.send_scpi_cmd(cmd)\n",
    "        \n",
    "    # Send the binary-data:\n",
    "    inst.write_binary_data(':TRAC:DATA', wav)\n",
    "        \n",
    "    resp = inst.send_scpi_query(':SYST:ERR?')\n",
    "    resp = resp.rstrip()\n",
    "    if not resp.startswith('0'):\n",
    "        print('ERROR: \"{0}\" after writing binary values'.format(resp))\n",
    "\n",
    "    # Play the specified segment at the selected channel:\n",
    "    cmd = ':SOUR:FUNC:MODE:SEGM {0}'.format(segnum)\n",
    "    inst.send_scpi_cmd(cmd)\n",
    "\n",
    "    # Turn on the output of the selected channel:\n",
    "    inst.send_scpi_cmd(':OUTP ON')\n",
    "    \n",
    "    resp = inst.send_scpi_query(':SYST:ERR?')\n",
    "    print(resp)\n",
    "\n",
    "print()\n",
    "\n",
    "resp = inst.send_scpi_query(':SYST:ERR?')\n",
    "print(resp)\n",
    "\n",
    "del waves\n",
    "del wav"
   ]
  },
  {
   "cell_type": "markdown",
   "metadata": {},
   "source": [
    "## Seting PTRepeat Parameters Per Channel\n",
    "\n",
    "\n",
    "* Set the tested channel with the :\n",
    "** 'ichan=1' assignment.\n",
    "* Set PtRepeat paramter using the : \n",
    "** 'ptX=2' assignemt\n",
    "\n",
    "Connect any of P94xx channels to Scope input to verfigy test results. "
   ]
  },
  {
   "cell_type": "code",
   "execution_count": 33,
   "metadata": {},
   "outputs": [
    {
     "data": {
      "text/plain": [
       "0"
      ]
     },
     "execution_count": 33,
     "metadata": {},
     "output_type": "execute_result"
    }
   ],
   "source": [
    "ichan = 1\n",
    "ptX=1\n",
    "\n",
    "cmd = ':INST:CHAN {0}'.format(ichan)\n",
    "inst.send_scpi_cmd(cmd)\n",
    "inst.send_scpi_cmd(':PTRepeat X{0}'.format(ptX))"
   ]
  },
  {
   "cell_type": "markdown",
   "metadata": {},
   "source": [
    "## Build task table\n",
    "\n",
    "Build 2 task, and toggle between them for endless loop\n",
    "\n",
    "Connect any of P94xx channels to Scope input to verfigy test results. "
   ]
  },
  {
   "cell_type": "code",
   "execution_count": 34,
   "metadata": {},
   "outputs": [
    {
     "name": "stdout",
     "output_type": "stream",
     "text": [
      "Downloading Task table of channel 1\n",
      "0, no error\n",
      "Downloading Task table of channel 2\n",
      "0, no error\n"
     ]
    }
   ],
   "source": [
    "tasklen = 2\n",
    "\n",
    "for ii in range(num_channels):\n",
    "    channb=ii+1\n",
    "    #Select channel\n",
    "    cmd = ':INST:CHAN {0}'.format(channb)\n",
    "    inst.send_scpi_cmd(cmd )\n",
    "    \n",
    "    cmd = ':TASK:COMP:LENG {0}'.format(tasklen)\n",
    "    inst.send_scpi_cmd(cmd )\n",
    "    \n",
    "    for jj in range(tasklen):\n",
    "        curr_task = jj+1\n",
    "        loop = jj+1\n",
    "        segnb = jj+1\n",
    "        cmd = ':TASK:COMP:SEL {0}'.format(curr_task)\n",
    "        inst.send_scpi_cmd(cmd )\n",
    "       \n",
    "        cmd = ':TASK:COMP:TYPE SING'\n",
    "        inst.send_scpi_cmd(cmd )\n",
    "       \n",
    "        cmd = ':TASK:COMP:LOOP {0}'.format(loop)\n",
    "        inst.send_scpi_cmd(cmd )\n",
    "       \n",
    "        cmd = ':TASK:COMP:SEGM {0}'.format(segnb)\n",
    "        inst.send_scpi_cmd(cmd )\n",
    "        \n",
    "        if curr_task==tasklen:\n",
    "            cmd = ':TASK:COMP:NEXT1 {0}'.format(1)\n",
    "            inst.send_scpi_cmd(cmd)\n",
    "        else:\n",
    "            cmd = ':TASK:COMP:NEXT1 {0}'.format(curr_task+1)\n",
    "            inst.send_scpi_cmd(cmd )\n",
    "    \n",
    "    cmd = ':TASK:COMP:WRIT'\n",
    "    inst.send_scpi_cmd(cmd )\n",
    "    print('Downloading Task table of channel {0}'.format(channb))\n",
    "    \n",
    "    resp = inst.send_scpi_query(':SYST:ERR?')\n",
    "    print(resp)"
   ]
  },
  {
   "cell_type": "markdown",
   "metadata": {},
   "source": [
    "## Check frequency"
   ]
  },
  {
   "cell_type": "code",
   "execution_count": 35,
   "metadata": {},
   "outputs": [
    {
     "name": "stdout",
     "output_type": "stream",
     "text": [
      "Frequency: 1000000000.000\n",
      "16\n"
     ]
    }
   ],
   "source": [
    "cmd = 'FUNC:MODE TASK'\n",
    "inst.send_scpi_cmd(cmd)\n",
    "\n",
    "dac_mode = 16\n",
    "#inst.send_scpi_cmd(':SOUR:FREQ 2.5e9')\n",
    "resp = inst.send_scpi_query(':SOUR:FREQ?')\n",
    "print(\"Frequency: {}\".format(resp))\n",
    "print(dac_mode)\n",
    "    "
   ]
  },
  {
   "cell_type": "markdown",
   "metadata": {},
   "source": [
    "## Power on to all channels"
   ]
  },
  {
   "cell_type": "code",
   "execution_count": 36,
   "metadata": {},
   "outputs": [
    {
     "name": "stdout",
     "output_type": "stream",
     "text": [
      "ichan=0, iseg=250\n",
      "ichan=1, iseg=251\n"
     ]
    }
   ],
   "source": [
    "# Change the segment that being played in channel 1,\n",
    "# and play all segments one after the other with some time-delay\n",
    "\n",
    "for ichan, iseg in enumerate(segList):    \n",
    "     # Select channel\n",
    "    print(f'ichan={ichan}, iseg={iseg}')\n",
    "    cmd = ':INST:CHAN {0}'.format(ichan+1)\n",
    "    inst.send_scpi_cmd(cmd)\n",
    "    \n",
    "    #cmd = ':SOUR:FUNC:MODE:SEGM {0}'.format(iseg)\n",
    "    #inst.send_scpi_cmd(cmd)\n",
    "    \n",
    "    inst.send_scpi_cmd(':OUTP ON')\n",
    "    time.sleep(0.2)   \n"
   ]
  },
  {
   "cell_type": "code",
   "execution_count": 13,
   "metadata": {},
   "outputs": [],
   "source": [
    "# Disconnect\n",
    "print_conn_message('')\n",
    "disconnect()"
   ]
  }
 ],
 "metadata": {
  "kernelspec": {
   "display_name": "Python 3",
   "language": "python",
   "name": "python3"
  },
  "language_info": {
   "codemirror_mode": {
    "name": "ipython",
    "version": 3
   },
   "file_extension": ".py",
   "mimetype": "text/x-python",
   "name": "python",
   "nbconvert_exporter": "python",
   "pygments_lexer": "ipython3",
   "version": "3.8.5"
  }
 },
 "nbformat": 4,
 "nbformat_minor": 4
}
