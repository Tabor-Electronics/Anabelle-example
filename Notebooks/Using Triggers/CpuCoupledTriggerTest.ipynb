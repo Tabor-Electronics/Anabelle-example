{
 "cells": [
  {
   "cell_type": "markdown",
   "metadata": {},
   "source": [
    "<img align=\"left\" src=\"https://www.taborelec.com/Pictures/logo.png\">"
   ]
  },
  {
   "cell_type": "markdown",
   "metadata": {},
   "source": [
    "##  CPU Trigger Test\n",
    "\n",
    "\n",
    "Test CPU Trigger to activate Channel operation.\n",
    "\n",
    "Test Setup:\n",
    "* One module of P948x\n",
    "* Scope connected to channel 1 and 3  of the module.\n",
    "\n",
    "This example creates 3 waves of different types and downloads them into a task table per channel, the task's wait for an  internal CPU trigger to activate the operation. The coupled cpu trigger mode activates all task tables together.\n",
    "Run script and verify on Scope that after the cpu trigger command ('*TRG') signals are generated continuosly."
   ]
  },
  {
   "cell_type": "code",
   "execution_count": null,
   "metadata": {},
   "outputs": [],
   "source": [
    "%matplotlib notebook\n",
    "import numpy as np\n",
    "import time\n",
    "import ipywidgets as widgets\n",
    "import matplotlib.pyplot as plt"
   ]
  },
  {
   "cell_type": "code",
   "execution_count": null,
   "metadata": {},
   "outputs": [],
   "source": [
    "import os\n",
    "import gc\n",
    "import sys\n",
    "srcpath = os.path.realpath('../../SourceFiles')\n",
    "sys.path.append(srcpath)\n",
    "#from teproteus import TEProteusAdmin, TEProteusInst\n",
    "from tevisainst import TEVisaInst"
   ]
  },
  {
   "cell_type": "code",
   "execution_count": null,
   "metadata": {},
   "outputs": [],
   "source": [
    "# Connect to instrument\n",
    "\n",
    "# Please choose appropriate address:\n",
    "inst_addr = 'TCPIP::192.168.0.42::5025::SOCKET'\n",
    "\n",
    "inst = TEVisaInst(inst_addr)\n",
    "\n",
    "resp = inst.send_scpi_query(\"*IDN?\")\n",
    "print('connected to: ' + resp)"
   ]
  },
  {
   "cell_type": "code",
   "execution_count": null,
   "metadata": {},
   "outputs": [],
   "source": [
    "# Set the default paranoia level. \n",
    "# It controls the default behavior of: inst.send_scpi_cmd(scpi_str).\n",
    "#  - paranoia-level = 0: send scpi_str as is.\n",
    "#  - paranoia-level = 1: append '*OPC?' to scpi_str, and send it as query \n",
    "#  - paranoia-level = 2: append ':SYST:ERR?' to scpi_str, send it as query, and print warnning in case of error.\n",
    "\n",
    "inst.default_paranoia_level = 2 # paranoia-level = 2 (good for debugging)\n",
    "\n",
    "# Reset the instrument\n",
    "inst.send_scpi_cmd('*CLS; *RST')\n",
    "resp = inst.send_scpi_query(\":SYST:ERR?\")\n",
    "print(resp)"
   ]
  },
  {
   "cell_type": "code",
   "execution_count": null,
   "metadata": {},
   "outputs": [],
   "source": [
    "#Set the COUPLE flag for the script.\n",
    "COUPLE=True\n",
    "inst.send_scpi_cmd(':INST:CHAN 1')\n",
    "\n",
    "if COUPLE:\n",
    "  inst.send_scpi_cmd(':TRIG:COUPLE ON')\n",
    "  inst.send_scpi_cmd(':TRIG:CPU:MODE GLOBAL')\n",
    "  #inst.send_scpi_cmd(':TRIG:CPU:MODE LOCAL')\n",
    "\n",
    "## Test Signal generatation from the task table.\n",
    "#inst.send_scpi_cmd('*TRG')\n"
   ]
  },
  {
   "cell_type": "code",
   "execution_count": null,
   "metadata": {},
   "outputs": [],
   "source": [
    "# Set sampling clock rate\n",
    "inst.send_scpi_cmd(':FREQ:RAST 2.5e9')\n",
    "\n",
    "resp = inst.send_scpi_query(':SYST:ERR?')\n",
    "print(resp)"
   ]
  },
  {
   "cell_type": "code",
   "execution_count": null,
   "metadata": {},
   "outputs": [],
   "source": [
    "# Get the model:\n",
    "model_name = inst.send_scpi_query('SYST:INF:MODel?')\n",
    "print('Model: {0} '.format(model_name))\n",
    "\n",
    "# Get number of channels\n",
    "resp = inst.send_scpi_query(\":INST:CHAN? MAX\")\n",
    "print(\"Number of channels: \" + resp)\n",
    "num_channels = int(resp)\n",
    "\n",
    "# Get model dependant parameters:\n",
    "\n",
    "if model_name.startswith('P948'):\n",
    "    bpp = 2\n",
    "    max_dac = 65535\n",
    "    wpt_type = np.uint16\n",
    "    channels_per_dac = 2\n",
    "elif model_name.startswith('P908'):\n",
    "    bpp = 1\n",
    "    max_dac = 255\n",
    "    wpt_type = np.uint8\n",
    "    channels_per_dac = 1\n",
    "else:\n",
    "    bpp = 2\n",
    "    max_dac = 65535\n",
    "    wpt_type = np.uint16\n",
    "    channels_per_dac = 2\n",
    "    \n",
    "half_dac = max_dac / 2.0\n",
    "\n",
    "# Get the maximal number of segments\n",
    "resp = inst.send_scpi_query(\":TRACe:SELect:SEGMent? MAX\")\n",
    "print(\"Max segment number: \" + resp)\n",
    "max_seg_number = int(resp)\n",
    "\n",
    "# Get the available memory in bytes of wavform-data (per DDR):\n",
    "resp = inst.send_scpi_query(\":TRACe:FREE?\")\n",
    "arbmem_capacity = (int(resp) // 64) * 64\n",
    "print(\"Available memory per DDR: {0:,} wave-bytes\".format(arbmem_capacity))\n",
    "\n",
    "max_seglen = arbmem_capacity // bpp\n",
    "print ('Max segment length: {0:,}'.format(max_seglen))"
   ]
  },
  {
   "cell_type": "code",
   "execution_count": null,
   "metadata": {},
   "outputs": [],
   "source": [
    "# Build 3 waveforms\n",
    "\n",
    "seglen = 4096\n",
    "cyclelen = seglen\n",
    "ncycles = seglen / cyclelen\n",
    "waves = [ None for _ in range(3)]\n",
    "\n",
    "# sin wave:\n",
    "x = np.linspace(\n",
    "    start=0, stop=2 * np.pi * ncycles, num=seglen, endpoint=False)\n",
    "y = (np.sin(x) + 1.0) * half_dac\n",
    "y = np.round(y)\n",
    "y = np.clip(y, 0, max_dac)\n",
    "waves[0] = y.astype(wpt_type)\n",
    "\n",
    "# triangle wave:\n",
    "x = np.linspace(\n",
    "    start=0, stop=2 * np.pi * ncycles, num=seglen, endpoint=False)\n",
    "y = np.sin(x)\n",
    "y = np.arcsin(y)* 2 * half_dac / np.pi + half_dac\n",
    "y = np.round(y)\n",
    "y = np.clip(y, 0, max_dac)\n",
    "waves[1] = y.astype(wpt_type)\n",
    "\n",
    "# square wave\n",
    "x = np.linspace(start=0, stop=seglen, num=seglen, endpoint=False)\n",
    "y = np.fmod(x, cyclelen)\n",
    "y = (y <= cyclelen / 2) * max_dac\n",
    "y = np.round(y)\n",
    "y = np.clip(y, 0, max_dac)\n",
    "waves[2] = y.astype(wpt_type)"
   ]
  },
  {
   "cell_type": "code",
   "execution_count": null,
   "metadata": {},
   "outputs": [],
   "source": [
    "# download 3 waveforms to each DDR\n",
    "\n",
    "for ichan in range(num_channels):\n",
    "    if ichan % channels_per_dac == 0:\n",
    "        channb = ichan + 1\n",
    "        # Select channel\n",
    "        cmd = ':INST:CHAN {0}'.format(channb)\n",
    "        inst.send_scpi_cmd(cmd)\n",
    "        for iseg in range(3):\n",
    "            segnum = iseg + 1\n",
    "            print('Downloading segment {0} of channel {1}'.format(segnum, channb))\n",
    "            # Define segment\n",
    "            cmd = ':TRAC:DEF {0}, {1}'.format(segnum, seglen)\n",
    "            inst.send_scpi_cmd(cmd)\n",
    "            \n",
    "            # Select the segment\n",
    "            cmd = ':TRAC:SEL {0}'.format(segnum)\n",
    "            inst.send_scpi_cmd(cmd)\n",
    "            \n",
    "            # Send the binary-data:\n",
    "            inst.write_binary_data(':TRAC:DATA', waves[iseg])\n",
    "            \n",
    "resp = inst.send_scpi_query(':SYST:ERR?')\n",
    "print(resp)"
   ]
  },
  {
   "cell_type": "code",
   "execution_count": null,
   "metadata": {},
   "outputs": [],
   "source": [
    "# Play the first segment in each channel\n",
    "\n",
    "for ichan in range(num_channels):\n",
    "    channb = ichan + 1\n",
    "    # Select channel\n",
    "    cmd = ':INST:CHAN {0}'.format(channb)\n",
    "    inst.send_scpi_cmd(cmd)\n",
    "    # Play the specified segment at the selected channel:\n",
    "    cmd = ':SOUR:FUNC:MODE:SEGM {0}'.format(1)\n",
    "    inst.send_scpi_cmd(cmd)\n",
    "\n",
    "    # Turn on the output of the selected channel:\n",
    "    inst.send_scpi_cmd(':OUTP ON')\n",
    "\n",
    "resp = inst.send_scpi_query(':SYST:ERR?')\n",
    "print(resp)"
   ]
  },
  {
   "cell_type": "code",
   "execution_count": null,
   "metadata": {},
   "outputs": [],
   "source": [
    "# Define task-table of 3 tasks in each channel.\n",
    "# The first task shall wait for trigger1.\n",
    "# In order to \n",
    "\n",
    "tasklen = 3\n",
    "if COUPLE:\n",
    "   TRG_SRC = 'INT' \n",
    "\n",
    "# Compose the task-table rows:\n",
    "cmd = ':TASK:COMP:LENG {0}'.format(tasklen)\n",
    "inst.send_scpi_cmd(cmd)\n",
    "\n",
    "for itask in range(tasklen):\n",
    "    tasknb = itask + 1\n",
    "    segnb = itask + 1\n",
    "    nloops = 2 ** tasknb\n",
    "    \n",
    "    cmd = ':TASK:COMP:SEL {0}'.format(tasknb)\n",
    "    inst.send_scpi_cmd(cmd)\n",
    "    \n",
    "    inst.send_scpi_cmd(':TASK:COMP:TYPE SING')\n",
    "    \n",
    "    cmd = ':TASK:COMP:SEGM {0}'.format(segnb)\n",
    "    inst.send_scpi_cmd(cmd)\n",
    "    \n",
    "    cmd = ':TASK:COMP:LOOP {0}'.format(nloops)\n",
    "    inst.send_scpi_cmd(cmd)\n",
    "    \n",
    "    if 1 == tasknb:\n",
    "        # in case of :TRIG:COUPLE ON need to put INT instead of CPU??\n",
    "        cmd = ':TASK:COMP:ENAB {}'.format(TRG_SRC)\n",
    "        inst.send_scpi_cmd(cmd)\n",
    "    else:\n",
    "        cmd = ':TASK:COMP:ENAB NONE'\n",
    "        inst.send_scpi_cmd(cmd)\n",
    "        \n",
    "    if tasklen == tasknb:\n",
    "        cmd = ':TASK:COMP:NEXT1 2'\n",
    "        inst.send_scpi_cmd(cmd)\n",
    "    else:\n",
    "        cmd = ':TASK:COMP:NEXT1 {0}'.format(tasknb + 1)\n",
    "        inst.send_scpi_cmd(cmd)\n",
    "\n",
    "# write the task table rows to the task-table of each channel\n",
    "for ichan in range(num_channels):\n",
    "    channb = ichan + 1\n",
    "    # Select channel\n",
    "    cmd = ':INST:CHAN {0}'.format(channb)\n",
    "    inst.send_scpi_cmd(cmd)\n",
    "    # Write the task-table\n",
    "    inst.send_scpi_cmd(':TASK:COMP:WRIT')\n",
    "    \n",
    "    # Set Task-Mode\n",
    "    inst.send_scpi_cmd(':FUNC:MODE TASK')\n",
    "\n",
    "resp = inst.send_scpi_query(':SYST:ERR?')\n",
    "print(resp)"
   ]
  },
  {
   "cell_type": "markdown",
   "metadata": {},
   "source": [
    "## Send CPU Trigger - \n",
    "Verify on Scope connected to Channel 1 that signal is generated."
   ]
  },
  {
   "cell_type": "code",
   "execution_count": null,
   "metadata": {},
   "outputs": [],
   "source": [
    "inst.send_scpi_cmd('*TRG')"
   ]
  },
  {
   "cell_type": "code",
   "execution_count": null,
   "metadata": {},
   "outputs": [],
   "source": [
    "inst.close_instrument()"
   ]
  },
  {
   "cell_type": "code",
   "execution_count": null,
   "metadata": {},
   "outputs": [],
   "source": []
  }
 ],
 "metadata": {
  "kernelspec": {
   "display_name": "Python 3",
   "language": "python",
   "name": "python3"
  },
  "language_info": {
   "codemirror_mode": {
    "name": "ipython",
    "version": 3
   },
   "file_extension": ".py",
   "mimetype": "text/x-python",
   "name": "python",
   "nbconvert_exporter": "python",
   "pygments_lexer": "ipython3",
   "version": "3.8.5"
  }
 },
 "nbformat": 4,
 "nbformat_minor": 4
}
