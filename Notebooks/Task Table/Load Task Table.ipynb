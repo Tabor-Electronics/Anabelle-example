{
 "cells": [
  {
   "cell_type": "markdown",
   "metadata": {},
   "source": [
    "<img align=\"left\" src=\"https://www.taborelec.com/Pictures/logo.png\">"
   ]
  },
  {
   "cell_type": "markdown",
   "metadata": {},
   "source": [
    "# Load Task Table"
   ]
  },
  {
   "cell_type": "markdown",
   "metadata": {},
   "source": [
    "### Description:\n",
    "This script comes to demonstrate the usege of task table on a Proteus device.\n",
    "\n",
    "### set up:\n",
    "Works on any Proteus device.\n",
    "It recomended to connect channel 1 and/or 2 to scope to see the waves\n",
    "\n",
    "### Proteus version: \n",
    "Anabelle"
   ]
  },
  {
   "cell_type": "code",
   "execution_count": 1,
   "metadata": {},
   "outputs": [],
   "source": [
    "%matplotlib notebook\n",
    "import numpy as np\n",
    "import time\n",
    "import ipywidgets as widgets\n",
    "from IPython.core.debugger import set_trace\n",
    "from scipy.signal import chirp, sweep_poly\n",
    "import matplotlib.pyplot as plt"
   ]
  },
  {
   "cell_type": "code",
   "execution_count": 2,
   "metadata": {},
   "outputs": [],
   "source": [
    "import os\n",
    "import sys\n",
    "import gc\n",
    "srcpath = os.path.realpath('../../SourceFiles')\n",
    "sys.path.append(srcpath)\n",
    "from teproteus import TEProteusAdmin, TEProteusInst\n",
    "from tevisainst import TEVisaInst"
   ]
  },
  {
   "cell_type": "markdown",
   "metadata": {},
   "source": [
    "### Before we start\n",
    "\n",
    "This example is designed to work both when there is a LAN based communication-service (usually on benchtop/desktop)<br>\n",
    "And when there's no communication-service, and the user's application has access to hardware-modules in the PXI chassis.\n",
    "\n",
    "In the first case, when there's a LAN communication, this example uses the class `TEVisaInst` from `tevisainst`.<br>\n",
    "\n",
    "In the second case, this example uses the classes `TEProteusAdmin` and `TEProteusInst` from `teproteus`."
   ]
  },
  {
   "cell_type": "markdown",
   "metadata": {},
   "source": [
    "## Connect to instrument and initialize"
   ]
  },
  {
   "cell_type": "code",
   "execution_count": 3,
   "metadata": {},
   "outputs": [
    {
     "data": {
      "application/vnd.jupyter.widget-view+json": {
       "model_id": "c0a9d6a893754e789b9c7f40816b9179",
       "version_major": 2,
       "version_minor": 0
      },
      "text/plain": [
       "Text(value='', description='Address:', placeholder='IP Address or Slot Id')"
      ]
     },
     "metadata": {},
     "output_type": "display_data"
    },
    {
     "data": {
      "application/vnd.jupyter.widget-view+json": {
       "model_id": "f79f73af0f344ca4a76f6c93351a7632",
       "version_major": 2,
       "version_minor": 0
      },
      "text/plain": [
       "Button(description='Connect', style=ButtonStyle())"
      ]
     },
     "metadata": {},
     "output_type": "display_data"
    },
    {
     "data": {
      "application/vnd.jupyter.widget-view+json": {
       "model_id": "b08ebcbec2614a628d986cfcb8ec4d2f",
       "version_major": 2,
       "version_minor": 0
      },
      "text/plain": [
       "Button(description='Disconnect', style=ButtonStyle())"
      ]
     },
     "metadata": {},
     "output_type": "display_data"
    },
    {
     "data": {
      "application/vnd.jupyter.widget-view+json": {
       "model_id": "4a94529ab2f8496691a34b52acda67d3",
       "version_major": 2,
       "version_minor": 0
      },
      "text/plain": [
       "Output()"
      ]
     },
     "metadata": {},
     "output_type": "display_data"
    }
   ],
   "source": [
    "# Connect to instrument\n",
    "\n",
    "inst = None\n",
    "admin = None\n",
    "\n",
    "conn_msg_str = ''\n",
    "\n",
    "def disconnect():\n",
    "    global inst\n",
    "    global admin\n",
    "    if inst is not None:\n",
    "        try:\n",
    "            inst.close_instrument()            \n",
    "        except:\n",
    "            pass\n",
    "        inst = None\n",
    "    if admin is not None:\n",
    "        try:\n",
    "            admin.close_inst_admin()\n",
    "        except:\n",
    "            pass\n",
    "        admin = None\n",
    "    gc.collect()\n",
    "\n",
    "def connect_to_pxi_slot(slot_id):\n",
    "    global inst\n",
    "    global admin\n",
    "    try:\n",
    "        disconnect()        \n",
    "        admin = TEProteusAdmin()\n",
    "        admin.open_inst_admin()        \n",
    "        inst = admin.open_instrument(slot_id, reset_hot_flag=True)\n",
    "    except:\n",
    "        pass\n",
    "\n",
    "def connect_to_lan_server(ip_address):\n",
    "    global inst\n",
    "    try:\n",
    "        disconnect()\n",
    "        inst = TEVisaInst(ip_address, port=5025)\n",
    "    except:\n",
    "        pass\n",
    "\n",
    "def connect(ipaddr_or_slotid):\n",
    "    try:\n",
    "        disconnect()\n",
    "        if isinstance(ipaddr_or_slotid, str) and '.' in ipaddr_or_slotid:\n",
    "            connect_to_lan_server(ipaddr_or_slotid)\n",
    "        else:\n",
    "            connect_to_pxi_slot(ipaddr_or_slotid)\n",
    "    except:\n",
    "        pass\n",
    "\n",
    "addr_textbox = widgets.Text(\n",
    "    value='',\n",
    "    placeholder='IP Address or Slot Id',\n",
    "    description='Address:',\n",
    "    disabled=False\n",
    ")\n",
    "\n",
    "output = widgets.Output()\n",
    "\n",
    "def print_conn_message(msg_str):\n",
    "    global output\n",
    "    global conn_msg_str\n",
    "    with output:\n",
    "        if len(conn_msg_str) > 0:\n",
    "            print('\\r', end='')\n",
    "            print(' ' * len(conn_msg_str), end='')\n",
    "            print('\\r', end='')\n",
    "        conn_msg_str = str(msg_str)\n",
    "        if len(conn_msg_str) > 0:\n",
    "            print(conn_msg_str, end='')\n",
    "\n",
    "def on_button_connect_clicked(b):\n",
    "    global inst\n",
    "    global addr_textbox\n",
    "    print_conn_message('')\n",
    "    disconnect()\n",
    "    if addr_textbox is not None:\n",
    "        conn_str = addr_textbox.value\n",
    "        if conn_str:\n",
    "            print_conn_message('Connecting to {0} ..'.format(conn_str))\n",
    "            connect(conn_str)\n",
    "            print_conn_message('')\n",
    "    if inst is not None:\n",
    "        idn_str = inst.send_scpi_query('*IDN?')\n",
    "        if idn_str:\n",
    "            print_conn_message('Connected to: ' + idn_str.strip())\n",
    "    \n",
    "def on_button_disconnect_clicked(b):\n",
    "    print_conn_message('')\n",
    "    disconnect()\n",
    "\n",
    "btn_connect = widgets.Button(description=\"Connect\")\n",
    "btn_disconnect = widgets.Button(description=\"Disconnect\")\n",
    "\n",
    "btn_connect.on_click(on_button_connect_clicked)\n",
    "btn_disconnect.on_click(on_button_disconnect_clicked)\n",
    "\n",
    "display(addr_textbox, btn_connect, btn_disconnect, output)"
   ]
  },
  {
   "cell_type": "code",
   "execution_count": 4,
   "metadata": {},
   "outputs": [],
   "source": [
    "connect('192.168.0.117')"
   ]
  },
  {
   "cell_type": "markdown",
   "metadata": {},
   "source": [
    "## Open communication to instrument in chassis"
   ]
  },
  {
   "cell_type": "code",
   "execution_count": 5,
   "metadata": {},
   "outputs": [
    {
     "name": "stdout",
     "output_type": "stream",
     "text": [
      "Connected to: Tabor Electronics,P9484M,000000000000,1.235.0 --slot#: 5, \n",
      "Model: P9484M\n",
      "M0\n",
      "DAC mode 16 bits\n",
      "0, no error\n",
      "Number of channels: 4\n",
      "Max segment number: 65536\n",
      "Available memory per DDR: 17,171,434,432 wave-bytes\n"
     ]
    }
   ],
   "source": [
    "# Get the instrument's *IDN\n",
    "resp = inst.send_scpi_query('*IDN?')\n",
    "print('Connected to: ' + resp)\n",
    "\n",
    "# Get the model name\n",
    "resp = inst.send_scpi_query(\":SYST:iNF:MODel?\")\n",
    "print(\"Model: \" + resp)\n",
    "\n",
    "model = resp\n",
    "\n",
    "# Get the DAC mode (8 bits or 16 bits)\n",
    "resp = inst.send_scpi_query(':SYST:INF:DAC?')\n",
    "print(resp)\n",
    "\n",
    "if resp == 'M0':\n",
    "    dac_mode = 16 \n",
    "else:\n",
    "    dac_mode = 8\n",
    "\n",
    "print('DAC mode {0} bits'.format(dac_mode))\n",
    "\n",
    "\n",
    "if dac_mode == 16:\n",
    "    max_dac = 65535\n",
    "    data_type = np.uint16 \n",
    "else:\n",
    "    max_dac = 255\n",
    "    data_type = np.uint8 \n",
    "    \n",
    "half_dac = max_dac // 2.0\n",
    "\n",
    "# Several initializations ..\n",
    "inst.send_scpi_cmd('*CLS; *RST')\n",
    "inst.send_scpi_cmd(':INST:CHAN 1')\n",
    "inst.send_scpi_cmd(':TRAC:DEL:ALL')\n",
    "resp = inst.send_scpi_query(':SYST:ERR?')\n",
    "print(resp)\n",
    "\n",
    "# Get number of channels\n",
    "resp = inst.send_scpi_query(\":INST:CHAN? MAX\")\n",
    "print(\"Number of channels: \" + resp)\n",
    "num_channels = int(resp)\n",
    "\n",
    "# Get the maximal number of segments\n",
    "resp = inst.send_scpi_query(\":TRACe:SELect:SEGMent? MAX\")\n",
    "print(\"Max segment number: \" + resp)\n",
    "max_seg_number = int(resp)\n",
    "\n",
    "# Get the available memory in bytes of wavform-data (per DDR):\n",
    "resp = inst.send_scpi_query(\":TRACe:FREE?\")\n",
    "arbmem_capacity = int(resp)\n",
    "print(\"Available memory per DDR: {0:,} wave-bytes\".format(arbmem_capacity))\n"
   ]
  },
  {
   "cell_type": "code",
   "execution_count": 6,
   "metadata": {},
   "outputs": [
    {
     "name": "stdout",
     "output_type": "stream",
     "text": [
      "DAC Generate Freq:9000000000.0\n"
     ]
    }
   ],
   "source": [
    "FREQ = 9000\n",
    "inst.send_scpi_cmd(\":FREQ:RAST {0}MHz\".format(FREQ))\n",
    "resp = inst.send_scpi_query(\":FREQ:RAST?\")\n",
    "freq = float(resp)\n",
    "print (\"DAC Generate Freq:{0}\".format(freq))"
   ]
  },
  {
   "cell_type": "markdown",
   "metadata": {},
   "source": [
    "## Prepare wave-data and markers-data for 12 segments\n",
    "\n",
    "Prepare three types of waveforms, sine, triangle and square with varying number of cycles. \n",
    "Prepare marker for each waveform.\n"
   ]
  },
  {
   "cell_type": "code",
   "execution_count": 7,
   "metadata": {},
   "outputs": [
    {
     "name": "stdout",
     "output_type": "stream",
     "text": [
      "Done\n"
     ]
    }
   ],
   "source": [
    "#Set number of waveform segments to build\n",
    "NumofSegments = 1\n",
    "\n",
    "waves = [ None for _ in range(NumofSegments)]\n",
    "marks = [ None for _ in range(NumofSegments)]\n",
    "\n",
    "#Set segment length\n",
    "seglen = 2 ** 12 # 1MB\n",
    "num_cycles = [2 ** n for n in range(NumofSegments)]\n",
    "\n",
    "if dac_mode == 16:\n",
    "    seg_wave_bytes = seglen * 2\n",
    "else:\n",
    "    seg_wave_bytes = seglen\n",
    "\n",
    "seg_mark_bytes = seg_wave_bytes // 8\n",
    "\n",
    "for ii in range(NumofSegments):\n",
    "    ncycles = num_cycles[ii]\n",
    "    cyclelen = seglen / ncycles\n",
    "    \n",
    "    #Prepare Sine wave\n",
    "    if ii % 3 == 0:\n",
    "        x = np.linspace(start=0, stop=2 * np.pi * ncycles, num=seglen, endpoint=False)\n",
    "        y = (np.sin(x) + 1.0) * half_dac\n",
    "        y = np.round(y)\n",
    "        y = np.clip(y, 0, max_dac)\n",
    "        if dac_mode == 16:\n",
    "            waves[ii] = y.astype(np.uint16)\n",
    "        else:\n",
    "            waves[ii] = y.astype(np.uint8)\n",
    "    \n",
    "    #Prepare triangle waveform\n",
    "    if ii % 3 == 1:\n",
    "        x = np.linspace(start=0, stop=2 * np.pi * ncycles, num=seglen, endpoint=False)\n",
    "        y = np.sin(x)\n",
    "        y = np.arcsin(y)* 2 * half_dac / np.pi + half_dac\n",
    "        y = np.round(y)\n",
    "        y = np.clip(y, 0, max_dac)\n",
    "        if dac_mode == 16:\n",
    "            waves[ii] = y.astype(np.uint16)\n",
    "        else:\n",
    "            waves[ii] = y.astype(np.uint8)\n",
    "    \n",
    "    #Prepare square waveform\n",
    "    if ii % 3 == 2:\n",
    "        x = np.linspace(start=0, stop=seglen, num=seglen, endpoint=False)\n",
    "        y = np.fmod(x, cyclelen)\n",
    "        y = (y <= cyclelen / 2) * max_dac\n",
    "        y = np.round(y)\n",
    "        y = np.clip(y, 0, max_dac)\n",
    "        if dac_mode == 16:\n",
    "            waves[ii] = y.astype(np.uint16)\n",
    "        else:\n",
    "            waves[ii] = y.astype(np.uint8)\n",
    "    \n",
    "    \n",
    "    #Prepare marker\n",
    "    if dac_mode == 16:\n",
    "        cycle_bytes = cyclelen // 4\n",
    "    else:\n",
    "        cycle_bytes = cyclelen // 8\n",
    "    \n",
    "    x = np.linspace(start=0, stop=seg_mark_bytes, num=seg_mark_bytes, endpoint=False)\n",
    "    y = np.fmod(x, cycle_bytes)\n",
    "    y = (y <= cycle_bytes / 2) * 255\n",
    "    y = np.round(y)\n",
    "    y = np.clip(y, 0, 255)\n",
    "    marks[ii] = y.astype(np.uint8)\n",
    "    \n",
    "    #\n",
    "    \n",
    "    del x, y\n",
    "    \n",
    "print('Done')   \n",
    " \n",
    "    \n"
   ]
  },
  {
   "cell_type": "markdown",
   "metadata": {},
   "source": [
    "## Download wave-data and markers-data to segments"
   ]
  },
  {
   "cell_type": "code",
   "execution_count": 8,
   "metadata": {},
   "outputs": [
    {
     "name": "stdout",
     "output_type": "stream",
     "text": [
      "4 16 P9484M\n",
      "4\n",
      "Download wave to segment 1 of channel 1\n",
      "Download markers to segment 1 of channel 1\n",
      "ERROR: \"219, invalid data size\" after writing binary values\n",
      "219, invalid data size\n",
      "Download wave to segment 1 of channel 2\n",
      "Download markers to segment 1 of channel 2\n",
      "ERROR: \"219, invalid data size\" after writing binary values\n",
      "219, invalid data size\n",
      "Download wave to segment 1 of channel 3\n",
      "Download markers to segment 1 of channel 3\n",
      "ERROR: \"219, invalid data size\" after writing binary values\n",
      "219, invalid data size\n",
      "Download wave to segment 1 of channel 4\n",
      "Download markers to segment 1 of channel 4\n",
      "ERROR: \"219, invalid data size\" after writing binary values\n",
      "219, invalid data size\n",
      "0, no error\n"
     ]
    }
   ],
   "source": [
    "#num_channels = num_channels/2 if (dac_mode == 8 && 'P908' in model) else num_channels\n",
    "\n",
    "print(num_channels, dac_mode, model)\n",
    "\n",
    "if (dac_mode == 8 and 'P908' not in model):\n",
    "    num_channels = num_channels/2\n",
    "\n",
    "print(num_channels)\n",
    "\n",
    "for jj in range(int(num_channels)):\n",
    "    \n",
    "    channb = jj+1\n",
    "    \n",
    "    for ii in range(NumofSegments):\n",
    "                \n",
    "        segnum = 1 + ii\n",
    "        wav = waves[ii]\n",
    "        mrk = marks[ii]\n",
    "        print('Download wave to segment {0} of channel {1}'.format(segnum, channb))\n",
    "\n",
    "        # Select channel\n",
    "        cmd = ':INST:CHAN {0}'.format(channb)\n",
    "        inst.send_scpi_cmd(cmd)\n",
    "\n",
    "        # Define segment\n",
    "        cmd = ':TRAC:DEF {0}, {1}'.format(segnum, seglen)\n",
    "        inst.send_scpi_cmd(cmd)  \n",
    "        # Select the segment\n",
    "        cmd = ':TRAC:SEL {0}'.format(segnum)\n",
    "        inst.send_scpi_cmd(cmd)\n",
    "\n",
    "        # Increase the timeout before writing binary-data:\n",
    "        inst.timeout = 30000\n",
    "\n",
    "        # Send the binary-data with *OPC? added to the beginning of its prefix.\n",
    "        inst.write_binary_data(':TRAC:DATA', wav)\n",
    "\n",
    "\n",
    "        # Set normal timeout\n",
    "        inst.timeout = 10000;\n",
    "\n",
    "        resp = inst.send_scpi_query(':SYST:ERR?')\n",
    "        resp = resp.rstrip()\n",
    "        if not resp.startswith('0'):\n",
    "            print('ERROR: \"{0}\" after writing binary values'.format(resp))\n",
    "\n",
    "        print('Download markers to segment {0} of channel {1}'.format(segnum, channb))\n",
    "\n",
    "        # Increase the timeout before writing binary-data:\n",
    "        inst.timeout = 30000\n",
    "\n",
    "        # Send the binary-data with *OPC? added to the beginning of its prefix.\n",
    "        inst.write_binary_data(':MARK:DATA', mrk)\n",
    "\n",
    "        # Read the response to the *OPC? query that was added to the prefix of the binary data\n",
    "        #resp = inst.read()\n",
    "\n",
    "        # Set normal timeout\n",
    "        inst.timeout = 10000\n",
    "\n",
    "        resp = inst.send_scpi_query(':SYST:ERR?')\n",
    "        resp = resp.rstrip()\n",
    "        if not resp.startswith('0'):\n",
    "            print('ERROR: \"{0}\" after writing binary values'.format(resp))\n",
    "\n",
    "\n",
    "        # Play the specified segment at the selected channel:\n",
    "        cmd = ':SOUR:FUNC:MODE:SEGM {0}'.format(segnum)\n",
    "        inst.send_scpi_cmd(cmd)\t    \n",
    "\n",
    "        # Turn on the output of the selected channel:\n",
    "        cmd = ':OUTP ON'\n",
    "        inst.send_scpi_cmd(cmd) \n",
    "\n",
    "        resp = inst.send_scpi_query(':SYST:ERR?')\n",
    "        print(resp)\n",
    "\n",
    "resp = inst.send_scpi_query(':SYST:ERR?')\n",
    "print(resp)\n",
    "\n",
    "del waves\n",
    "del wav\n",
    "\n"
   ]
  },
  {
   "cell_type": "markdown",
   "metadata": {},
   "source": [
    "## Load task table"
   ]
  },
  {
   "cell_type": "code",
   "execution_count": 9,
   "metadata": {},
   "outputs": [
    {
     "name": "stdout",
     "output_type": "stream",
     "text": [
      "Downloading Task table of channel 1\n",
      "0, no error\n",
      "Downloading Task table of channel 2\n",
      "0, no error\n",
      "Downloading Task table of channel 3\n",
      "0, no error\n",
      "Downloading Task table of channel 4\n",
      "0, no error\n"
     ]
    }
   ],
   "source": [
    "tasklen = 6\n",
    "\n",
    "for ii in range(int(num_channels)):\n",
    "    channb=ii+1\n",
    "    #Select channel\n",
    "    cmd = ':INST:CHAN {0}'.format(channb)\n",
    "    inst.send_scpi_cmd(cmd )\n",
    "    \n",
    "    cmd = ':TASK:COMP:LENG {0}'.format(tasklen)\n",
    "    inst.send_scpi_cmd(cmd )\n",
    "    \n",
    "    for jj in range(tasklen):\n",
    "        curr_task = jj+1\n",
    "        loop = jj+1\n",
    "        segnb = jj+1\n",
    "        cmd = ':TASK:COMP:SEL {0}'.format(curr_task)\n",
    "        inst.send_scpi_cmd(cmd )\n",
    "       \n",
    "        cmd = ':TASK:COMP:TYPE SING'\n",
    "        inst.send_scpi_cmd(cmd )\n",
    "       \n",
    "        cmd = ':TASK:COMP:LOOP {0}'.format(loop)\n",
    "        inst.send_scpi_cmd(cmd )\n",
    "       \n",
    "        cmd = ':TASK:COMP:SEGM {0}'.format(segnb)\n",
    "        inst.send_scpi_cmd(cmd )\n",
    "       \n",
    "        if curr_task==tasklen:\n",
    "            cmd = ':TASK:COMP:NEXT1 {0}'.format(1)\n",
    "            inst.send_scpi_cmd(cmd)\n",
    "        else:\n",
    "            cmd = ':TASK:COMP:NEXT1 {0}'.format(curr_task+1)\n",
    "            inst.send_scpi_cmd(cmd )\n",
    "    \n",
    "    cmd = ':TASK:COMP:WRIT'\n",
    "    inst.send_scpi_cmd(cmd )\n",
    "    print('Downloading Task table of channel {0}'.format(channb))\n",
    "    \n",
    "    resp = inst.send_scpi_query(':SYST:ERR?')\n",
    "    print(resp)\n",
    "\n",
    " "
   ]
  },
  {
   "cell_type": "markdown",
   "metadata": {},
   "source": [
    "## Switch to Task mode and turn on channel and marker outputs"
   ]
  },
  {
   "cell_type": "code",
   "execution_count": 10,
   "metadata": {},
   "outputs": [],
   "source": [
    "for ii in range(int(num_channels)):\n",
    "    \n",
    "    channb=ii+1\n",
    "    \n",
    "    cmd = ':INST:CHAN {0}'.format(channb)\n",
    "    inst.send_scpi_cmd(cmd)\n",
    "    \n",
    "    cmd = ':OUTP ON'\n",
    "    inst.send_scpi_cmd(cmd)\n",
    "    \n",
    "    #cmd = 'volt MAX';\n",
    "    #inst.send_scpi_cmd(cmd)\n",
    "    \n",
    "    cmd = 'FUNC:MODE TASK'\n",
    "    inst.send_scpi_cmd(cmd)\n",
    "    \n",
    "    if dac_mode==16:\n",
    "        \n",
    "        for jj in range(2):\n",
    "        \n",
    "            mrk = jj+1\n",
    "        \n",
    "            cmd = ':MARK:SEL {0}'.format(mrk)\n",
    "            inst.send_scpi_cmd(cmd)\n",
    "        \n",
    "            cmd = ':MARK ON'\n",
    "            inst.send_scpi_cmd(cmd)\n",
    "            \n",
    "    elif dac_mode==8:\n",
    "            \n",
    "        for jj in range(4):\n",
    "\n",
    "            mrk = jj+1\n",
    "\n",
    "            cmd = ':MARK:SEL {0}'.format(mrk)\n",
    "            inst.send_scpi_cmd(cmd)\n",
    "\n",
    "            cmd = ':MARK ON'\n",
    "            inst.send_scpi_cmd(cmd)   \n",
    "            \n",
    "        "
   ]
  },
  {
   "cell_type": "markdown",
   "metadata": {},
   "source": [
    "## End"
   ]
  },
  {
   "cell_type": "code",
   "execution_count": 11,
   "metadata": {},
   "outputs": [],
   "source": [
    "# close connection\n",
    "disconnect()"
   ]
  }
 ],
 "metadata": {
  "kernelspec": {
   "display_name": "Python 3",
   "language": "python",
   "name": "python3"
  },
  "language_info": {
   "codemirror_mode": {
    "name": "ipython",
    "version": 3
   },
   "file_extension": ".py",
   "mimetype": "text/x-python",
   "name": "python",
   "nbconvert_exporter": "python",
   "pygments_lexer": "ipython3",
   "version": "3.8.5"
  }
 },
 "nbformat": 4,
 "nbformat_minor": 4
}
