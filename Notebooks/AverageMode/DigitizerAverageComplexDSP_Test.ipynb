{
 "cells": [
  {
   "cell_type": "markdown",
   "metadata": {},
   "source": [
    "# Average Mode DSP Paths\n",
    "\n",
    "\n",
    "The script demonstrates the use of average mode. The first sections connects & configures the system \n",
    "and sets the waveform generator. The latter sections define the average mode setting & digitizer sampling operation. \n",
    "The generator is configured on Channel-1, the signal is defined through a task table which consists of single cycle of \"sin\" wave followed by a \"dc\" quiet time.\n",
    "An additional marker is defined on Marker-1 of channel 1 - currently in the half time of the active signal.\n",
    "\n",
    "The digitizer is also configured on the input channel-1, so some loopback is required for the testing.\n",
    "Starting from section: 'Average Mode Parameters', the average mode setting are defined \n",
    "and consists of the following:\n",
    "\n",
    "#### Average Count up 1-16M\n",
    "AvgCount=100000\n",
    "#### Frame Size 1-4080 (For complex mode)\n",
    "frame_size = 4080 \n",
    "####  number_of_frames =1 : Should be fixed one.\n",
    "\n",
    "In order to repeat tests with different parameters, you only need to replay sections starting from section: 'Average Mode Parameters'.\n",
    "A background parameter called the AverageMSBShift - is set to be the log2 of the AvgCount parameter since the summing accumlators are limted to 36 bit. \n",
    "\n",
    "The resulting data is displayed in a \"raw\" & normalized forms at the end.\n",
    "\n",
    "\n"
   ]
  },
  {
   "cell_type": "markdown",
   "metadata": {},
   "source": [
    "## Digitizer & Average Mode Configurations"
   ]
  },
  {
   "cell_type": "code",
   "execution_count": 1,
   "metadata": {},
   "outputs": [
    {
     "name": "stdout",
     "output_type": "stream",
     "text": [
      "Digitizer NCO is 100.0 Mhz\n"
     ]
    }
   ],
   "source": [
    "#Digitizer Average Mode Settings \n",
    "##################################\n",
    "#Average Count up 1-16M\n",
    "AvgState = 'ON'\n",
    "AvgCount=100000\n",
    "\n",
    "number_of_frames =1 # Should be fixed one.\n",
    "frame_size =  4080\n",
    "##################################\n",
    "\n",
    "DIG_SCLK = 2250e6\n",
    "SCLK = DIG_SCLK * 4\n",
    "\n",
    "DUC_NCO=100e6\n",
    "DDC_NCO=100e6\n",
    "full_scale = \"HIGH\"\n",
    "print('Digitizer NCO is {0} Mhz'.format(DDC_NCO / 1e6))\n",
    "\n",
    "\n"
   ]
  },
  {
   "cell_type": "code",
   "execution_count": 2,
   "metadata": {},
   "outputs": [],
   "source": [
    "#Digitizer Average Mode Settings \n",
    "##################################\n",
    "#Average Count up 1-16M\n",
    "#Max Frame Size 1-10240\n",
    "\n",
    "#Single Normal  mode - divide by 96 ~12 (e.g \n",
    "#Dual Normal  mode - divide by 48 ~6 (e.g 5000, 5024)\n",
    "#Dual Normal FFT/Complex mode - divide by 24 ~6 & ~8(e.g 5118, 5106, 4992)\n",
    "#Single Average Real mode - divide by 40 ~10 (e.g 5120, 5100)\n",
    "#Dual Average Real mode - divide by 20 ~5 (e.g 5120, 5100)\n",
    "#Dual Average Complex mode - divide by 16 ~5 (e.g 5120,5100)\n",
    "\n",
    "\n",
    "##################################\n",
    "\n"
   ]
  },
  {
   "cell_type": "code",
   "execution_count": 3,
   "metadata": {
    "scrolled": true
   },
   "outputs": [],
   "source": [
    "import os\n",
    "import sys\n",
    "import gc\n",
    "srcpath = os.path.realpath('../../SourceFiles')\n",
    "sys.path.append(srcpath)\n",
    "from teproteus import TEProteusAdmin as TepAdmin\n",
    "from teproteus import TEProteusInst as TepInst\n",
    "from tevisainst import TEVisaInst"
   ]
  },
  {
   "cell_type": "code",
   "execution_count": 4,
   "metadata": {},
   "outputs": [],
   "source": [
    "import numpy as np\n",
    "import time\n",
    "import ipywidgets as widgets\n",
    "from IPython.core.debugger import set_trace\n",
    "from scipy.signal import chirp, sweep_poly\n",
    "import matplotlib.pyplot as plt\n",
    "\n",
    "lib_dir_path_= r'C:\\Work_Svn\\ProtuesAwg_Alice\\x64\\Debug'\n"
   ]
  },
  {
   "cell_type": "code",
   "execution_count": 5,
   "metadata": {},
   "outputs": [],
   "source": [
    "# Connect to instrument\n",
    "\n",
    "inst = None\n",
    "admin = None\n",
    "\n",
    "conn_msg_str = ''\n",
    "\n",
    "def disconnect():\n",
    "    global inst\n",
    "    global admin\n",
    "    if inst is not None:\n",
    "        try:\n",
    "            inst.close_instrument()            \n",
    "        except:\n",
    "            pass\n",
    "        inst = None\n",
    "    if admin is not None:\n",
    "        try:\n",
    "            admin.close_inst_admin()\n",
    "        except:\n",
    "            pass\n",
    "        admin = None\n",
    "    gc.collect()\n",
    "\n",
    "def connect_to_pxi_slot(slot_id):\n",
    "    global inst\n",
    "    global admin\n",
    "    try:\n",
    "        disconnect()        \n",
    "        print(\"Trying to connect to PXI-slot:\" + str(slot_id))\n",
    "        admin = TepAdmin(lib_dir_path= lib_dir_path_)\n",
    "        admin.open_inst_admin()        \n",
    "        inst = admin.open_instrument(slot_id, reset_hot_flag=True)\n",
    "    except:\n",
    "        pass\n",
    "\n",
    "def connect_to_lan_server(ip_address):\n",
    "    global inst\n",
    "    try:\n",
    "        disconnect()\n",
    "        print(\"Trying to connect to IP:\" + ip_address)\n",
    "        inst = TEVisaInst(ip_address, port=5025)\n",
    "    except:\n",
    "        pass\n",
    "\n",
    "def connect(ipaddr_or_slotid):\n",
    "    try:\n",
    "        disconnect()\n",
    "        if isinstance(ipaddr_or_slotid, str) and '.' in ipaddr_or_slotid:\n",
    "            connect_to_lan_server(ipaddr_or_slotid)\n",
    "        else:\n",
    "            connect_to_pxi_slot(ipaddr_or_slotid)\n",
    "    except:\n",
    "        pass\n",
    "\n",
    "addr_textbox = widgets.Text(\n",
    "    value='',\n",
    "    placeholder='IP Address or Slot Id',\n",
    "    description='Address:',\n",
    "    disabled=False\n",
    ")\n",
    "\n",
    "output = widgets.Output()\n",
    "\n",
    "def print_conn_message(msg_str):\n",
    "    global output\n",
    "    global conn_msg_str\n",
    "    with output:\n",
    "        if len(conn_msg_str) > 0:\n",
    "            print('\\r', end='')\n",
    "            print(' ' * len(conn_msg_str), end='')\n",
    "            print('\\r', end='')\n",
    "        conn_msg_str = str(msg_str)\n",
    "        if len(conn_msg_str) > 0:\n",
    "            print(conn_msg_str, end='')\n",
    "\n",
    "def on_button_connect_clicked(conn_str):\n",
    "    global inst\n",
    "    global addr_textbox\n",
    "    print_conn_message('')\n",
    "    disconnect()\n",
    "    if addr_textbox is not None:\n",
    "        conn_str = addr_textbox.value \n",
    "        if conn_str:\n",
    "            print_conn_message('Connecting to {0} ..'.format(conn_str))\n",
    "            connect(conn_str)\n",
    "            print_conn_message('')\n",
    "    if inst is not None:\n",
    "        idn_str = inst.send_scpi_query('*IDN?')\n",
    "        model = inst.send_scpi_query(\":SYST:iNF:MODel?\")\n",
    "        if idn_str:\n",
    "            prnmsg = 'Connected to: ' + idn_str.strip()\n",
    "            print_conn_message(prnmsg)\n",
    "            #print_conn_message('Connected to: ' + idn_str.strip())\n",
    "            \n",
    "    else:\n",
    "        print_conn_message('Instrument not connected..')\n",
    "    \n"
   ]
  },
  {
   "cell_type": "code",
   "execution_count": 8,
   "metadata": {
    "scrolled": true
   },
   "outputs": [
    {
     "name": "stdout",
     "output_type": "stream",
     "text": [
      "Trying to connect to IP:192.168.0.42\n",
      "Connected to: Tabor Electronics,P9484,000000000000,1.222.0\n",
      "process id 16168\n",
      "\n",
      "Model: P9484\n",
      "DAC waveform format: 16 bits-per-point\n",
      "16\n"
     ]
    }
   ],
   "source": [
    "connect(\"192.168.0.42\")\n",
    "\n",
    "#connect(\"8\")\n",
    "\n",
    "\n",
    "if inst is not None:\n",
    "        idn_str = inst.send_scpi_query('*IDN?')\n",
    "        model = inst.send_scpi_query(\":SYST:iNF:MODel?\")\n",
    "        if idn_str:\n",
    "            prnmsg = 'Connected to: ' + idn_str.strip()\n",
    "            print(prnmsg)\n",
    "else:\n",
    "    print(\"Not connected\")\n",
    "\n",
    "pid = os.getpid()\n",
    "print('process id {0}'.format(pid))\n",
    "\n",
    "inst.send_scpi_cmd(':TRAC:DEL:ALL')\n",
    "paranoia_level =2\n",
    "\n",
    "model = inst.send_scpi_query(\":SYST:iNF:MODel?\")\n",
    "print(\"\\nModel: \" + model)\n",
    "# Infer the natural DAC waveform format\n",
    "if 'P9082' in model:\n",
    "    dac_mode = 8\n",
    "else:\n",
    "    dac_mode = 16\n",
    "print(\"DAC waveform format: {0} bits-per-point\".format(dac_mode))\n",
    "\n",
    "if dac_mode == 16:\n",
    "    max_dac = 65535\n",
    "    data_type = np.uint16 \n",
    "else:\n",
    "    max_dac = 255\n",
    "    data_type = np.uint8 \n",
    "    \n",
    "half_dac = max_dac / 2.0\n",
    "\n",
    "\n",
    "\n",
    "inst.send_scpi_cmd(\"*CLS; *RST\")\n",
    "\n",
    "inst.send_scpi_cmd(':TRAC:DEL:ALL')\n",
    "paranoia_level =2\n",
    "\n",
    "    \n",
    "print(dac_mode)"
   ]
  },
  {
   "cell_type": "code",
   "execution_count": 9,
   "metadata": {},
   "outputs": [
    {
     "name": "stdout",
     "output_type": "stream",
     "text": [
      "0, no error\n"
     ]
    }
   ],
   "source": [
    "inst.send_scpi_cmd(':FREQ:RAST {0}'.format(2500e6))\n",
    "#inst.send_scpi_cmd(':FREQ:RAST {0}'.format(SCLK))\n",
    "inst.send_scpi_cmd(':INT X{0}'.format(8))\n",
    "inst.send_scpi_cmd(':MODE DUC')\n",
    "inst.send_scpi_cmd(':IQM ONE')\n",
    "inst.send_scpi_cmd(':NCO:CFR1 {0}'.format(DUC_NCO))\n",
    "inst.send_scpi_cmd(':NCO:SIXD1 ON') # ON|OFF\n",
    "inst.send_scpi_cmd(':ROSC:SOUR INT')\n",
    "inst.send_scpi_cmd(':FREQ:RAST {0}'.format(SCLK))\n",
    "\n",
    "inst.send_scpi_cmd(':INST:CHAN {0}'.format(1))\n",
    "inst.send_scpi_cmd(':OUTP:VOLT {0}'.format('0.4'))\n",
    "inst.send_scpi_cmd(':INIT:CONT ON')\n",
    "#inst.send_scpi_cmd(':TRAC:DEL:ALL')\n",
    "\n",
    "resp = inst.send_scpi_query(':SYST:ERR?')\n",
    "print(resp)\n",
    "\n",
    "\n",
    "\n",
    "#inst.send_scpi_cmd(\":INST:CHAN 1\")\n",
    "#inst.send_scpi_cmd(\":FREQ:RAST {0}\".format(freq))\n",
    "#inst.send_scpi_cmd(\":INIT:CONT ON\")\n",
    "\n"
   ]
  },
  {
   "cell_type": "code",
   "execution_count": 10,
   "metadata": {},
   "outputs": [
    {
     "name": "stdout",
     "output_type": "stream",
     "text": [
      "9000000000.000\n",
      "DUC\n",
      "ONE\n",
      "X8\n",
      "100000000.000\n"
     ]
    }
   ],
   "source": [
    "resp = inst.send_scpi_query(':FREQ:RAST?')\n",
    "print(resp)\n",
    "resp = inst.send_scpi_query(':MODE?')\n",
    "print(resp)\n",
    "resp = inst.send_scpi_query(':IQM?')\n",
    "print(resp)\n",
    "resp = inst.send_scpi_query(':INT?')\n",
    "print(resp)\n",
    "resp = inst.send_scpi_query(':NCO:CFR1?')\n",
    "print(resp)"
   ]
  },
  {
   "cell_type": "markdown",
   "metadata": {},
   "source": [
    "## DC - Waveform 1 (Task 1)"
   ]
  },
  {
   "cell_type": "code",
   "execution_count": 11,
   "metadata": {},
   "outputs": [
    {
     "name": "stdout",
     "output_type": "stream",
     "text": [
      "2\n",
      "0, no error\n"
     ]
    },
    {
     "data": {
      "text/plain": [
       "[<matplotlib.lines.Line2D at 0x2200059a4c0>]"
      ]
     },
     "execution_count": 11,
     "metadata": {},
     "output_type": "execute_result"
    },
    {
     "data": {
      "image/png": "[encoded data removed]",
      "text/plain": [
       "<Figure size 432x288 with 1 Axes>"
      ]
     },
     "metadata": {
      "needs_background": "light"
     },
     "output_type": "display_data"
    }
   ],
   "source": [
    "cycleLen = 2048\n",
    "numCycles = 1\n",
    "segLen = cycleLen * numCycles\n",
    "\n",
    "# Build waveform (triangle wave)\n",
    "y = np.ones(segLen)* half_dac\n",
    "y = y.astype(data_type)\n",
    "y.reshape(-1)\n",
    "\n",
    "print(y.itemsize)\n",
    "# Set Data as Task 1\n",
    "#inst.send_scpi_cmd(':TRAC:DEF 1, {0}'.format(segLen*y.itemsize))\n",
    "inst.send_scpi_cmd(':TRAC:DEF 1, {0}'.format(segLen)) #*y.itemsize))\n",
    "inst.send_scpi_cmd(':TRAC:SEL 1')\n",
    "# download the waveform to the selected Task\n",
    "inst.write_binary_data(':TRAC:DATA', y)\n",
    "resp = inst.send_scpi_query(':SYST:ERR?')\n",
    "print(resp)\n",
    "\n",
    "plt.plot(y)\n"
   ]
  },
  {
   "cell_type": "markdown",
   "metadata": {},
   "source": [
    "## Signal Waveform-2 (Task 2)"
   ]
  },
  {
   "cell_type": "code",
   "execution_count": 12,
   "metadata": {},
   "outputs": [
    {
     "name": "stdout",
     "output_type": "stream",
     "text": [
      "Build wave-data and download it to Proteus device.\n",
      "0, no error\n"
     ]
    },
    {
     "data": {
      "text/plain": [
       "[<matplotlib.lines.Line2D at 0x2200068da90>]"
      ]
     },
     "execution_count": 12,
     "metadata": {},
     "output_type": "execute_result"
    },
    {
     "data": {
      "image/png": "[encoded data removed]",
      "text/plain": [
       "<Figure size 432x288 with 1 Axes>"
      ]
     },
     "metadata": {
      "needs_background": "light"
     },
     "output_type": "display_data"
    }
   ],
   "source": [
    "print('Build wave-data and download it to Proteus device.')\n",
    "# Build two AWG segment that will be used as innput for the digitizer\n",
    "paranoia_level = 2\n",
    "cycleLen = 1024\n",
    "numCycles = 4\n",
    "segLen = cycleLen * numCycles\n",
    "\n",
    "# Build sine waveform\n",
    "\n",
    "x = np.linspace(\n",
    "    start=0, stop=2 * np.pi * numCycles, num=segLen//2, endpoint=False)\n",
    "y1 = (0.5*np.sin(x) + 1.0) * half_dac\n",
    "y1 = np.round(y1)\n",
    "y1 = np.clip(y1, 0, max_dac)\n",
    "y1 = y1.astype(data_type)\n",
    "\n",
    "y2 = (0.5*np.cos(x) + 1.0) * half_dac\n",
    "y2 = np.round(y2)\n",
    "y2 = np.clip(y2, 0, max_dac)\n",
    "y2 = y2.astype(data_type)\n",
    "\n",
    "wave = np.zeros(segLen)\n",
    "wave[::2]= y1\n",
    "wave[1::2]= y2\n",
    "wave = wave.astype(data_type)\n",
    "\n",
    "#wavey.reshape(-1)\n",
    "# Download it to segment 1 of channel 1\n",
    "#inst.send_scpi_cmd( \":TRAC:DEF 2,\" + str(segLen*y.itemsize), paranoia_level)\n",
    "inst.send_scpi_cmd( \":TRAC:DEF 2,\" + str(segLen), paranoia_level)\n",
    "inst.send_scpi_cmd( \":TRAC:SEL 2\", paranoia_level)\n",
    "\n",
    "inst.write_binary_data(':TRAC:DATA',wave)\n",
    "resp = inst.send_scpi_query(':SYST:ERR?')\n",
    "print(resp)\n",
    "\n",
    "plt.plot(y1)\n",
    "plt.plot(y2)"
   ]
  },
  {
   "cell_type": "markdown",
   "metadata": {},
   "source": [
    "## Configure Tasks"
   ]
  },
  {
   "cell_type": "code",
   "execution_count": 13,
   "metadata": {},
   "outputs": [
    {
     "name": "stdout",
     "output_type": "stream",
     "text": [
      "Downloading Task table of channel 1\n",
      "0, no error\n"
     ]
    }
   ],
   "source": [
    "tak_half_dac = 0x80\n",
    "\n",
    "inst.send_scpi_cmd(':INST:CHAN 1')          # Select channel\n",
    "inst.send_scpi_cmd(':TASK:COMP:LENG 2')     # Set 2 Tasks in this Task Table\n",
    "\n",
    "\n",
    "inst.send_scpi_cmd(':TASK:COMP:ENAB CPU')    # CPU trigger is the task enable\n",
    "inst.send_scpi_cmd(':TASK:COMP:SEGM 1')      # play segment 1 (DC)\n",
    "inst.send_scpi_cmd(':TASK:COMP:IDLE:LEV {0}'.format(tak_half_dac))  # DC level while waiting to a trigger\n",
    "inst.send_scpi_cmd(':TASK:COMP:NEXT1 2')     # the next task is 2     \n",
    "    \n",
    "inst.send_scpi_cmd(':TASK:COMP:SEL 2')\n",
    "inst.send_scpi_cmd(':TASK:COMP:ENAB NONE')    # NONE trigger is the task enable\n",
    "inst.send_scpi_cmd(':TASK:COMP:ABORt CPU')    # CPU trigger is the task enable\n",
    "inst.send_scpi_cmd(':TASK:COMP:SEGM 2' )       # play segment 2 (Signal)\n",
    "inst.send_scpi_cmd(':TASK:COMP:TYPE SINGle' )\n",
    "inst.send_scpi_cmd(':TASK:COMP:DTRigger ON')   # issue a trigger to the ADC at start of segment\n",
    "#inst.send_scpi_cmd(':TASK:COMP:IDLE:LEV {0}'.format(task_half_dac))  # DC level while waiting to a trigger\n",
    "inst.send_scpi_cmd(':TASK:COMP:LOOP 100' )       # repeat the segment 1 time\n",
    "inst.send_scpi_cmd(':TASK:COMP:NEXT1 2')       # the next task is 3\n",
    "\n",
    "inst.send_scpi_cmd(':TASK:COMP:WRIT' )   \n",
    "print('Downloading Task table of channel 1')\n",
    "\n",
    " \n",
    "\n",
    "resp = inst.send_scpi_query(':SYST:ERR?')\n",
    "print(resp)\n"
   ]
  },
  {
   "cell_type": "markdown",
   "metadata": {},
   "source": [
    "# Start Channel 1 at Task mode"
   ]
  },
  {
   "cell_type": "code",
   "execution_count": 14,
   "metadata": {},
   "outputs": [
    {
     "name": "stdout",
     "output_type": "stream",
     "text": [
      "0, no error\n"
     ]
    },
    {
     "data": {
      "text/plain": [
       "0"
      ]
     },
     "execution_count": 14,
     "metadata": {},
     "output_type": "execute_result"
    }
   ],
   "source": [
    "# Enable channel 1\n",
    "inst.send_scpi_cmd(':INST:CHAN 1')\n",
    "inst.send_scpi_cmd(':SOUR:VOLT:OFFSET 0.0')\n",
    "#inst.send_scpi_cmd(':SOUR:VOLT: 0.0')\n",
    "inst.send_scpi_cmd(':SOUR:VOLT MAX')\n",
    "# Set Channel 1 to run task function\n",
    "inst.send_scpi_cmd('FUNC:MODE TASK')\n",
    "resp = inst.send_scpi_query(':SYST:ERR?')\n",
    "print(resp)\n",
    "inst.send_scpi_cmd(':OUTP ON')"
   ]
  },
  {
   "cell_type": "code",
   "execution_count": 15,
   "metadata": {},
   "outputs": [
    {
     "data": {
      "text/plain": [
       "0"
      ]
     },
     "execution_count": 15,
     "metadata": {},
     "output_type": "execute_result"
    }
   ],
   "source": [
    "\n",
    "## Test generatation of  1 M signal events.\n",
    "inst.send_scpi_cmd('*TRG')"
   ]
  },
  {
   "cell_type": "markdown",
   "metadata": {},
   "source": [
    "# Setup Digitizer"
   ]
  },
  {
   "cell_type": "code",
   "execution_count": 16,
   "metadata": {},
   "outputs": [],
   "source": [
    "#Digitizer Average Mode Settings \n",
    "##################################\n",
    "#Average Count up 1-16M\n",
    "AvgState = 'ON'\n",
    "frame_size = 4080\n",
    "AvgCount=50000"
   ]
  },
  {
   "cell_type": "code",
   "execution_count": 17,
   "metadata": {},
   "outputs": [
    {
     "name": "stdout",
     "output_type": "stream",
     "text": [
      "0, no error\n",
      "0, no error\n"
     ]
    }
   ],
   "source": [
    "#Clear DSP\n",
    "\n",
    "# Select to store the FFT out data on memory 1\n",
    "inst.send_scpi_cmd(':DSP:STOR1 DIR1') # DIRect1 | DIRect2 | DSP1 | DSP2 | DSP3 | DSP4| FFTIn | FFTOut\n",
    "resp = inst.send_scpi_query(':SYST:ERR?')\n",
    "print(resp)\n",
    "\n",
    "# Select to store the FFT in data on memory 2\n",
    "inst.send_scpi_cmd(':DSP:STOR2 DIR2') # DIRect1 | DIRect2 | DSP1 | DSP2 | DSP3 | DSP4| FFTIn | FFTOut\n",
    "resp = inst.send_scpi_query(':SYST:ERR?')\n",
    "print(resp)\n"
   ]
  },
  {
   "cell_type": "code",
   "execution_count": 18,
   "metadata": {
    "scrolled": true
   },
   "outputs": [
    {
     "name": "stdout",
     "output_type": "stream",
     "text": [
      "Set Digitizer: Dual FFT Mode; internal Trigger\n",
      "0, no error\n",
      "Set Digitizer: Frames:1, Frame Size:4080\n",
      "0, no error\n",
      "X16\n"
     ]
    }
   ],
   "source": [
    "\n",
    "## New Average Mode registers:\n",
    "inst.send_scpi_cmd(':DIG:ACQuire:AVERage:STAT {0}'.format(AvgState))\n",
    "inst.send_scpi_cmd(':DIG:ACQuire:AVERage:COUNt {0}'.format(AvgCount))\n",
    "\n",
    "# Set DDC mode to complex\n",
    "#inst.send_scpi_cmd(':DIG:DDC:MODE COMPlex')  # REAL | COMPlex\n",
    "#inst.send_scpi_cmd(':DIG:DDC:DEC X16')  # REAL | COMPlex\n",
    "\n",
    "\n",
    "\n",
    "print(\"Set Digitizer: Dual FFT Mode; internal Trigger\")\n",
    "#Set Dual channel mode\n",
    "inst.send_scpi_cmd(':DIG:MODE DUAL')\n",
    "\n",
    "# Set DDC mode to complex\n",
    "inst.send_scpi_cmd(':DIG:DDC:MODE COMPlex')\n",
    "\n",
    "# Set center frequency of channel 1\n",
    "inst.send_scpi_cmd(':DIG:DDC:CFR1 {0}'.format(DDC_NCO))\n",
    "\n",
    "# Set SCLK digitizer \n",
    "inst.send_scpi_cmd(':DIG:FREQ {0}'.format(DIG_SCLK))\n",
    "\n",
    "# Set SYNC to SYSREF for phase coherance \n",
    "inst.send_scpi_cmd(':DIG:DDC:CLKS AWG')\n",
    "#inst.send_scpi_cmd(':DIG:DDC:CLKS DIG')\n",
    "\n",
    "\n",
    "# Set center frequency of channel 2\n",
    "#inst.send_scpi_cmd(':DIG:DDC:CFR2 {0}'.format(DDC_NCO))\n",
    "\n",
    "\n",
    "resp = inst.send_scpi_query(':SYST:ERR?')\n",
    "print(resp)\n",
    "\n",
    "inst.send_scpi_cmd(':DIG:ACQuire:FRAM:DEF {0}, {1}'.format(number_of_frames, frame_size))\n",
    "inst.send_scpi_cmd(':DIG:ACQuire:FRAM:CAPT 1, 1')\n",
    "print(\"Set Digitizer: Frames:{0}, Frame Size:{1}\".format(number_of_frames, frame_size))\n",
    "# Set Trigger level to 0.2V\n",
    "#inst.send_scpi_cmd(':DIG:TRIG:LEV1 -0.1')\n",
    "\n",
    "# Enable capturing data from channel 1\n",
    "inst.send_scpi_cmd(':DIG:CHAN:SEL 1')\n",
    "inst.send_scpi_cmd(':DIG:CHAN:STATE ENAB')\n",
    "\n",
    "# Full scale select\n",
    "inst.send_scpi_cmd(':DIG:CHAN:RANGe {0}'.format(full_scale)) # { LOW | MEDium | HIGH}\n",
    "\n",
    "\n",
    "# Select the internal-trigger as start-capturing trigger:\n",
    "inst.send_scpi_cmd(':DIG:TRIG:SOURCE TASK1') \n",
    "\n",
    "inst.send_scpi_cmd(':DIG:TRIG:AWG:TDEL {0}'.format(3e-7))\n",
    "\n",
    "# Clean memory \n",
    "inst.send_scpi_cmd(':DIG:ACQ:ZERO:ALL')\n",
    "\n",
    "# Enable capturing data from channel 2\n",
    "inst.send_scpi_cmd(':DIG:CHAN:SEL 2')\n",
    "inst.send_scpi_cmd(':DIG:CHAN:STATE ENAB')\n",
    "# Select the internal-trigger as start-capturing trigger:\n",
    "\n",
    "\n",
    "# Clean memory \n",
    "inst.send_scpi_cmd(':DIG:ACQ:ZERO:ALL')\n",
    "\n",
    "resp = inst.send_scpi_query(':SYST:ERR?')\n",
    "print(resp)\n",
    "\n",
    "\n",
    "resp = inst.send_scpi_query(':DIG:DDC:DEC?')\n",
    "print(resp)"
   ]
  },
  {
   "cell_type": "markdown",
   "metadata": {},
   "source": [
    "###  DSP Setup"
   ]
  },
  {
   "cell_type": "code",
   "execution_count": 19,
   "metadata": {},
   "outputs": [
    {
     "name": "stdout",
     "output_type": "stream",
     "text": [
      "0, no error\n",
      "0, no error\n",
      "0, no error\n",
      "0, no error\n",
      "0, no error\n"
     ]
    }
   ],
   "source": [
    "# Select to store the FFT out data on memory 1\n",
    "inst.send_scpi_cmd(':DSP:STOR1 DSP1') # DIRect1 | DIRect2 | DSP1 | DSP2 | DSP3 | DSP4| FFTIn | FFTOut\n",
    "resp = inst.send_scpi_query(':SYST:ERR?')\n",
    "print(resp)\n",
    "\n",
    "# Select to store the FFT in data on memory 2\n",
    "inst.send_scpi_cmd(':DSP:STOR2 DSP3') # DIRect1 | DIRect2 | DSP1 | DSP2 | DSP3 | DSP4| FFTIn | FFTOut\n",
    "resp = inst.send_scpi_query(':SYST:ERR?')\n",
    "print(resp)\n",
    "\n",
    "# select which input is routed to the FFT\n",
    "inst.send_scpi_cmd(':DSP:FFT:INPut DSP3') # DSP1 | DSP3 |DBUG\n",
    "resp = inst.send_scpi_query(':SYST:ERR?')\n",
    "print(resp)\n",
    "\n",
    "FIR_BYPASS = 'ON'\n",
    "# write FIR data to the DEBUG path\n",
    "inst.send_scpi_cmd(':DSP:FIR:SEL DBUGI') # I1|Q1|I2|Q2|DBUGI|DBUGQ\n",
    "inst.send_scpi_cmd(':DSP:FIR:BYPass '+FIR_BYPASS)\n",
    "#inst.write_binary_data(':DSP:FIR:DATA', mem)\n",
    "resp = inst.send_scpi_query(':SYST:ERR?')\n",
    "print(resp)\n",
    "\n",
    "inst.send_scpi_cmd(':DSP:FIR:SEL DBUGQ') # I1|Q1|I2|Q2|DBUGI|DBUGQ\n",
    "inst.send_scpi_cmd(':DSP:FIR:BYPass '+FIR_BYPASS)\n",
    "#inst.write_binary_data(':DSP:FIR:DATA', mem)\n",
    "resp = inst.send_scpi_query(':SYST:ERR?')\n",
    "print(resp)\n"
   ]
  },
  {
   "cell_type": "code",
   "execution_count": 20,
   "metadata": {},
   "outputs": [
    {
     "name": "stdout",
     "output_type": "stream",
     "text": [
      "Digitizer Mode:DUAL\n",
      "Average Mode:ON\n",
      "Average Count:50000\n",
      "Avg Sum shift:0x00000004\n",
      "Frame size:4080\n",
      "4080\n",
      "X16\n"
     ]
    }
   ],
   "source": [
    "resp = inst.send_scpi_query(':DIG:MODE?')\n",
    "print(\"Digitizer Mode:\"+resp)\n",
    "\n",
    "resp = inst.send_scpi_query(':DIG:ACQuire:AVERage:STAT?')\n",
    "print(\"Average Mode:\"+resp)\n",
    "\n",
    "resp = inst.send_scpi_query(':DIG:ACQuire:AVERage:COUNt?')\n",
    "print(\"Average Count:\"+resp)\n",
    "\n",
    "resp = inst.send_scpi_query(':SHELL:REG? 0x004060AC') \n",
    "print(\"Avg Sum shift:\"+resp)\n",
    "AvgShiftMSB = resp\n",
    "\n",
    "resp = inst.send_scpi_query(':DIG:ACQuire:FRAM:DEF?') \n",
    "print (\"Frame size:\"+ str(frame_size))\n",
    "print(resp[2:])\n",
    "\n",
    "# Set SYNC to SYSREF for phase coherance \n",
    "inst.send_scpi_cmd(':DIG:DDC:CLKS DIG')\n",
    "\n",
    "resp = inst.send_scpi_query(':DIG:DDC:DEC?')\n",
    "print(resp)"
   ]
  },
  {
   "cell_type": "markdown",
   "metadata": {},
   "source": [
    "## Start Sampling Sequence"
   ]
  },
  {
   "cell_type": "code",
   "execution_count": 21,
   "metadata": {},
   "outputs": [
    {
     "name": "stdout",
     "output_type": "stream",
     "text": [
      "0, no error\n"
     ]
    }
   ],
   "source": [
    "# Stop the digitizer's capturing machine (to be on the safe side)\n",
    "inst.send_scpi_cmd(':DIG:INIT OFF')\n",
    "\n",
    "\n",
    "inst.send_scpi_cmd(':DIG:INIT ON')\n",
    "resp = inst.send_scpi_query(':SYST:ERR?')\n",
    "print(resp)\n",
    "\n"
   ]
  },
  {
   "cell_type": "markdown",
   "metadata": {},
   "source": [
    "## Trigger Gen Signal & Acquire Data"
   ]
  },
  {
   "cell_type": "code",
   "execution_count": 29,
   "metadata": {},
   "outputs": [
    {
     "data": {
      "text/plain": [
       "0"
      ]
     },
     "execution_count": 29,
     "metadata": {},
     "output_type": "execute_result"
    }
   ],
   "source": [
    "\n",
    "## Currently Generates 1 M signal events.\n",
    "inst.send_scpi_cmd('*TRG')"
   ]
  },
  {
   "cell_type": "code",
   "execution_count": 30,
   "metadata": {},
   "outputs": [
    {
     "name": "stdout",
     "output_type": "stream",
     "text": [
      "Waiting for acquire to complete.\n",
      "1,1,0,0\n",
      "Could not finish acquire data- try again\n"
     ]
    }
   ],
   "source": [
    "\n",
    "#\"<frame-done-bit>,<all-frames-done-bit>,<counter-busy-bit>,<frames-counter>\"\n",
    "frameRx = 0\n",
    "print(\"Waiting for acquire to complete.\")\n",
    "times = 0\n",
    "while (frameRx != 1):\n",
    "    resp = inst.send_scpi_query(':DIG:ACQuire:FRAM:STATus?')\n",
    "    framesParam = resp.split(\",\")\n",
    "    frameRx = int(framesParam[3])\n",
    "    times += 1\n",
    "    time.sleep(0.1)\n",
    "    if times > 100*AvgCount//10000:\n",
    "        break\n",
    "print(resp)\n",
    "\n",
    "\n",
    "if (times<100):\n",
    "    print(\"Digitizer: Finish Acquisition\")\n",
    "else:\n",
    "    print('Could not finish acquire data- try again')"
   ]
  },
  {
   "cell_type": "markdown",
   "metadata": {},
   "source": [
    "## Read Data"
   ]
  },
  {
   "cell_type": "code",
   "execution_count": 31,
   "metadata": {},
   "outputs": [],
   "source": [
    "def getDataSize(digCh):\n",
    "    inst.send_scpi_cmd(':DIG:CHAN:SEL {0}'.format(digCh))\n",
    "    inst.send_scpi_cmd(':DIG:DATA:SEL ALL')\n",
    "    inst.send_scpi_cmd(':DIG:DATA:TYPE FRAM')\n",
    "    resp = inst.send_scpi_query(':DIG:DATA:SIZE?')\n",
    "    print(resp)\n",
    "    num_bytes = np.uint32(resp)\n",
    "    return num_bytes\n",
    "    "
   ]
  },
  {
   "cell_type": "code",
   "execution_count": 32,
   "metadata": {},
   "outputs": [
    {
     "name": "stdout",
     "output_type": "stream",
     "text": [
      "0, no error\n",
      "16320\n",
      "Dig Ch:1, Total size in bytes: 16320\n",
      "16320\n",
      "Dig Ch:2, Total size in bytes: 16320\n"
     ]
    }
   ],
   "source": [
    "inst.send_scpi_cmd(':DIG:INIT OFF')\n",
    "#inst.send_scpi_cmd(':DIG:ACQuire:AVERage:STAT OFF')\n",
    "resp = inst.send_scpi_query(':SYST:ERR?')\n",
    "print(resp)\n",
    "\n",
    "# Read the data that was captured by channel 1:\n",
    "num_bytes1 = getDataSize(1)\n",
    "print('Dig Ch:{0}, Total size in bytes: {1}'.format(1,num_bytes1))\n",
    "num_bytes2 = getDataSize(2)\n",
    "print('Dig Ch:{0}, Total size in bytes: {1}'.format(2,num_bytes2))\n",
    "      "
   ]
  },
  {
   "cell_type": "code",
   "execution_count": 33,
   "metadata": {},
   "outputs": [
    {
     "name": "stdout",
     "output_type": "stream",
     "text": [
      "== Ch1 ==\n",
      "16320\n",
      "0, no error\n",
      "read data from DDR\n",
      "== Ch2 ==\n",
      "16320\n",
      "0, no error\n",
      "read data from DDR2\n"
     ]
    }
   ],
   "source": [
    "\n",
    "print(\"== Ch1 ==\")\n",
    "# Read the data that was captured by channel 1:\n",
    "inst.send_scpi_cmd(':DIG:CHAN:SEL 1')\n",
    "\n",
    "wavlen = frame_size #num_bytes *2\n",
    "if (wavlen != num_bytes1//4):\n",
    "  print (\"Read size doesn't match frame size \")\n",
    "else:\n",
    "  wav1 = np.zeros(wavlen, dtype=np.uint32)\n",
    "  print (wav1.nbytes)\n",
    "  rc = inst.read_binary_data(':DIG:DATA:READ?', wav1, num_bytes1)\n",
    "  resp = inst.send_scpi_query(':SYST:ERR?')\n",
    "  print(resp)\n",
    "  print(\"read data from DDR\")\n",
    "\n",
    "\n",
    "print(\"== Ch2 ==\")\n",
    "# Read the data that was captured by channel 2:\n",
    "inst.send_scpi_cmd(':DIG:CHAN:SEL 2')\n",
    "\n",
    "wavlen = num_bytes2 // 4\n",
    "if (wavlen != num_bytes1//4):\n",
    "  print (\"Read size doesn't match frame size \")\n",
    "else:\n",
    "  wav2 = np.zeros(wavlen, dtype=np.uint32)\n",
    "  print (wav2.nbytes)\n",
    "  rc = inst.read_binary_data(':DIG:DATA:READ?', wav2, num_bytes2)\n",
    "  resp = inst.send_scpi_query(':SYST:ERR?')\n",
    "  print(resp)\n",
    "  print(\"read data from DDR2\")"
   ]
  },
  {
   "cell_type": "markdown",
   "metadata": {},
   "source": [
    "##  Plot Raw Data -  Binary Offset of 28 bit."
   ]
  },
  {
   "cell_type": "code",
   "execution_count": 34,
   "metadata": {},
   "outputs": [
    {
     "name": "stdout",
     "output_type": "stream",
     "text": [
      "Count:50000, MSB Shift:0x00000004\n",
      "Max:154797332, Min:113634927, Delta:41162405\n"
     ]
    },
    {
     "data": {
      "image/png": "[encoded data removed]",
      "text/plain": [
       "<Figure size 432x288 with 1 Axes>"
      ]
     },
     "metadata": {
      "needs_background": "light"
     },
     "output_type": "display_data"
    }
   ],
   "source": [
    "#fig, axs = plt.subplots(2)\n",
    "#axs[0].plot(wav1[:2048:2])\n",
    "#plt.ylabel('IQ')\n",
    "#axs[1].plot(wav1[1:2048:2])\n",
    "plt.plot(wav1[:2048:2])\n",
    "plt.ylabel('IQ')\n",
    "plt.plot(wav1[1:2048:2])\n",
    "\n",
    "\n",
    "plt.suptitle('Freq:{0}-{1:.2f} MHz'.format(0,DIG_SCLK/(16*1e6)))\n",
    "\n",
    "maxAvg = np.max(wav1)\n",
    "minAvg = np.min(wav1)\n",
    "print (\"Count:{0}, MSB Shift:{1}\".format(AvgCount, AvgShiftMSB))\n",
    "print(\"Max:{0}, Min:{1}, Delta:{2}\".format(maxAvg,minAvg,maxAvg-minAvg))"
   ]
  },
  {
   "cell_type": "code",
   "execution_count": 35,
   "metadata": {},
   "outputs": [
    {
     "name": "stdout",
     "output_type": "stream",
     "text": [
      "Count:50000, MSB Shift:0x00000004\n",
      "Max:0, Min:0, Delta:0\n"
     ]
    },
    {
     "data": {
      "image/png": "[encoded data removed]",
      "text/plain": [
       "<Figure size 432x288 with 1 Axes>"
      ]
     },
     "metadata": {
      "needs_background": "light"
     },
     "output_type": "display_data"
    }
   ],
   "source": [
    "#fig, axs = plt.subplots(2)\n",
    "plt.plot(wav2[0:2048:2])\n",
    "plt.plot(wav2[1:2048:2])\n",
    "plt.ylabel('Frame')\n",
    "plt.suptitle('Count:')\n",
    "maxAvg = np.max(wav2)\n",
    "minAvg = np.min(wav2)\n",
    "print (\"Count:{0}, MSB Shift:{1}\".format(AvgCount, AvgShiftMSB))\n",
    "print(\"Max:{0}, Min:{1}, Delta:{2}\".format(maxAvg,minAvg,maxAvg-minAvg))"
   ]
  },
  {
   "cell_type": "markdown",
   "metadata": {},
   "source": [
    "### Normalize to Signed number "
   ]
  },
  {
   "cell_type": "code",
   "execution_count": 36,
   "metadata": {},
   "outputs": [],
   "source": [
    "def MsbCutoff(AvgCount, realComplex):\n",
    "    cutIdx = 14 if realComplex else 11\n",
    "    for i in range(31,cutIdx,-1):\n",
    "      if ((1 << i) & AvgCount) != 0:\n",
    "            break;\n",
    "    log2FrameFactor = 1 << (i - cutIdx-1);\n",
    "    return log2FrameFactor;"
   ]
  },
  {
   "cell_type": "code",
   "execution_count": 37,
   "metadata": {
    "scrolled": true
   },
   "outputs": [
    {
     "name": "stdout",
     "output_type": "stream",
     "text": [
      "Count:50000, MSB Shift:0x00000004\n",
      "Max:3292.73664, Min:-3293.24816, Delta:6585.9848\n"
     ]
    },
    {
     "data": {
      "image/png": "[encoded data removed]",
      "text/plain": [
       "<Figure size 432x288 with 2 Axes>"
      ]
     },
     "metadata": {
      "needs_background": "light"
     },
     "output_type": "display_data"
    }
   ],
   "source": [
    "wavNorm1 = np.add(wav1, - np.power(2,27)) * MsbCutoff(AvgCount,False)/AvgCount\n",
    "\n",
    "fig, axs = plt.subplots(2)\n",
    "axs[0].plot(wavNorm1[:2048:2])\n",
    "\n",
    "axs[1].plot(wavNorm1[1:2048:2])\n",
    "\n",
    "plt.ylabel('Frame')\n",
    "fig.suptitle('Count:')\n",
    "maxAvg = np.max(wavNorm1)\n",
    "minAvg = np.min(wavNorm1)\n",
    "print (\"Count:{0}, MSB Shift:{1}\".format(AvgCount, AvgShiftMSB))\n",
    "print(\"Max:{0}, Min:{1}, Delta:{2}\".format(maxAvg,minAvg,maxAvg-minAvg))\n"
   ]
  },
  {
   "cell_type": "code",
   "execution_count": 32,
   "metadata": {},
   "outputs": [],
   "source": [
    "\n",
    "#if (AvgState == 'ON'):\n",
    "#  np.savetxt(\"results/avgDspNormCount{0}.csv\".format(AvgCount),wavNormFft)\n",
    "#  np.savetxt(\"results/avgWaveNormCount{0}.csv\".format(AvgCount),wavNorm)\n",
    "#else:\n",
    "#  wav1f = np.subtract(wav1,16384.0)\n",
    "#  wav2f = np.subtract(wav2,16384.0)\n",
    "#  np.savetxt(\"results/avgFftNormCount0.csv\",wav1f)\n",
    "#  np.savetxt(\"results/avgWaveNormCount0.csv\",wav2f)"
   ]
  },
  {
   "cell_type": "code",
   "execution_count": 39,
   "metadata": {},
   "outputs": [],
   "source": [
    "inst.close_instrument()\n",
    "#admin.close_inst_admin()"
   ]
  }
 ],
 "metadata": {
  "kernelspec": {
   "display_name": "Python 3",
   "language": "python",
   "name": "python3"
  },
  "language_info": {
   "codemirror_mode": {
    "name": "ipython",
    "version": 3
   },
   "file_extension": ".py",
   "mimetype": "text/x-python",
   "name": "python",
   "nbconvert_exporter": "python",
   "pygments_lexer": "ipython3",
   "version": "3.8.5"
  }
 },
 "nbformat": 4,
 "nbformat_minor": 4
}
