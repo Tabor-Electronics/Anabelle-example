{
 "cells": [
  {
   "cell_type": "markdown",
   "metadata": {},
   "source": [
    "# Average Mode\n",
    "\n",
    "The script demonstrates the use of average mode. The first sections connects & configures the system \n",
    "and sets the waveform generator. The latter sections define the average mode setting & digitizer sampling operation. \n",
    "The generator is configured on Channel-1, the signal is defined through a task table which consists of single cycle of \"sin\" wave followed by a \"dc\" quiet time.\n",
    "An additional marker is defined on Marker-1 of channel 1 - currently in the half time of the active signal.\n",
    "\n",
    "The digitizer is also configured on the input channel-1, so some loopback is required for the testing.\n",
    "Starting from section: 'Average Mode Parameters', the average mode setting are defined \n",
    "and consists of the following:\n",
    "\n",
    "#### Average Count up 1-16M\n",
    "AvgCount=8000000\n",
    "#### Frame Size 1-10200\n",
    "frame_size = 9600 \n",
    "####  number_of_frames =1 : Should be fixed one.\n",
    "\n",
    "In order to repeat tests with different parameters, you only need to replay sections starting from section: 'Average Mode Parameters'.\n",
    "A background parameter called the AverageMSBShift - is set to be the log2 of the AvgCount parameter since the summing accumlators are limted to 36 bit. \n",
    "\n",
    "The resulting data is displayed in a \"raw\" & normalized forms at the end.\n",
    "\n",
    "\n"
   ]
  },
  {
   "cell_type": "code",
   "execution_count": 1,
   "metadata": {
    "scrolled": true
   },
   "outputs": [],
   "source": [
    "import os\n",
    "import sys\n",
    "import gc\n",
    "srcpath = os.path.realpath('../../SourceFiles') # TeraBAT unit\n",
    "sys.path.append(srcpath)\n",
    "from teproteus import TEProteusAdmin as TepAdmin\n",
    "from teproteus import TEProteusInst as TepInst\n",
    "from tevisainst import TEVisaInst"
   ]
  },
  {
   "cell_type": "code",
   "execution_count": null,
   "metadata": {},
   "outputs": [],
   "source": [
    "import numpy as np\n",
    "import time as timelib\n",
    "import ipywidgets as widgets\n",
    "from IPython.core.debugger import set_trace\n",
    "from scipy.signal import chirp, sweep_poly\n",
    "import matplotlib.pyplot as plt\n",
    "\n",
    "lib_dir_path_= None #r'C:\\Work_Svn\\ProteusAwg_alice\\x64\\Debug'\n"
   ]
  },
  {
   "cell_type": "code",
   "execution_count": null,
   "metadata": {},
   "outputs": [],
   "source": [
    "# Connect to instrument\n",
    "\n",
    "inst = None\n",
    "admin = None\n",
    "\n",
    "conn_msg_str = ''\n",
    "\n",
    "def disconnect():\n",
    "    global inst\n",
    "    global admin\n",
    "    if inst is not None:\n",
    "        try:\n",
    "            inst.close_instrument()            \n",
    "        except:\n",
    "            pass\n",
    "        inst = None\n",
    "    if admin is not None:\n",
    "        try:\n",
    "            admin.close_inst_admin()\n",
    "        except:\n",
    "            pass\n",
    "        admin = None\n",
    "    gc.collect()\n",
    "\n",
    "def connect_to_pxi_slot(slot_id):\n",
    "    global inst\n",
    "    global admin\n",
    "    try:\n",
    "        disconnect()        \n",
    "        print(\"Trying to connect to PXI-slot:\" + str(slot_id))\n",
    "        admin = TepAdmin(lib_dir_path= lib_dir_path_)\n",
    "        admin.open_inst_admin()        \n",
    "        inst = admin.open_instrument(slot_id, reset_hot_flag=True)\n",
    "    except:\n",
    "        pass\n",
    "\n",
    "def connect_to_lan_server(ip_address):\n",
    "    global inst\n",
    "    try:\n",
    "        disconnect()\n",
    "        print(\"Trying to connect to IP:\" + ip_address)\n",
    "        inst = TEVisaInst(ip_address, port=5025)\n",
    "    except:\n",
    "        pass\n",
    "\n",
    "def connect(ipaddr_or_slotid):\n",
    "    try:\n",
    "        disconnect()\n",
    "        if isinstance(ipaddr_or_slotid, str) and '.' in ipaddr_or_slotid:\n",
    "            connect_to_lan_server(ipaddr_or_slotid)\n",
    "        else:\n",
    "            connect_to_pxi_slot(ipaddr_or_slotid)\n",
    "    except:\n",
    "        pass\n",
    "\n",
    "addr_textbox = widgets.Text(\n",
    "    value='',\n",
    "    placeholder='IP Address or Slot Id',\n",
    "    description='Address:',\n",
    "    disabled=False\n",
    ")\n",
    "\n",
    "output = widgets.Output()\n",
    "\n",
    "def print_conn_message(msg_str):\n",
    "    global output\n",
    "    global conn_msg_str\n",
    "    with output:\n",
    "        if len(conn_msg_str) > 0:\n",
    "            print('\\r', end='')\n",
    "            print(' ' * len(conn_msg_str), end='')\n",
    "            print('\\r', end='')\n",
    "        conn_msg_str = str(msg_str)\n",
    "        if len(conn_msg_str) > 0:\n",
    "            print(conn_msg_str, end='')\n",
    "\n",
    "def on_button_connect_clicked(conn_str):\n",
    "    global inst\n",
    "    global addr_textbox\n",
    "    print_conn_message('')\n",
    "    disconnect()\n",
    "    if addr_textbox is not None:\n",
    "        conn_str = addr_textbox.value \n",
    "        if conn_str:\n",
    "            print_conn_message('Connecting to {0} ..'.format(conn_str))\n",
    "            connect(conn_str)\n",
    "            print_conn_message('')\n",
    "    if inst is not None:\n",
    "        idn_str = inst.send_scpi_query('*IDN?')\n",
    "        model = inst.send_scpi_query(\":SYST:iNF:MODel?\")\n",
    "        if idn_str:\n",
    "            prnmsg = 'Connected to: ' + idn_str.strip()\n",
    "            print_conn_message(prnmsg)\n",
    "            #print_conn_message('Connected to: ' + idn_str.strip())\n",
    "            \n",
    "    else:\n",
    "        print_conn_message('Instrument not connected..')\n",
    "    \n"
   ]
  },
  {
   "cell_type": "code",
   "execution_count": null,
   "metadata": {},
   "outputs": [],
   "source": [
    "connect(\"192.168.0.117\")   #TeraBAT unit\n",
    "\n",
    "\n",
    "\n",
    "if inst is not None:\n",
    "        idn_str = inst.send_scpi_query('*IDN?')\n",
    "        model = inst.send_scpi_query(\":SYST:iNF:MODel?\")\n",
    "        if idn_str:\n",
    "            prnmsg = 'Connected to: ' + idn_str.strip()\n",
    "            print(prnmsg)\n",
    "else:\n",
    "    print(\"Not connected\")\n",
    "\n",
    "pid = os.getpid()\n",
    "print('process id {0}'.format(pid))\n",
    "\n",
    "\n",
    "paranoia_level =2\n",
    "\n",
    "model = inst.send_scpi_query(\":SYST:iNF:MODel?\")\n",
    "print(\"\\nModel: \" + model)\n",
    "# Infer the natural DAC waveform format\n",
    "if 'P9082' in model:\n",
    "    dac_mode = 8\n",
    "else:\n",
    "    dac_mode = 16\n",
    "print(\"DAC waveform format: {0} bits-per-point\".format(dac_mode))\n",
    "\n",
    "if dac_mode == 16:\n",
    "    max_dac = 65535\n",
    "    data_type = np.uint16 \n",
    "else:\n",
    "    max_dac = 255\n",
    "    data_type = np.uint8 \n",
    "    \n",
    "half_dac = max_dac / 2.0\n",
    "\n",
    "sampleRateDAC = 8640e6\n",
    "\n",
    "inst.send_scpi_cmd(\":INST:CHAN 1\")\n",
    "inst.send_scpi_cmd(':OUTP OFF')\n",
    "inst.send_scpi_cmd(':FUNC:MODE ARB')\n",
    "inst.send_scpi_cmd(':TRAC:DEL:ALL')\n",
    "inst.send_scpi_cmd(':TASK:ZERO:ALL')\n",
    "inst.send_scpi_cmd(\":INST:CHAN 3\")\n",
    "inst.send_scpi_cmd(':OUTP OFF')\n",
    "inst.send_scpi_cmd(':FUNC:MODE ARB')\n",
    "inst.send_scpi_cmd(':TRAC:DEL:ALL')\n",
    "inst.send_scpi_cmd(':TASK:ZERO:ALL')\n",
    "inst.send_scpi_cmd(':DIG:CHAN:SEL 1')\n",
    "\n",
    "inst.send_scpi_cmd(':DIG:ACQuire:ZERO 1,-1')\n",
    "\n",
    "inst.send_scpi_cmd(\"*CLS; *RST\")\n",
    "\n",
    "print(dac_mode)\n",
    "resp = inst.send_scpi_query(':SYST:ERR?')\n",
    "print(resp)"
   ]
  },
  {
   "cell_type": "code",
   "execution_count": null,
   "metadata": {},
   "outputs": [],
   "source": [
    "\n",
    "inst.send_scpi_cmd(\":FREQ:RAST {0}\".format(sampleRateDAC))\n",
    "inst.send_scpi_cmd(\":INIT:CONT ON\")\n",
    "\n",
    "sclk = inst.send_scpi_query(\":FREQ:RAST?\")\n",
    "print(\"Sample Clk: \" + sclk + \"MHz\")\n",
    "    \n"
   ]
  },
  {
   "cell_type": "markdown",
   "metadata": {},
   "source": [
    "## Define Seg 1 - (IDLE DC) Level"
   ]
  },
  {
   "cell_type": "code",
   "execution_count": null,
   "metadata": {},
   "outputs": [],
   "source": [
    "cycleLen = 2048\n",
    "numCycles = 1\n",
    "segLenDCL1 = cycleLen * numCycles\n",
    "\n",
    "# Build waveform (triangle wave)\n",
    "y = np.ones(segLenDCL1)* half_dac\n",
    "y = y.astype(data_type)\n",
    "y.reshape(-1)\n",
    "\n",
    "print(y.itemsize)\n",
    "\n",
    "# Set Data as Task 1\n",
    "#inst.send_scpi_cmd(':TRAC:DEF 1, {0}'.format(segLen*y.itemsize))\n",
    "inst.send_scpi_cmd(\":INST:CHAN 1\")\n",
    "inst.send_scpi_cmd(':TRAC:DEF 1, {0}'.format(segLenDCL1)) #*y.itemsize))\n",
    "inst.send_scpi_cmd(':TRAC:SEL 1')\n",
    "# download the waveform to the selected Task\n",
    "inst.write_binary_data(':TRAC:DATA', y)\n",
    "resp = inst.send_scpi_query(':SYST:ERR?')\n",
    "print(resp)\n",
    "\n",
    "plt.plot(y)\n"
   ]
  },
  {
   "cell_type": "code",
   "execution_count": null,
   "metadata": {},
   "outputs": [],
   "source": [
    "# Set Data as Task 1\n",
    "#inst.send_scpi_cmd(':TRAC:DEF 1, {0}'.format(segLen*y.itemsize))\n",
    "#inst.send_scpi_cmd(':TRAC:DEF 1, {0}'.format(segLen)) #*y.itemsize))\n",
    "#inst.send_scpi_cmd(':TRAC:SEL 1')\n",
    "# download the waveform to the selected Task\n",
    "#inst.write_binary_data(':TRAC:DATA', y)\n",
    "#resp = inst.send_scpi_query(':SYST:ERR?')\n",
    "#print(resp)"
   ]
  },
  {
   "cell_type": "markdown",
   "metadata": {},
   "source": [
    "## Define Seg 2 - Chirp"
   ]
  },
  {
   "cell_type": "code",
   "execution_count": null,
   "metadata": {},
   "outputs": [],
   "source": [
    "print('Build wave-data and download it to Proteus device.')\n",
    "# Build a chirp segment that will be used as innput for the digitizer\n",
    "paranoia_level = 2\n",
    "# Build wave-data and markers-data for 12 segments\n",
    "\n",
    "print('Build wave-data and markers-data ..')\n",
    "seg_wave_points =  896 # 100 ns of the total 5184 # 600 ns period\n",
    "\n",
    "#-----------------CH1 AWG Waveform-----------------------------------\n",
    "amp = 1\n",
    "max_dac=65535\n",
    "half_dac=max_dac/2\n",
    "data_type = np.uint16\n",
    "#Set wveform \n",
    "segLen = 173 # 173 ~20ns pulse, Full period seg_wave_points=5184 equals to 600 ns at 8.64 GS/s\n",
    "segLenDC = seg_wave_points-segLen #DC\n",
    "#sampleRateDAC=freq\n",
    "#Fn1=3.6e9\n",
    "Fn1=0.2e9\n",
    "Fcrp=1e6\n",
    "T = ((segLen)/(sampleRateDAC))\n",
    "time = np.arange(0, segLen) / sampleRateDAC\n",
    "CRPWave = amp*chirp(time, f0=Fn1-Fcrp, f1=Fn1+Fcrp, t1=T, method='linear') \n",
    "#w = np.hanning(len(CRPWave))\n",
    "w = 1 #uncomment for no window\n",
    "dacWave = ((w * CRPWave) + 1.0) * half_dac   \n",
    "dacWave = np.round(dacWave)\n",
    "dacWave = np.clip(dacWave, 0, max_dac)\n",
    "dacWave = dacWave.astype(data_type)\n",
    "#Set DC\n",
    "dacWaveDC = np.zeros(segLenDC)       \n",
    "dacWaveDC = dacWaveDC+(max_dac/2)\n",
    "dacWaveDC = dacWaveDC.astype(np.uint16)\n",
    "    \n",
    "dacWave = np.concatenate([dacWave, dacWaveDC])\n",
    "print(\"DACWAVE LEN\")\n",
    "print(len(CRPWave))\n",
    "#print(len(w))\n",
    "print(len(dacWave))\n",
    "#-----------------end CH1 AWG Waveform--------------------------------------\n",
    "  \n",
    "plt.plot(dacWave)"
   ]
  },
  {
   "cell_type": "code",
   "execution_count": null,
   "metadata": {},
   "outputs": [],
   "source": [
    "# Download it to segment 1 of channel 1\n",
    "\n",
    "inst.send_scpi_cmd(\":INST:CHAN 1\")\n",
    "#inst.send_scpi_cmd( \":TRAC:DEF 2,\" + str(len(dacWave)), paranoia_level)\n",
    "inst.send_scpi_cmd( \":TRAC:DEF 2, \" + str(seg_wave_points), paranoia_level)\n",
    "inst.send_scpi_cmd( \":TRAC:SEL 2\", paranoia_level)\n",
    "\n",
    "inst.write_binary_data(':TRAC:DATA', dacWave)\n",
    "resp = inst.send_scpi_query(':SYST:ERR?')\n",
    "print(resp)"
   ]
  },
  {
   "cell_type": "markdown",
   "metadata": {},
   "source": [
    "## 2nd DC - Remainder of CH1 (Seg3)"
   ]
  },
  {
   "cell_type": "code",
   "execution_count": null,
   "metadata": {},
   "outputs": [],
   "source": [
    "#cycleLen = 5184-864 # total period size minus the first 100 ns\n",
    "numCycles = 1\n",
    "segLenR = 4224 # 4096 #Divisible 64. #5184 #5184-864 = 4320\n",
    "\n",
    "# Build waveform (triangle wave)\n",
    "y = np.ones(segLenR)* half_dac\n",
    "y = y.astype(data_type)\n",
    "y.reshape(-1)\n",
    "\n",
    "print(y.itemsize)\n",
    "\n",
    "# Set Data as Task 1\n",
    "inst.send_scpi_cmd(\":INST:CHAN 1\")\n",
    "#inst.send_scpi_cmd(':TRAC:DEF 1, {0}'.format(segLen*y.itemsize))\n",
    "inst.send_scpi_cmd(':TRAC:DEF 3, {0}'.format(segLenR)) #*y.itemsize))\n",
    "inst.send_scpi_cmd(':TRAC:SEL 3')\n",
    "# download the waveform to the selected Task\n",
    "inst.write_binary_data(':TRAC:DATA', y)\n",
    "resp = inst.send_scpi_query(':SYST:ERR?')\n",
    "print(resp)\n",
    "\n",
    "plt.plot(y)\n"
   ]
  },
  {
   "cell_type": "markdown",
   "metadata": {},
   "source": [
    "## Define Seg 4 - CW"
   ]
  },
  {
   "cell_type": "code",
   "execution_count": null,
   "metadata": {
    "scrolled": true
   },
   "outputs": [],
   "source": [
    "\n",
    "print('Build wave-data for channel 3 and download it to Proteus device.')\n",
    "\n",
    "# Build a CW segment that will be used as innput for the digitizer\n",
    "paranoia_level = 2\n",
    "# Build wave-data and markers-data for 12 segments\n",
    "\n",
    "print('Build wave-data and markers-data ..')\n",
    "seg_wave_points_CH3 = seg_wave_points + segLenR #5184 # 600 ns period\n",
    "\n",
    "#-----------------CH3 AWG Waveform-----------------------------------\n",
    "amp = 1\n",
    "max_dac=65535\n",
    "half_dac=max_dac/2\n",
    "data_type = np.uint16\n",
    "#Set wveform \n",
    "segLen3 = 4800 # 173 ~20ns pulse, Full period seg_wave_points=5184 equals to 600 ns at 8.64 GS/s\n",
    "\n",
    "#sampleRateDAC=freq\n",
    "\n",
    "Fn3=4.2e9\n",
    "cycles = Fn3 * segLen3/sampleRateDAC\n",
    "time = np.linspace(0, segLen3-1, segLen3)\n",
    "#time = np.arange(0, segLen3) / sampleRateDAC\n",
    "omega = 2 * np.pi * cycles\n",
    "print(\"segLen3 = \" + str(segLen3))\n",
    "print(\"cycles = \" + str(cycles))\n",
    "CWWave3 = amp*(np.sin(omega*time/segLen3))\n",
    "#w = np.hanning(len(CWWave3))\n",
    "w = 1 #uncomment for no window\n",
    "dacWave3 = ((w * CWWave3) + 1.0) * half_dac    \n",
    "dacWave3 = np.round(dacWave3)\n",
    "dacWave3 = np.clip(dacWave3, 0, max_dac)\n",
    "dacWave3 = dacWave3.astype(data_type)\n",
    "\n",
    "\n",
    "#print(\"DACWAVE3 LEN\")\n",
    "print(len(dacWave3))\n",
    "print(seg_wave_points_CH3)\n",
    "#-----------------end CH3 AWG Waveform--------------------------------------\n",
    "  \n",
    "plt.plot(dacWave3)"
   ]
  },
  {
   "cell_type": "code",
   "execution_count": null,
   "metadata": {},
   "outputs": [],
   "source": [
    "# Download it to segment 1 of channel 3\n",
    "inst.send_scpi_cmd(\":INST:CHAN 3\") \n",
    "inst.send_scpi_cmd( \":TRAC:DEF 4,\" + str(len(dacWave3)), paranoia_level)\n",
    "inst.send_scpi_cmd( \":TRAC:SEL 4\", paranoia_level)\n",
    "\n",
    "inst.write_binary_data(':TRAC:DATA', dacWave3)\n",
    "resp = inst.send_scpi_query(':SYST:ERR?')\n",
    "print(resp)"
   ]
  },
  {
   "cell_type": "markdown",
   "metadata": {},
   "source": [
    "## Define Seg 5 - CW - DC Remainder"
   ]
  },
  {
   "cell_type": "code",
   "execution_count": null,
   "metadata": {},
   "outputs": [],
   "source": [
    "\n",
    "segLenDC3 = seg_wave_points_CH3-segLen3 #DC # Period_LEN-4800\n",
    "#Set DC\n",
    "dacWaveDC3 = np.zeros(segLenDC3)       \n",
    "dacWaveDC3 = dacWaveDC3+(max_dac/2)\n",
    "dacWaveDC3 = dacWaveDC3.astype(np.uint16)\n",
    "   \n",
    "inst.send_scpi_cmd(\":INST:CHAN 3\") \n",
    "# Set Data as Task 5\n",
    "inst.send_scpi_cmd(':TRAC:DEF 5, {0}'.format(segLenDC3)) #*y.itemsize))\n",
    "inst.send_scpi_cmd(':TRAC:SEL 5')\n",
    "# download the waveform to the selected Task\n",
    "inst.write_binary_data(':TRAC:DATA', dacWaveDC3)\n",
    "resp = inst.send_scpi_query(':SYST:ERR?')\n",
    "print(resp)\n"
   ]
  },
  {
   "cell_type": "markdown",
   "metadata": {},
   "source": [
    "## Dowload Seg 1 (IDLE DC) for Chan 3"
   ]
  },
  {
   "cell_type": "code",
   "execution_count": null,
   "metadata": {},
   "outputs": [],
   "source": [
    "# Build waveform (triangle wave)\n",
    "segLenDCL3= 2048\n",
    "y = np.ones(segLenDCL3)* half_dac\n",
    "y = y.astype(data_type)\n",
    "y.reshape(-1)\n",
    "\n",
    "\n",
    "inst.send_scpi_cmd(\":INST:CHAN 3\") \n",
    "print(segLen)\n",
    "# Set Data as Task 1\n",
    "#inst.send_scpi_cmd(':TRAC:DEF 1, {0}'.format(segLen*y.itemsize))\n",
    "inst.send_scpi_cmd(':TRAC:DEF 1, {0}'.format(segLenDCL3)) #*y.itemsize))\n",
    "inst.send_scpi_cmd(':TRAC:SEL 1')\n",
    "# download the waveform to the selected Task\n",
    "inst.write_binary_data(':TRAC:DATA', y)\n",
    "resp = inst.send_scpi_query(':SYST:ERR?')\n",
    "print(resp)\n"
   ]
  },
  {
   "cell_type": "markdown",
   "metadata": {},
   "source": [
    "## Define Marker Ch1 for Seg 2 (only Mark1)"
   ]
  },
  {
   "cell_type": "code",
   "execution_count": null,
   "metadata": {},
   "outputs": [],
   "source": [
    "print('Build marker-data for sinus wave (segment 2) and download it to Proteus device.')\n",
    "\n",
    "#seg_mark1_bytes = (896//8)+0 #len(dacWave) // 8\n",
    "seg_mark1_bytes = len(dacWave)//8+0 #len(dacWave) // 8\n",
    "marker1_len = (segLen//8)+1\n",
    "\n",
    "mark1= np.ones(seg_mark1_bytes, np.uint8)\n",
    "mark1[marker1_len:]=2\n",
    "\n",
    "print(seg_mark1_bytes)\n",
    "print(len(mark1))"
   ]
  },
  {
   "cell_type": "markdown",
   "metadata": {},
   "source": [
    "## Define Marker Ch1 for Seg 3 (only Mar1 & Mark2)"
   ]
  },
  {
   "cell_type": "code",
   "execution_count": null,
   "metadata": {},
   "outputs": [],
   "source": [
    "seg_mark2_bytes = segLenR//8 #len(dacWave) // 8 \n",
    "mark2 = np.ones(seg_mark2_bytes, np.uint8)*2\n",
    "\n",
    "\n",
    "print(segLenR)\n",
    "print(seg_mark2_bytes)"
   ]
  },
  {
   "cell_type": "code",
   "execution_count": null,
   "metadata": {},
   "outputs": [],
   "source": [
    "inst.send_scpi_cmd(\":INST:CHAN 1\")    \n",
    "inst.send_scpi_cmd( \":TRAC:SEL 2\", paranoia_level)    \n",
    "inst.write_binary_data(':MARK:DATA',mark1)\n",
    "\n",
    "inst.send_scpi_cmd(\":INST:CHAN 1\")\n",
    "inst.send_scpi_cmd( \":TRAC:SEL 3\", paranoia_level)    \n",
    "inst.write_binary_data(':MARK:DATA',mark2)\n",
    "   \n",
    "resp = inst.send_scpi_query(':SYST:ERR?')\n",
    "print(resp)"
   ]
  },
  {
   "cell_type": "markdown",
   "metadata": {},
   "source": [
    "## Configure Tasks Channel1"
   ]
  },
  {
   "cell_type": "code",
   "execution_count": null,
   "metadata": {},
   "outputs": [],
   "source": [
    "tak_half_dac = 0x80\n",
    "\n",
    "inst.send_scpi_cmd(':INST:CHAN 1')          # Select channel\n",
    "inst.send_scpi_cmd(':TASK:COMP:LENG 3')     ### Set 5 Tasks in this Task Table\n",
    "\n",
    "#TASK 1 - play a DC level and free run trigger (no trigger)\n",
    "inst.send_scpi_cmd(':TASK:COMP:SEL 1')        #TASK1 composer\n",
    "inst.send_scpi_cmd(':TASK:COMP:ENAB INT')    # CPU trigger is the task enable\n",
    "inst.send_scpi_cmd(':TASK:COMP:SEGM 1')      # play segment 1 (DC)\n",
    "inst.send_scpi_cmd(':TASK:COMP:IDLE:LEV {0}'.format(tak_half_dac))  # DC level while waiting to a trigger\n",
    "inst.send_scpi_cmd(':TASK:COMP:NEXT1 2')     # the next task is 2, go to TASK2   \n",
    "\n",
    "#TASK 2 -     \n",
    "inst.send_scpi_cmd(':TASK:COMP:SEL 2')\n",
    "inst.send_scpi_cmd(':TASK:COMP:ENAB NONE')    # NONE trigger is the task enable\n",
    "inst.send_scpi_cmd(':TASK:COMP:SEGM 2' )       # play segment 2 (Signal)\n",
    "inst.send_scpi_cmd(':TASK:COMP:TYPE START' )\n",
    "inst.send_scpi_cmd(':TASK:COMP:SEQ 1') # sequence loop = AvgCount or other\n",
    "#TODO - comment above\n",
    "#inst.send_scpi_cmd(':TASK:COMP:SEQ 1')  #   loop set for \n",
    "inst.send_scpi_cmd(':TASK:COMP:DTRigger ON')   # issue a trigger to the ADC at start of segment\n",
    "#inst.send_scpi_cmd(':TASK:COMP:IDLE:LEV {0}'.format(task_half_dac))  # DC level while waiting to a trigger\n",
    "inst.send_scpi_cmd(':TASK:COMP:LOOP 1' )       # repeat the segment 1 time\n",
    "inst.send_scpi_cmd(':TASK:COMP:NEXT1 3')       # the next task is 3\n",
    "\n",
    "\n",
    "#TASK 3 - \n",
    "inst.send_scpi_cmd(':TASK:COMP:SEL 3')\n",
    "inst.send_scpi_cmd(':TASK:COMP:SEGM 3' )       # play segment 3 (DC)\n",
    "inst.send_scpi_cmd(':TASK:COMP:TYPE END' )\n",
    "inst.send_scpi_cmd(':TASK:COMP:LOOP 1' )       # repeat the segment 1 time\n",
    "#inst.send_scpi_cmd(':TASK:COMP:IDLE:LEV {0}'.format(task_half_dac))  # DC level while waiting to a trigger\n",
    "#inst.send_scpi_cmd(':TASK:COMP:DTRigger ON')   # issue a trigger to the ADC at start of segment\n",
    "#inst.send_scpi_cmd(':TASK:COMP:NEXT1 1')       # the next task is 1\n",
    "#TODO - comment above\n",
    "inst.send_scpi_cmd(':TASK:COMP:NEXT1 2')       # the next task is 2 for continous loop\n",
    "\n",
    "\n",
    "inst.send_scpi_cmd(':TASK:COMP:WRIT' )          #write task sequence to memory\n",
    "print('Downloading Task table of channel 1')\n",
    "\n",
    "\n",
    "\n",
    "\n",
    "resp = inst.send_scpi_query(':SYST:ERR?')\n",
    "print(resp)\n"
   ]
  },
  {
   "cell_type": "code",
   "execution_count": null,
   "metadata": {},
   "outputs": [],
   "source": [
    "\n",
    "\n",
    "resp = inst.send_scpi_query(':TASK:COMP:SEQ?')\n",
    "print(resp)"
   ]
  },
  {
   "cell_type": "markdown",
   "metadata": {},
   "source": [
    "# Configure Tasks Channel3"
   ]
  },
  {
   "cell_type": "code",
   "execution_count": null,
   "metadata": {
    "scrolled": true
   },
   "outputs": [],
   "source": [
    "tak_half_dac = 0x80\n",
    "\n",
    "inst.send_scpi_cmd(':INST:CHAN 3')          # Select channel\n",
    "inst.send_scpi_cmd(':TASK:COMP:LENG 3')     # Set 5 Tasks in this Task Table\n",
    "\n",
    "#TASK 1 - play a DC level and free run trigger (no trigger)\n",
    "inst.send_scpi_cmd(':TASK:COMP:SEL 1')        #TASK1 composer\n",
    "inst.send_scpi_cmd(':TASK:COMP:ENAB INT')    # CPU trigger is the task enable\n",
    "inst.send_scpi_cmd(':TASK:COMP:SEGM 1')      # play segment 1 (DC)\n",
    "inst.send_scpi_cmd(':TASK:COMP:IDLE:LEV {0}'.format(tak_half_dac))  # DC level while waiting to a trigger\n",
    "inst.send_scpi_cmd(':TASK:COMP:NEXT1 2')     # the next task is 2, go to TASK2   \n",
    "\n",
    "#TASK 2 -     \n",
    "inst.send_scpi_cmd(':TASK:COMP:SEL 2')\n",
    "inst.send_scpi_cmd(':TASK:COMP:ENAB NONE')    # NONE trigger is the task enable\n",
    "inst.send_scpi_cmd(':TASK:COMP:SEGM 4' )       # play segment 2 (Signal)\n",
    "inst.send_scpi_cmd(':TASK:COMP:TYPE START' )\n",
    "inst.send_scpi_cmd(':TASK:COMP:SEQ 1') # sequence loop = AvgCount or other\n",
    "#TODO - comment above\n",
    "#inst.send_scpi_cmd(':TASK:COMP:SEQ 1')  # For continous loop set 1\n",
    "# No need to issue two adc triggers\n",
    "#inst.send_scpi_cmd(':TASK:COMP:DTRigger OFF')   # issue a trigger to the ADC at start of segment\n",
    "#inst.send_scpi_cmd(':TASK:COMP:IDLE:LEV {0}'.format(task_half_dac))  # DC level while waiting to a trigger\n",
    "inst.send_scpi_cmd(':TASK:COMP:LOOP 1' )       # repeat the segment 1 time\n",
    "inst.send_scpi_cmd(':TASK:COMP:NEXT1 3')       # the next task is 3\n",
    "\n",
    "\n",
    "#TASK 3 - \n",
    "inst.send_scpi_cmd(':TASK:COMP:SEL 3')\n",
    "inst.send_scpi_cmd(':TASK:COMP:SEGM 5' )       # play segment 3 (DC)\n",
    "inst.send_scpi_cmd(':TASK:COMP:TYPE END' )\n",
    "inst.send_scpi_cmd(':TASK:COMP:LOOP 1' )       # repeat the segment 1 time\n",
    "#inst.send_scpi_cmd(':TASK:COMP:IDLE:LEV {0}'.format(task_half_dac))  # DC level while waiting to a trigger\n",
    "#inst.send_scpi_cmd(':TASK:COMP:DTRigger ON')   # issue a trigger to the ADC at start of segment\n",
    "#inst.send_scpi_cmd(':TASK:COMP:NEXT1 1')       # the next task is 1\n",
    "#TODO - comment above\n",
    "inst.send_scpi_cmd(':TASK:COMP:NEXT1 2')       # the next task is 2 for continous loop\n",
    "    \n",
    "   \n",
    "    \n",
    "inst.send_scpi_cmd(':TASK:COMP:WRIT' )          #write task sequence to memory\n",
    "print('Downloading Task table of channel 3')\n",
    "\n",
    "\n",
    "resp = inst.send_scpi_query(':SYST:ERR?')\n",
    "print(resp)\n"
   ]
  },
  {
   "cell_type": "markdown",
   "metadata": {},
   "source": [
    "# Average Mode Parameters "
   ]
  },
  {
   "cell_type": "code",
   "execution_count": null,
   "metadata": {},
   "outputs": [],
   "source": [
    "#Digitizer Average Mode Settings \n",
    "##################################\n",
    "#Average Count up 1-16M\n",
    "\n",
    "AvgCount=1000\n",
    "#12000#1000\n",
    "\n",
    "##################################\n",
    "#Frame Size 1-10240\n",
    "# frame size should be smaller than the generation period in the 5.4 GS/s, 600 ns=3240 points\n",
    "\n",
    "frame_size = 2840    # must be divisable by 40, \n",
    "\n",
    "number_of_frames =1 # Should be fixed one.\n",
    "\n",
    "DTDEL='207.4e-9' #Digitizer Trigger delay \n",
    "\n",
    "GEN_VRANGE = 0.25 #P-P\n",
    "ADC_RANGE = 'HIGH' #Adc range HIGH' #'MED', 'LOW'"
   ]
  },
  {
   "cell_type": "markdown",
   "metadata": {},
   "source": [
    "# Setup Digitizer"
   ]
  },
  {
   "cell_type": "code",
   "execution_count": null,
   "metadata": {
    "scrolled": false
   },
   "outputs": [],
   "source": [
    "\n",
    "## New Average Mode registers:\n",
    "inst.send_scpi_cmd(':DIG:ACQuire:AVERage:STAT ON')\n",
    "inst.send_scpi_cmd(':DIG:ACQuire:AVERage:COUNt {0}'.format(AvgCount))\n",
    "\n",
    "print(\"Set Digitizer: SINGLE mode; internal Trigger\")\n",
    "inst.send_scpi_cmd(':DIG:MODE SINGLE')\n",
    "inst.send_scpi_cmd(':DIG:FREQ 5400MHZ')\n",
    "resp = inst.send_scpi_query(':SYST:ERR?')\n",
    "print(resp)\n",
    "inst.send_scpi_cmd(':DIG:DDC:CLKS AWG')\n",
    "\n",
    "inst.send_scpi_cmd (':DIG:CHAN:RANG {}'.format(ADC_RANGE)) #set ADC range to 1000mV P2P\n",
    "resp = inst.send_scpi_query(':DIG:CHAN:RANG?')\n",
    "if resp == 'HIGH': \n",
    "     VRange = 0.5\n",
    "elif resp == 'MED': \n",
    "    VRange = 0.4\n",
    "elif resp == 'LOW': \n",
    "    VRange = 0.25\n",
    "print(resp+\" VRange: \"+str(VRange))\n",
    "\n",
    "inst.send_scpi_cmd(':DIG:ACQuire:FRAM:DEF {0}, {1}'.format(number_of_frames, frame_size))\n",
    "inst.send_scpi_cmd(':DIG:ACQuire:FRAM:CAPT 1, 1')\n",
    "\n",
    "# Set Trigger level to 0.2V\n",
    "#inst.send_scpi_cmd(':DIG:TRIG:LEV1 -0.1')\n",
    "\n",
    "# Enable capturing data from channel 1\n",
    "inst.send_scpi_cmd(':DIG:CHAN:SEL 1')\n",
    "inst.send_scpi_cmd(':DIG:CHAN:STATE ENAB')\n",
    "# Select the internal-trigger as start-capturing trigger:\n",
    "inst.send_scpi_cmd(':DIG:TRIG:SOURCE TASK1') #was TASK1\n",
    "\n",
    "\n",
    "\n",
    "#Delay from Trig to ADC, now is 0.\n",
    "\n",
    "##### <<< Need to select channel 1 delay>>>> ###\n",
    "inst.send_scpi_cmd(':INST:CHAN 1') \n",
    "inst.send_scpi_cmd(':DIG:TRIG:AWG:TDEL {}'.format(DTDEL) )#150.0e-9'\n",
    "resp = inst.send_scpi_query(':DIG:TRIG:AWG:TDEL?')\n",
    "print(\"Trigger Delay: \"+resp)\n"
   ]
  },
  {
   "cell_type": "code",
   "execution_count": null,
   "metadata": {
    "scrolled": true
   },
   "outputs": [],
   "source": [
    "resp = inst.send_scpi_query(':DIG:MODE?')\n",
    "print(\"Digitizer Mode:\"+resp)\n",
    "\n",
    "resp = inst.send_scpi_query(':DIG:ACQuire:AVERage:STAT?')\n",
    "print(\"Average Mode:\"+resp)\n",
    "\n",
    "resp = inst.send_scpi_query(':DIG:ACQuire:AVERage:COUNt?')\n",
    "print(\"Average Count:\"+resp)\n",
    "\n",
    "resp = inst.send_scpi_query(':SHELL:REG? 0x004060AC') \n",
    "print(\"Avg Sum shift:\"+resp)\n",
    "AvgShiftMSB = resp\n",
    "\n",
    "resp = inst.send_scpi_query(':DIG:ACQuire:FRAM:DEF?') \n",
    "print (\"Frame size:\"+ str(frame_size))\n",
    "print(resp[2:])\n"
   ]
  },
  {
   "cell_type": "markdown",
   "metadata": {},
   "source": [
    "# Start Channel 1 at Task mode"
   ]
  },
  {
   "cell_type": "code",
   "execution_count": null,
   "metadata": {},
   "outputs": [],
   "source": [
    "# Enable channel 1\n",
    "# Set Channel 1 to run task function\n",
    "\n",
    "inst.send_scpi_cmd(':INST:CHAN 1')\n",
    "inst.send_scpi_cmd('FUNC:MODE TASK')\n",
    "inst.send_scpi_cmd(':SOUR:VOLT {}'.format(GEN_VRANGE)) #<<<< Output P-P Voltage.\n",
    " \n",
    "inst.send_scpi_cmd(':MARK:SEL 1')\n",
    "inst.send_scpi_cmd(':MARK:STAT ON')\n",
    "\n",
    "inst.send_scpi_cmd(':MARK:SEL 2')\n",
    "inst.send_scpi_cmd(':MARK:STAT ON')\n",
    "inst.send_scpi_cmd(':OUTP ON')\n",
    "\n"
   ]
  },
  {
   "cell_type": "code",
   "execution_count": null,
   "metadata": {},
   "outputs": [],
   "source": [
    "inst.send_scpi_cmd(':INST:CHAN 1')\n",
    "inst.send_scpi_cmd(':MARK:SEL 2')\n",
    "resp = inst.send_scpi_query('FUNC:MODE?')\n",
    "print(resp)\n",
    "resp = inst.send_scpi_query(':MARK:STAT?')\n",
    "print(resp)"
   ]
  },
  {
   "cell_type": "markdown",
   "metadata": {},
   "source": [
    "# Start Channel 3 at Task mode"
   ]
  },
  {
   "cell_type": "code",
   "execution_count": null,
   "metadata": {},
   "outputs": [],
   "source": [
    "# Enable channel 3\n",
    "inst.send_scpi_cmd(':INST:CHAN 3') #stops the trigger!\n",
    "inst.send_scpi_cmd('FUNC:MODE TASK')\n",
    "inst.send_scpi_cmd(':SOUR:VOLT {}'.format(GEN_VRANGE))  #<<<< Output P-P Voltage.\n",
    "inst.send_scpi_cmd(':OUTP ON')\n",
    "resp = inst.send_scpi_query(':SYST:ERR?')\n",
    "print(resp)"
   ]
  },
  {
   "cell_type": "code",
   "execution_count": null,
   "metadata": {},
   "outputs": [],
   "source": [
    "resp = inst.send_scpi_query('FUNC:MODE?')\n",
    "print(resp)"
   ]
  },
  {
   "cell_type": "markdown",
   "metadata": {},
   "source": [
    "## Start Sampling Sequence"
   ]
  },
  {
   "cell_type": "code",
   "execution_count": null,
   "metadata": {},
   "outputs": [],
   "source": [
    "# Stop the digitizer's capturing machine (to be on the safe side)\n",
    "inst.send_scpi_cmd(':DIG:INIT OFF')\n",
    "\n",
    "\n",
    "inst.send_scpi_cmd(':DIG:INIT ON')\n",
    "resp = inst.send_scpi_query(':SYST:ERR?')\n",
    "print(resp)\n",
    "\n"
   ]
  },
  {
   "cell_type": "markdown",
   "metadata": {},
   "source": [
    "## Trigger Gen Signal & Acquire Data"
   ]
  },
  {
   "cell_type": "code",
   "execution_count": null,
   "metadata": {},
   "outputs": [],
   "source": [
    "\n",
    "## Currently Generates 1 M signal events.\n",
    "\n",
    "inst.send_scpi_cmd(':TRIGger:COUPle 1')\n",
    "inst.send_scpi_cmd('*TRG')\n"
   ]
  },
  {
   "cell_type": "markdown",
   "metadata": {},
   "source": [
    "## Read Data"
   ]
  },
  {
   "cell_type": "code",
   "execution_count": null,
   "metadata": {},
   "outputs": [],
   "source": [
    "#\"<frame-done-bit>,<all-frames-done-bit>,<counter-busy-bit>,<frames-counter>\"\n",
    "frameRx = 0\n",
    "print(\"Waiting for acquire to complete.\")\n",
    "times = 0\n",
    "while (frameRx != 1):\n",
    "    resp = inst.send_scpi_query(':DIG:ACQuire:FRAM:STATus?')\n",
    "    framesParam = resp.split(\",\")\n",
    "    frameRx = int(framesParam[3])\n",
    "    times += 1\n",
    "    timelib.sleep(0.1)\n",
    "    if times > 100:\n",
    "        break\n",
    "        # end time and print time\n",
    "print(resp)\n",
    "\n",
    "\n",
    "if (times<100):\n",
    "    print(\"Digitizer: Finish Acquisition\")\n",
    "else:\n",
    "    print('Could not finish acquire data- try again')"
   ]
  },
  {
   "cell_type": "code",
   "execution_count": null,
   "metadata": {},
   "outputs": [],
   "source": [
    "inst.send_scpi_cmd(':DIG:INIT OFF')\n",
    "resp = inst.send_scpi_query(':SYST:ERR?')\n",
    "print(resp)\n",
    "\n",
    "inst.send_scpi_cmd(':DIG:DATA:SEL ALL')\n",
    "inst.send_scpi_cmd(':DIG:DATA:TYPE FRAM')\n",
    "resp = inst.send_scpi_query(':DIG:DATA:SIZE?')\n",
    "#print(resp)\n",
    "num_bytes = np.uint32(resp)\n",
    "print('Total size in bytes: ' + resp)\n",
    "print('Total samples: {}'.format(num_bytes//4))\n",
    "\n",
    "# Read the data that was captured by channel 1:\n",
    "inst.send_scpi_cmd(':DIG:CHAN:SEL 1')\n",
    "\n",
    "wavlen = frame_size #num_bytes *2\n",
    "if (wavlen != num_bytes//4):\n",
    "  print (\"Read size doesn't match frame size \")\n",
    "#wav1 = np.zeros(wavlen, dtype=np.uint16)\n",
    "wav1 = np.zeros(wavlen, dtype=np.uint32)\n",
    "\n",
    "rc = inst.read_binary_data(':DIG:DATA:READ?', wav1, num_bytes)\n",
    "\n",
    "resp = inst.send_scpi_query(':SYST:ERR?')\n",
    "print(resp)\n",
    "print(\"read data from DDR\")\n"
   ]
  },
  {
   "cell_type": "markdown",
   "metadata": {},
   "source": [
    "##  Plot Raw Data -  Binary Offset of 28 bit."
   ]
  },
  {
   "cell_type": "code",
   "execution_count": null,
   "metadata": {},
   "outputs": [],
   "source": [
    "digFreq=5400e6\n",
    "ns100Samples = round(100e-9*digFreq)\n",
    "maxAvg = np.max(wav1)\n",
    "minAvg = np.min(wav1)\n",
    "\n",
    "\n",
    "fig, axs = plt.subplots(1)\n",
    "axs.plot(wav1)\n",
    "\n",
    "\n",
    "xcoords = range(0,frame_size, ns100Samples)\n",
    "for ix, xc in enumerate(xcoords):\n",
    "    plt.vlines(x=xc, ymin=minAvg, ymax=maxAvg, colors='0.75', linestyles='dashed', label='{}ns'.format(100*ix))\n",
    "    \n",
    "plt.ylabel('ADC Count')\n",
    "plt.xlabel('Frame')\n",
    "plt.legend()\n",
    "\n",
    "fig.suptitle('Count:')\n",
    "\n",
    "\n",
    "print (\"Count:{0}, MSB Shift:{1}\".format(AvgCount, AvgShiftMSB))\n",
    "print(\"Max:{0}, Min:{1}, Delta:{2}\".format(maxAvg,minAvg,maxAvg-minAvg))"
   ]
  },
  {
   "cell_type": "markdown",
   "metadata": {},
   "source": [
    "### Normalize to Signed number "
   ]
  },
  {
   "cell_type": "code",
   "execution_count": null,
   "metadata": {},
   "outputs": [],
   "source": [
    "def MsbCutoff(AvgCount):\n",
    "    for i in range(31,14,-1):\n",
    "      if ((1 << i) & AvgCount) != 0:\n",
    "            break;\n",
    "    log2FrameFactor = 1 << (i - 15);\n",
    "    return log2FrameFactor;"
   ]
  },
  {
   "cell_type": "code",
   "execution_count": null,
   "metadata": {
    "scrolled": false
   },
   "outputs": [],
   "source": [
    "wavNorm = np.add(wav1, - np.power(2,27)) * MsbCutoff(AvgCount)/AvgCount\n",
    "maxAvg = np.max(wavNorm)\n",
    "minAvg = np.min(wavNorm)\n",
    "\n",
    "fig, axs = plt.subplots(1)\n",
    "axs.plot(wavNorm)\n",
    "for ix, xc in enumerate(xcoords):\n",
    "    plt.vlines(x=xc, ymin=minAvg, ymax=maxAvg, colors='0.75', linestyles='dashed', label='{}ns'.format(100*ix))\n",
    " \n",
    "plt.ylabel('Frame')\n",
    "fig.suptitle('Count:')\n",
    "\n",
    "\n",
    "print (\"Count:{0}, MSB Shift:{1}\".format(AvgCount, AvgShiftMSB))\n",
    "print(\"Max:{0}, Min:{1}, Delta:{2}\".format(maxAvg,minAvg,maxAvg-minAvg))"
   ]
  },
  {
   "cell_type": "code",
   "execution_count": null,
   "metadata": {},
   "outputs": [],
   "source": [
    "wavNormVolt = wavNorm*VRange/4096\n",
    "\n",
    "maxAvg = np.max(wavNormVolt)\n",
    "minAvg = np.min(wavNormVolt)\n",
    "\n",
    "fig, axs = plt.subplots(1)\n",
    "axs.plot(wavNormVolt)\n",
    "for ix, xc in enumerate(xcoords):\n",
    "    plt.vlines(x=xc, ymin=minAvg, ymax=maxAvg, colors='0.75', linestyles='dashed', label='{}ns'.format(100*ix))\n",
    " \n",
    "plt.ylabel('Frame')\n",
    "fig.suptitle('Count:')\n",
    "\n",
    "print(\"VGen Vpp: \"+ str(GEN_VRANGE))\n",
    "print(\"DIG-VRange Vpp: \"+ \"+\" + str(VRange/2)+ \" to -\" + str(VRange/2))\n",
    "print(\"Signal Vpp: {:.2f} V\".format(maxAvg-minAvg))"
   ]
  },
  {
   "cell_type": "code",
   "execution_count": null,
   "metadata": {},
   "outputs": [],
   "source": [
    "plt.plot(wavNormVolt[50:300])"
   ]
  },
  {
   "cell_type": "code",
   "execution_count": null,
   "metadata": {},
   "outputs": [],
   "source": [
    "# del=200ns, 175+(50)\n",
    "# del=203.7ns, 175+(50)\n",
    "# del=204ns, 175+(50)\n",
    "\n",
    "# del=207.4ns, 140+(50)\n"
   ]
  },
  {
   "cell_type": "code",
   "execution_count": null,
   "metadata": {},
   "outputs": [],
   "source": [
    "Debug=False\n",
    "\n",
    "import tempfile\n",
    "import webbrowser\n",
    "\n",
    "if Debug == True :\n",
    "    channb = 1\n",
    "    cmd = ':INST:CHAN {0}; :SYST:INF:REG?'.format(channb)\n",
    "    html_str = inst.send_scpi_query(cmd, max_resp_len=200000)\n",
    "    print(html_str)\n",
    "    with tempfile.NamedTemporaryFile('w', delete=False, suffix='.html') as f:\n",
    "        url = 'file://' + f.name\n",
    "        f.write(html_str)\n",
    "    webbrowser.open(url)"
   ]
  },
  {
   "cell_type": "code",
   "execution_count": null,
   "metadata": {},
   "outputs": [],
   "source": [
    "#inst.close_instrument()\n",
    "#admin.close_inst_admin()\n"
   ]
  },
  {
   "cell_type": "code",
   "execution_count": null,
   "metadata": {},
   "outputs": [],
   "source": [
    "#inst.send_scpi_cmd(':INST:CHAN 1')\n",
    "#inst.send_scpi_cmd(':MARK:SEL 1')\n",
    "#inst.send_scpi_cmd(':MARK:STAT ON')\n",
    "#inst.send_scpi_cmd(':MARK:DEL:COAR 0')\n",
    "#resp=inst.send_scpi_query(':MARK:DEL:FINE? MIN')\n",
    "#print(resp)\n",
    "#inst.send_scpi_cmd(':MARK:DEL:FINE -1e-9')"
   ]
  },
  {
   "cell_type": "code",
   "execution_count": null,
   "metadata": {},
   "outputs": [],
   "source": []
  }
 ],
 "metadata": {
  "kernelspec": {
   "display_name": "Python 3",
   "language": "python",
   "name": "python3"
  },
  "language_info": {
   "codemirror_mode": {
    "name": "ipython",
    "version": 3
   },
   "file_extension": ".py",
   "mimetype": "text/x-python",
   "name": "python",
   "nbconvert_exporter": "python",
   "pygments_lexer": "ipython3",
   "version": "3.8.5"
  }
 },
 "nbformat": 4,
 "nbformat_minor": 4
}
