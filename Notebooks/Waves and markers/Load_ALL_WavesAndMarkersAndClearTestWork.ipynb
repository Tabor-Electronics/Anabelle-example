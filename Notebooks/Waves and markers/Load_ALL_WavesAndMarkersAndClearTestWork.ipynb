{
 "cells": [
  {
   "cell_type": "markdown",
   "metadata": {},
   "source": [
    "# Waves And Markers Download Test\n",
    "\n",
    "Test Setup:\n",
    "* Any Proteus Instrument 1-12 channels. - Running with a service.\n",
    "* Scope connected to channel 1 and 3  of the module.\n",
    "\n",
    "The test downloads wavforms to channels and markers and sets signal generator on. \n",
    "Run script and verify on scope theat all channels and markers generate square wave pulses.\n",
    "System frequency can be set below (the default is the maximum - for each system.)\n",
    "\n"
   ]
  },
  {
   "cell_type": "code",
   "execution_count": 12,
   "metadata": {},
   "outputs": [],
   "source": [
    "import os\n",
    "import sys\n",
    "srcpath = os.path.realpath('../../SourceFiles')\n",
    "sys.path.append(srcpath)\n",
    "#import pyte_visa_utils as pyte\n",
    "from teproteus import TEProteusAdmin as TepAdmin\n",
    "from teproteus import TEProteusInst as TepInst\n",
    "from tevisainst import TEVisaInst"
   ]
  },
  {
   "cell_type": "code",
   "execution_count": 13,
   "metadata": {},
   "outputs": [],
   "source": [
    "%matplotlib notebook\n",
    "import numpy as np\n",
    "import time\n",
    "import ipywidgets as widgets\n",
    "import matplotlib.pyplot as plt\n",
    "\n",
    "\n",
    "CLEAR_TEST = True #flag for additional clear segment test."
   ]
  },
  {
   "cell_type": "code",
   "execution_count": 14,
   "metadata": {},
   "outputs": [
    {
     "name": "stdout",
     "output_type": "stream",
     "text": [
      "Connected to: Tabor Electronics,P9484M,000000000000,1.223.0 --slot#: 5,\n"
     ]
    }
   ],
   "source": [
    "#conType=\"PXI\" \n",
    "conType=\"LAN\"\n",
    "\n",
    "if conType in \"LAN\":\n",
    "    ip_addr = \"192.168.0.117\"\n",
    "    inst = TEVisaInst(ip_addr, port=5025)\n",
    "    model = ''\n",
    "else:\n",
    "    admin = TepAdmin()\n",
    "    slot_ids = admin.get_slot_ids()\n",
    "    print(\"Trying to connect to slot: {}\".format(slot_ids[0]))\n",
    "    inst = admin.open_instrument(slot_id=slot_ids[0])\n",
    "\n",
    "if inst is not None:\n",
    "      idn_str = inst.send_scpi_query('*IDN?')\n",
    "      model = inst.send_scpi_query(\":SYST:iNF:MODel?\")\n",
    "      if idn_str:\n",
    "          prnmsg = 'Connected to: ' + idn_str.strip()\n",
    "          print(prnmsg)\n",
    "else:\n",
    "      print(\"Not connected\")    \n"
   ]
  },
  {
   "cell_type": "code",
   "execution_count": 15,
   "metadata": {},
   "outputs": [
    {
     "name": "stdout",
     "output_type": "stream",
     "text": [
      "Reset instrument ..\n",
      "Done\n"
     ]
    }
   ],
   "source": [
    "# The paranoia-level is either \n",
    "# low (0), normal (1) or debug (2)\n",
    "paranoia_level = 2\n",
    "\n",
    "print ('Reset instrument ..')\n",
    "\n",
    "# Reset the instrument\n",
    "inst.send_scpi_cmd( '*CLS; *RST', paranoia_level)\n",
    "\n",
    "inst.send_scpi_cmd( ':TRACe:DELete:ALL', paranoia_level)\n",
    "\n",
    "print('Done')"
   ]
  },
  {
   "cell_type": "code",
   "execution_count": 28,
   "metadata": {},
   "outputs": [
    {
     "name": "stdout",
     "output_type": "stream",
     "text": [
      "Model: P9484M\n",
      "DAC waveform format: 16 bits-per-point\n",
      "Number of channels: 4\n",
      "Max segment number: 65536\n",
      "Available memory per DDR: 17,171,421,120 wave-bytes\n"
     ]
    }
   ],
   "source": [
    "# Get the model name\n",
    "model = inst.send_scpi_query(\":SYST:iNF:MODel?\")\n",
    "print(\"Model: \" + model)\n",
    "\n",
    "# Infer the natural DAC waveform format\n",
    "if 'P9082' in model:\n",
    "    dac_mode = 8\n",
    "    FREQ=9e9\n",
    "else:\n",
    "    dac_mode = 16\n",
    "    FREQ=2.5e9\n",
    "\n",
    "print(\"DAC waveform format: {0} bits-per-point\".format(dac_mode))\n",
    "\n",
    "# Get number of channels\n",
    "resp = inst.send_scpi_query(\":INST:CHAN? MAX\")\n",
    "print(\"Number of channels: \" + resp)\n",
    "num_channels = int(resp)\n",
    "\n",
    "# Get the maximal number of segments\n",
    "resp = inst.send_scpi_query(\":TRACe:SELect:SEGMent? MAX\")\n",
    "print(\"Max segment number: \" + resp)\n",
    "max_seg_number = int(resp)\n",
    "\n",
    "# Get the available memory in bytes of wavform-data (per DDR):\n",
    "resp = inst.send_scpi_query(\":TRACe:FREE?\")\n",
    "arbmem_capacity = int(resp)\n",
    "print(\"Available memory per DDR: {0:,} wave-bytes\".format(arbmem_capacity))\n",
    "\n",
    "max_dac = 2 ** dac_mode - 1\n",
    "half_dac = max_dac / 2.0"
   ]
  },
  {
   "cell_type": "markdown",
   "metadata": {},
   "source": [
    "## System Frequency "
   ]
  },
  {
   "cell_type": "code",
   "execution_count": 29,
   "metadata": {},
   "outputs": [
    {
     "name": "stdout",
     "output_type": "stream",
     "text": [
      "DAC Generate Freq:2500000000.0\n"
     ]
    }
   ],
   "source": [
    "cmd=\":FREQ:RAST {}\".format(FREQ)\n",
    "inst.send_scpi_cmd(cmd)\n",
    "resp = inst.send_scpi_query(\":FREQ:RAST?\")\n",
    "freq = float(resp)\n",
    "print (\"DAC Generate Freq:{0}\".format(freq))"
   ]
  },
  {
   "cell_type": "markdown",
   "metadata": {},
   "source": [
    "## Prepare wave-data and markers-data segments for all channels\n"
   ]
  },
  {
   "cell_type": "code",
   "execution_count": 30,
   "metadata": {},
   "outputs": [
    {
     "name": "stdout",
     "output_type": "stream",
     "text": [
      "Build wave-data and markers-data segments for 4 channels ..\n",
      "Done\n"
     ]
    }
   ],
   "source": [
    "# Build wave-data and markers-data for 12 segments\n",
    "\n",
    "print('Build wave-data and markers-data segments for {} channels ..'.format(num_channels))\n",
    "\n",
    "seglen = 2** 12 #10 #2 ** 20 # 1MB\n",
    "num_cycles = [2 ** n for n in range(num_channels)]\n",
    "\n",
    "waves = [ None for _ in range(num_channels)]\n",
    "marks = [ None for _ in range(num_channels)]\n",
    "\n",
    "    \n",
    "if (dac_mode == 16) and int(FREQ) <= 2.5e9:\n",
    "  seg_mark_bytes = seglen // 4\n",
    "else:\n",
    "  seg_mark_bytes = seglen // 8\n",
    "  if dac_mode != 16:\n",
    "      num_channels = int(num_channels//2)\n",
    "    \n",
    "    \n",
    "for ii in range(num_channels):\n",
    "    ncycles = num_cycles[ii]\n",
    "    cyclelen = seglen / ncycles\n",
    "    \n",
    "    x = np.linspace(start=0, stop=seglen, num=seglen, endpoint=False)\n",
    "    y = np.fmod(x, cyclelen)\n",
    "    y = (y <= cyclelen / 2) * max_dac\n",
    "    y = np.round(y)\n",
    "    y = np.clip(y, 0, max_dac)\n",
    "    \n",
    "    if dac_mode == 16:\n",
    "        waves[ii] = y.astype(np.uint16)\n",
    "    else:\n",
    "        waves[ii] = y.astype(np.uint8)\n",
    "    \n",
    "    \n",
    "    del x, y\n",
    "print('Done')   \n",
    " "
   ]
  },
  {
   "cell_type": "code",
   "execution_count": 31,
   "metadata": {},
   "outputs": [],
   "source": [
    "for ii in range(num_channels):\n",
    "    ncycles = num_cycles[ii]\n",
    "    #cyclelen = seglen / ncycles\n",
    "    \n",
    "    cycle_bytes = seg_mark_bytes/ncycles\n",
    "    \n",
    "    #if dac_mode == 16 and int(FREQ) <= 2.5e9:\n",
    "    #    cycle_bytes = cyclelen // 4\n",
    "    #else:\n",
    "    #    cycle_bytes = cyclelen // 8\n",
    "        \n",
    "    x = np.linspace(\n",
    "        start=0, stop=seg_mark_bytes, num=seg_mark_bytes, endpoint=False)\n",
    "    ym = np.fmod(x, cycle_bytes)\n",
    "    ym = (ym <= cycle_bytes / 2) * 255\n",
    "    ym = np.round(ym)\n",
    "    ym = np.clip(ym, 0, 255)\n",
    "    marks[ii] = ym.astype(np.uint8)\n",
    "    \n",
    "    del x, ym"
   ]
  },
  {
   "cell_type": "markdown",
   "metadata": {},
   "source": [
    "## Download wave-data and markers-data to segments"
   ]
  },
  {
   "cell_type": "code",
   "execution_count": 32,
   "metadata": {},
   "outputs": [
    {
     "name": "stdout",
     "output_type": "stream",
     "text": [
      "Download wave to segment 1 of channel 1\n",
      "Download markers to segment 1 of channel 1\n",
      "Maxinun markers = 2\n",
      "Markers_per_chan = 2\n",
      "0, no error\n",
      "Download wave to segment 2 of channel 2\n",
      "Download markers to segment 2 of channel 2\n",
      "Maxinun markers = 2\n",
      "Markers_per_chan = 2\n",
      "0, no error\n",
      "Download wave to segment 1 of channel 3\n",
      "Download markers to segment 1 of channel 3\n",
      "Maxinun markers = 2\n",
      "Markers_per_chan = 2\n",
      "0, no error\n",
      "Download wave to segment 2 of channel 4\n",
      "Download markers to segment 2 of channel 4\n",
      "Maxinun markers = 2\n",
      "Markers_per_chan = 2\n",
      "0, no error\n",
      "\n",
      "0, no error\n"
     ]
    }
   ],
   "source": [
    "# Download segments\n",
    "\n",
    "# data-type code: 'B' = uint8, 'H' = uint16\n",
    "#wav_dat_type = 'H' if dac_mode == 16 else 'B'\n",
    "#mrk_dat_type = 'B'\n",
    "num_channels=4\n",
    "for ii in range(num_channels):\n",
    "    ichan = ii\n",
    "    channb = ichan + 1\n",
    "    segnum = ichan % 2 + 1\n",
    "    wav = waves[ichan]\n",
    "    mrk = marks[ichan]\n",
    "    print('Download wave to segment {0} of channel {1}'.format(segnum, channb))\n",
    "    \n",
    "    # Select channel\n",
    "    cmd = ':INST:CHAN {0}'.format(channb)\n",
    "    inst.send_scpi_cmd( cmd, paranoia_level)\n",
    "    \n",
    "    # Define segment\n",
    "    cmd = ':TRAC:DEF {0}, {1}'.format(segnum, seglen)\n",
    "    inst.send_scpi_cmd( cmd, paranoia_level)\n",
    "    \n",
    "    # Select the segment\n",
    "    cmd = ':TRAC:SEL {0}'.format(segnum)\n",
    "    inst.send_scpi_cmd( cmd, paranoia_level)\n",
    "    \n",
    "    # Increase the timeout before writing binary-data:\n",
    "    inst.timeout = 30000\n",
    "    \n",
    "    # Send the binary-data:\n",
    "    inst.write_binary_data(':TRAC:DATA', wav)\n",
    "        \n",
    "    resp = inst.send_scpi_query(':SYST:ERR?')\n",
    "    resp = resp.rstrip()\n",
    "    \n",
    "    if not resp.startswith('0'):\n",
    "        print('ERROR: \"{0}\" after writing binary values'.format(resp))\n",
    "        \n",
    "    print('Download markers to segment {0} of channel {1}'.format(segnum, channb))\n",
    "    \n",
    "    # Increase the timeout before writing binary-data:\n",
    "    inst.timeout = 10000\n",
    "    \n",
    "    \n",
    "    # Send the binary-data with *OPC? added to the beginning of its prefix.\n",
    "    inst.write_binary_data(':MARK:DATA',mrk)\n",
    "    \n",
    " \n",
    "    resp = inst.send_scpi_query(':SYST:ERR?')\n",
    "    resp = resp.rstrip()\n",
    "    if not resp.startswith('0'):\n",
    "        print('ERROR: \"{0}\" after writing binary values'.format(resp))\n",
    "\n",
    "    # Play the specified segment at the selected channel:\n",
    "    cmd = ':SOUR:FUNC:MODE:SEGM {0}'.format(segnum)\n",
    "    inst.send_scpi_cmd( cmd, paranoia_level)\n",
    "\n",
    "    # Turn on the output of the selected channel:\n",
    "    cmd = ':OUTP ON'\n",
    "    inst.send_scpi_cmd( cmd, paranoia_level)\n",
    "    \n",
    "    # Turn on the markers of the selected channel    \n",
    "    resp = inst.send_scpi_query(':MARK:SEL? MAX')\n",
    "    print(f'Maxinun markers = {resp}')\n",
    "    resp = resp.rstrip()\n",
    "    markers_per_chan = int(resp)\n",
    "    print(f'Markers_per_chan = {markers_per_chan}')\n",
    "    for imarker in range(markers_per_chan):\n",
    "        cmd = ':MARK:SEL {0}; :MARK:STAT ON'.format(imarker + 1)\n",
    "        inst.send_scpi_cmd(cmd, paranoia_level)\n",
    "    \n",
    "    resp = inst.send_scpi_query(':SYST:ERR?')\n",
    "    print(resp)\n",
    "\n",
    "print()\n",
    "\n",
    "resp = inst.send_scpi_query(':SYST:ERR?')\n",
    "print(resp)\n",
    "\n",
    "#del waves\n",
    "#del wav"
   ]
  },
  {
   "cell_type": "markdown",
   "metadata": {},
   "source": [
    "## (Optional) Clear Segments For Channel"
   ]
  },
  {
   "cell_type": "code",
   "execution_count": 15,
   "metadata": {},
   "outputs": [],
   "source": [
    "if CLEAR_TEST:\n",
    "  cmd = ':INST:CHAN 1'\n",
    "  inst.send_scpi_cmd( cmd, paranoia_level)\n",
    "  cmd = ':TRAC:ZERO:ALL'\n",
    "  inst.send_scpi_cmd(cmd, paranoia_level)"
   ]
  },
  {
   "cell_type": "code",
   "execution_count": 11,
   "metadata": {},
   "outputs": [],
   "source": [
    "if True: #CLEAR_TEST:\n",
    "  cmd = ':INST:CHAN 1'\n",
    "  inst.send_scpi_cmd( cmd, paranoia_level)\n",
    "  cmd = ':TRAC:ZERO 1'\n",
    "  inst.send_scpi_cmd( cmd, paranoia_level)"
   ]
  },
  {
   "cell_type": "code",
   "execution_count": 20,
   "metadata": {},
   "outputs": [],
   "source": [
    "if CLEAR_TEST:\n",
    "  cmd = ':INST:CHAN 3'\n",
    "  inst.send_scpi_cmd( cmd, paranoia_level)\n",
    "  cmd = ':TRAC:ZERO 2'\n",
    "  inst.send_scpi_cmd( cmd, paranoia_level)"
   ]
  },
  {
   "cell_type": "code",
   "execution_count": 76,
   "metadata": {},
   "outputs": [
    {
     "data": {
      "text/plain": [
       "0"
      ]
     },
     "execution_count": 76,
     "metadata": {},
     "output_type": "execute_result"
    }
   ],
   "source": [
    "cmd = ':INST:CHAN 1'\n",
    "inst.send_scpi_cmd( cmd, paranoia_level)\n",
    "cmd = ':MARK:SEL {0}; :MARK:STAT OFF'.format(1)\n",
    "inst.send_scpi_cmd(cmd, paranoia_level)"
   ]
  },
  {
   "cell_type": "code",
   "execution_count": 22,
   "metadata": {},
   "outputs": [
    {
     "ename": "AttributeError",
     "evalue": "'TEVisaInst' object has no attribute 'query'",
     "output_type": "error",
     "traceback": [
      "\u001b[1;31m---------------------------------------------------------------------------\u001b[0m",
      "\u001b[1;31mAttributeError\u001b[0m                            Traceback (most recent call last)",
      "\u001b[1;32m<ipython-input-22-22938207e18b>\u001b[0m in \u001b[0;36m<module>\u001b[1;34m\u001b[0m\n\u001b[1;32m----> 1\u001b[1;33m \u001b[0mresp\u001b[0m \u001b[1;33m=\u001b[0m \u001b[0minst\u001b[0m\u001b[1;33m.\u001b[0m\u001b[0mquery\u001b[0m\u001b[1;33m(\u001b[0m\u001b[1;34m':SYST:ERR?'\u001b[0m\u001b[1;33m)\u001b[0m\u001b[1;33m\u001b[0m\u001b[1;33m\u001b[0m\u001b[0m\n\u001b[0m\u001b[0;32m      2\u001b[0m \u001b[0mprint\u001b[0m\u001b[1;33m(\u001b[0m\u001b[0mresp\u001b[0m\u001b[1;33m)\u001b[0m\u001b[1;33m\u001b[0m\u001b[1;33m\u001b[0m\u001b[0m\n",
      "\u001b[1;31mAttributeError\u001b[0m: 'TEVisaInst' object has no attribute 'query'"
     ]
    }
   ],
   "source": [
    "resp = inst.query(':SYST:ERR?')\n",
    "print(resp)"
   ]
  },
  {
   "cell_type": "markdown",
   "metadata": {},
   "source": [
    "## (Optional) Select Specific Markers - Check ON/OFF"
   ]
  },
  {
   "cell_type": "code",
   "execution_count": null,
   "metadata": {},
   "outputs": [],
   "source": [
    "\n",
    "#chanlist = [1,2]#4,8,12]\n",
    "\n",
    "#imarker = 2\n",
    "#for channb in chanlist:\n",
    "#  if channb <= num_channels:\n",
    "#    cmd = ':INST:CHAN {0}'.format(channb)\n",
    "#    pyte.send_cmd(inst, cmd, paranoia_level)\n",
    "#    cmd = ':MARK:SEL {0}; :MARK:STAT OFF'.format(imarker)\n",
    "#    pyte.send_cmd(inst, cmd, paranoia_level)\n",
    "    "
   ]
  },
  {
   "cell_type": "code",
   "execution_count": null,
   "metadata": {},
   "outputs": [],
   "source": [
    "##Function is assumed to be in the range of 0-1\n",
    "def buildWaveFromFunc(func, period, ncycles, seglen, dac_mode=16):\n",
    "\n",
    "    #global  num_channels, max_seg_number ,arbmem_capacity\n",
    "    #num_cycles = (1, 2) #, 4, 8)\n",
    "    #waves = [ None for _ in range(1)]\n",
    "\n",
    "    cyclelen = seglen / ncycles\n",
    "    \n",
    "    ## Building wave form in 16 bit format.\n",
    "    if dac_mode == 16: \n",
    "        y = (np.zeros(seglen).astype('uint16')) \n",
    "    else: \n",
    "        y = (np.zeros(seglen).astype('uint8')) \n",
    "    max_dac = 2 ** dac_mode - 1\n",
    "    half_dac = max_dac / 2.0\n",
    "    \n",
    "    duty = cyclelen//2\n",
    "\n",
    "    x = np.linspace(start=0, stop=period*ncycles, num=seglen, endpoint=False)\n",
    "    y = func(x) *max_dac\n",
    "    y = np.round(y)\n",
    "    \n",
    "    \n",
    "    y = np.fmod(x, cyclelen)\n",
    "    y = (y <= duty) * max_dac\n",
    "    y = np.round(y)\n",
    "    y = np.clip(y, 0, max_dac)\n",
    "\n",
    "    \n",
    "    x = np.linspace(start=0, stop=seglen, num=seglen, endpoint=False)\n",
    "    y = np.fmod(x, cyclelen)\n",
    "    y = (y <= duty) * max_dac\n",
    "    y = np.round(y)\n",
    "    y = np.clip(y, 0, max_dac)\n",
    "\n",
    "    return y\n"
   ]
  }
 ],
 "metadata": {
  "kernelspec": {
   "display_name": "Python 3",
   "language": "python",
   "name": "python3"
  },
  "language_info": {
   "codemirror_mode": {
    "name": "ipython",
    "version": 3
   },
   "file_extension": ".py",
   "mimetype": "text/x-python",
   "name": "python",
   "nbconvert_exporter": "python",
   "pygments_lexer": "ipython3",
   "version": "3.8.5"
  }
 },
 "nbformat": 4,
 "nbformat_minor": 4
}
