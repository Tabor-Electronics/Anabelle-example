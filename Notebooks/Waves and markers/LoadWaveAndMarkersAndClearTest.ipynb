{
 "cells": [
  {
   "cell_type": "markdown",
   "metadata": {},
   "source": [
    "# Waves And Markers Download Test"
   ]
  },
  {
   "cell_type": "code",
   "execution_count": 1,
   "metadata": {},
   "outputs": [],
   "source": [
    "import os\n",
    "import sys\n",
    "srcpath = os.path.realpath('../../SourceFiles')\n",
    "sys.path.append(srcpath)\n",
    "import pyte_visa_utils as pyte"
   ]
  },
  {
   "cell_type": "code",
   "execution_count": 2,
   "metadata": {},
   "outputs": [],
   "source": [
    "%matplotlib notebook\n",
    "import numpy as np\n",
    "import time\n",
    "import ipywidgets as widgets\n",
    "import matplotlib.pyplot as plt"
   ]
  },
  {
   "cell_type": "code",
   "execution_count": 3,
   "metadata": {},
   "outputs": [
    {
     "name": "stdout",
     "output_type": "stream",
     "text": [
      "Connecting ..\n",
      "Connected to: Tabor Electronics,P9484M,000000000000,1.232.0 --slot#: 3, \n"
     ]
    }
   ],
   "source": [
    "# Connect to instrument\n",
    "\n",
    "# Please choose appropriate address:\n",
    "inst_addr = 'TCPIP::192.168.0.117::5025::SOCKET'\n",
    "\n",
    "print('Connecting ..')\n",
    "inst = pyte.open_session(inst_addr)\n",
    "resp = inst.query(\"*IDN?\")\n",
    "print('Connected to: ' + resp)\n"
   ]
  },
  {
   "cell_type": "code",
   "execution_count": 4,
   "metadata": {},
   "outputs": [
    {
     "name": "stdout",
     "output_type": "stream",
     "text": [
      "Reset instrument ..\n",
      "Done\n"
     ]
    }
   ],
   "source": [
    "# The paranoia-level is either \n",
    "# low (0), normal (1) or debug (2)\n",
    "paranoia_level = 2\n",
    "\n",
    "print ('Reset instrument ..')\n",
    "\n",
    "# Reset the instrument\n",
    "pyte.send_cmd(inst, '*CLS; *RST', paranoia_level)\n",
    "\n",
    "pyte.send_cmd(inst, ':TRACe:DELete:ALL', paranoia_level)\n",
    "\n",
    "print('Done')"
   ]
  },
  {
   "cell_type": "code",
   "execution_count": 5,
   "metadata": {},
   "outputs": [
    {
     "name": "stdout",
     "output_type": "stream",
     "text": [
      "Model: P9484M\n",
      "DAC waveform format: 16 bits-per-point\n",
      "Number of channels: 4\n",
      "Max segment number: 65536\n",
      "Available memory per DDR: 17,171,480,576 wave-bytes\n"
     ]
    }
   ],
   "source": [
    "# Get the model name\n",
    "resp = inst.query(\":SYST:iNF:MODel?\")\n",
    "print(\"Model: \" + resp)\n",
    "\n",
    "# Infer the natural DAC waveform format\n",
    "if 'P9082' in resp:\n",
    "    dac_mode = 8\n",
    "else:\n",
    "    dac_mode = 16\n",
    "print(\"DAC waveform format: {0} bits-per-point\".format(dac_mode))\n",
    "\n",
    "# Get number of channels\n",
    "resp = inst.query(\":INST:CHAN? MAX\")\n",
    "print(\"Number of channels: \" + resp)\n",
    "num_channels = int(resp)\n",
    "\n",
    "# Get the maximal number of segments\n",
    "resp = inst.query(\":TRACe:SELect:SEGMent? MAX\")\n",
    "print(\"Max segment number: \" + resp)\n",
    "max_seg_number = int(resp)\n",
    "\n",
    "# Get the available memory in bytes of wavform-data (per DDR):\n",
    "resp = inst.query(\":TRACe:FREE?\")\n",
    "arbmem_capacity = int(resp)\n",
    "print(\"Available memory per DDR: {0:,} wave-bytes\".format(arbmem_capacity))\n",
    "\n",
    "max_dac = 2 ** dac_mode - 1\n",
    "half_dac = max_dac / 2.0"
   ]
  },
  {
   "cell_type": "code",
   "execution_count": 6,
   "metadata": {},
   "outputs": [
    {
     "name": "stdout",
     "output_type": "stream",
     "text": [
      "DAC Generate Freq:2500000000.0\n"
     ]
    }
   ],
   "source": [
    "pyte.send_cmd(inst,\":FREQ:RAST 2500MHz\")\n",
    "\n",
    "resp = inst.query(\":FREQ:RAST?\")\n",
    "freq = float(resp)\n",
    "print (\"DAC Generate Freq:{0}\".format(freq))"
   ]
  },
  {
   "cell_type": "markdown",
   "metadata": {},
   "source": [
    "## Prepare wave-data and markers-data for 12 segments\n"
   ]
  },
  {
   "cell_type": "code",
   "execution_count": 7,
   "metadata": {},
   "outputs": [
    {
     "name": "stdout",
     "output_type": "stream",
     "text": [
      "Build wave-data and markers-data for 12 segments ..\n",
      "8192\n",
      "16\n",
      "2500000000.0\n",
      "2048\n",
      "Done\n"
     ]
    }
   ],
   "source": [
    "# Build wave-data and markers-data for 12 segments\n",
    "\n",
    "print('Build wave-data and markers-data for 12 segments ..')\n",
    "\n",
    "seglen = 4096 #2 ** 20 # 1MB\n",
    "num_cycles = [2 ** n for n in range(num_channels)]\n",
    "\n",
    "waves = [ None for _ in range(num_channels)]\n",
    "marks = [ None for _ in range(num_channels)]\n",
    "\n",
    "if dac_mode == 16:\n",
    "    seg_wave_bytes = seglen * 2\n",
    "else:\n",
    "    seg_wave_bytes = seglen\n",
    "print(seg_wave_bytes)\n",
    "\n",
    "print (dac_mode)\n",
    "print (freq)\n",
    "if (dac_mode == 16) and freq <= 2500000000:\n",
    "    seg_mark_bytes = seg_wave_bytes // 4\n",
    "else:\n",
    "    seg_mark_bytes = seg_wave_bytes // 8\n",
    "print(seg_mark_bytes)\n",
    "\n",
    "for ii in range(num_channels):\n",
    "    ncycles = num_cycles[ii]\n",
    "    cyclelen = seglen / ncycles\n",
    "    \n",
    "    x = np.linspace(start=0, stop=seglen, num=seglen, endpoint=False)\n",
    "    y = np.fmod(x, cyclelen)\n",
    "    y = (y <= cyclelen / 2) * max_dac\n",
    "    y = np.round(y)\n",
    "    y = np.clip(y, 0, max_dac)\n",
    "    if dac_mode == 16:\n",
    "        waves[ii] = y.astype(np.uint16)\n",
    "    else:\n",
    "        waves[ii] = y.astype(np.uint8)\n",
    "    waves[ii].reshape(-1)\n",
    "    \n",
    "    if dac_mode == 16:\n",
    "        cycle_bytes = cyclelen // 4\n",
    "    else:\n",
    "        cycle_bytes = cyclelen // 8\n",
    "        \n",
    "    x = np.linspace(\n",
    "        start=0, stop=seg_mark_bytes, num=seg_mark_bytes, endpoint=False)\n",
    "    y = np.fmod(x, cycle_bytes)\n",
    "    y = (y <= cycle_bytes / 2) * 255\n",
    "    y = np.round(y)\n",
    "    y = np.clip(y, 0, 255)\n",
    "    marks[ii] = y.astype(np.uint8)\n",
    "    del x, y\n",
    "    \n",
    "print('Done')   \n",
    " "
   ]
  },
  {
   "cell_type": "markdown",
   "metadata": {},
   "source": [
    "## Download wave-data and markers-data to segments"
   ]
  },
  {
   "cell_type": "code",
   "execution_count": 8,
   "metadata": {},
   "outputs": [
    {
     "name": "stdout",
     "output_type": "stream",
     "text": [
      "Download wave to segment 1 of channel 1\n",
      "Download markers to segment 1 of channel 1\n",
      "ERROR: \"219, invalid data size\" after writing binary values\n"
     ]
    },
    {
     "name": "stderr",
     "output_type": "stream",
     "text": [
      "C:\\Users\\Proteus\\Desktop\\ProteusScripts\\Anabelle\\Python\\Examples\\SourceFiles\\pyte_visa_utils.py:481: UserWarning: ERR: \"219, invalid data size\" after CMD: \":SOUR:FUNC:MODE:SEGM 1\"\n",
      "  warnings.warn(wrn_msg)\n"
     ]
    },
    {
     "name": "stdout",
     "output_type": "stream",
     "text": [
      "0, no error\n",
      "Download wave to segment 2 of channel 2\n",
      "Download markers to segment 2 of channel 2\n",
      "ERROR: \"219, invalid data size\" after writing binary values\n"
     ]
    },
    {
     "name": "stderr",
     "output_type": "stream",
     "text": [
      "C:\\Users\\Proteus\\Desktop\\ProteusScripts\\Anabelle\\Python\\Examples\\SourceFiles\\pyte_visa_utils.py:481: UserWarning: ERR: \"219, invalid data size\" after CMD: \":SOUR:FUNC:MODE:SEGM 2\"\n",
      "  warnings.warn(wrn_msg)\n"
     ]
    },
    {
     "name": "stdout",
     "output_type": "stream",
     "text": [
      "0, no error\n",
      "Download wave to segment 1 of channel 3\n",
      "Download markers to segment 1 of channel 3\n",
      "ERROR: \"219, invalid data size\" after writing binary values\n",
      "0, no error\n",
      "Download wave to segment 2 of channel 4\n",
      "Download markers to segment 2 of channel 4\n",
      "ERROR: \"219, invalid data size\" after writing binary values\n",
      "0, no error\n",
      "\n",
      "0, no error\n"
     ]
    }
   ],
   "source": [
    "# Download segments\n",
    "\n",
    "# data-type code: 'B' = uint8, 'H' = uint16\n",
    "wav_dat_type = 'H' if dac_mode == 16 else 'B'\n",
    "mrk_dat_type = 'B'\n",
    "\n",
    "for ii in range(num_channels):\n",
    "    ichan = ii\n",
    "    channb = ichan + 1\n",
    "    segnum = ichan % 2 + 1\n",
    "    wav = waves[ichan]\n",
    "    mrk = marks[ichan]\n",
    "    print('Download wave to segment {0} of channel {1}'.format(segnum, channb))\n",
    "    \n",
    "    # Select channel\n",
    "    cmd = ':INST:CHAN {0}'.format(channb)\n",
    "    pyte.send_cmd(inst, cmd, paranoia_level)\n",
    "    \n",
    "    # Define segment\n",
    "    cmd = ':TRAC:DEF {0}, {1}'.format(segnum, seglen)\n",
    "    pyte.send_cmd(inst, cmd, paranoia_level)\n",
    "    \n",
    "    # Select the segment\n",
    "    cmd = ':TRAC:SEL {0}'.format(segnum)\n",
    "    pyte.send_cmd(inst, cmd, paranoia_level)\n",
    "    \n",
    "    # Increase the timeout before writing binary-data:\n",
    "    inst.timeout = 30000\n",
    "    \n",
    "    # Send the binary-data with *OPC? added to the beginning of its prefix.\n",
    "    inst.write_binary_values('*OPC?; :TRAC:DATA', wav, datatype=wav_dat_type)\n",
    "    \n",
    "    # Read the response to the *OPC? query that was added to the prefix of the binary data\n",
    "    resp = inst.read()\n",
    "    \n",
    "    # Set normal timeout\n",
    "    inst.timeout = 10000\n",
    "    \n",
    "    resp = inst.query(':SYST:ERR?')\n",
    "    resp = resp.rstrip()\n",
    "    if not resp.startswith('0'):\n",
    "        print('ERROR: \"{0}\" after writing binary values'.format(resp))\n",
    "        \n",
    "    print('Download markers to segment {0} of channel {1}'.format(segnum, channb))\n",
    "    \n",
    "    # Increase the timeout before writing binary-data:\n",
    "    inst.timeout = 30000\n",
    "    \n",
    "    # Send the binary-data with *OPC? added to the beginning of its prefix.\n",
    "    inst.write_binary_values('*OPC?; :MARK:DATA', mrk, datatype=mrk_dat_type)\n",
    "    \n",
    "    # Read the response to the *OPC? query that was added to the prefix of the binary data\n",
    "    resp = inst.read()\n",
    "    \n",
    "    # Set normal timeout\n",
    "    inst.timeout = 10000\n",
    "    \n",
    "    resp = inst.query(':SYST:ERR?')\n",
    "    resp = resp.rstrip()\n",
    "    if not resp.startswith('0'):\n",
    "        print('ERROR: \"{0}\" after writing binary values'.format(resp))\n",
    "\n",
    "    # Play the specified segment at the selected channel:\n",
    "    cmd = ':SOUR:FUNC:MODE:SEGM {0}'.format(segnum)\n",
    "    pyte.send_cmd(inst, cmd, paranoia_level)\n",
    "\n",
    "    # Turn on the output of the selected channel:\n",
    "    cmd = ':OUTP ON'\n",
    "    pyte.send_cmd(inst, cmd, paranoia_level)\n",
    "    \n",
    "    # Turn on the markers of the selected channel    \n",
    "    resp = inst.query(':MARK:SEL? MAX')\n",
    "    resp = resp.rstrip()\n",
    "    markers_per_chan = int(resp)\n",
    "    for imarker in range(markers_per_chan):\n",
    "        cmd = ':MARK:SEL {0}; :MARK:STAT ON'.format(imarker + 1)\n",
    "        pyte.send_cmd(inst, cmd, paranoia_level)\n",
    "    \n",
    "    resp = inst.query(':SYST:ERR?')\n",
    "    print(resp)\n",
    "\n",
    "print()\n",
    "\n",
    "resp = inst.query(':SYST:ERR?')\n",
    "print(resp)\n",
    "\n",
    "del waves\n",
    "del wav"
   ]
  },
  {
   "cell_type": "code",
   "execution_count": 9,
   "metadata": {},
   "outputs": [],
   "source": [
    "channb = 1\n",
    "imarker = 1\n",
    "cmd = ':INST:CHAN {0}'.format(channb)\n",
    "pyte.send_cmd(inst, cmd, paranoia_level)\n",
    "cmd = ':MARK:SEL {0}; :MARK:STAT ON'.format(imarker)\n",
    "pyte.send_cmd(inst, cmd, paranoia_level)"
   ]
  },
  {
   "cell_type": "code",
   "execution_count": 10,
   "metadata": {},
   "outputs": [],
   "source": [
    "chanlist = [4,8,12]\n",
    "imarker = 2\n",
    "for channb in chanlist:\n",
    "  if channb <= num_channels:\n",
    "    cmd = ':INST:CHAN {0}'.format(channb)\n",
    "    pyte.send_cmd(inst, cmd, paranoia_level)\n",
    "    cmd = ':MARK:SEL {0}; :MARK:STAT OFF'.format(imarker)\n",
    "    pyte.send_cmd(inst, cmd, paranoia_level)\n",
    "    "
   ]
  },
  {
   "cell_type": "code",
   "execution_count": 11,
   "metadata": {},
   "outputs": [],
   "source": [
    "if 0:\n",
    "    pyte.send_cmd(inst,\":FREQ:RAST 2500MHz\")  # 1250\n",
    "\n",
    "    resp = inst.query(\":FREQ:RAST?\")\n",
    "    freq = float(resp)\n",
    "    print (\"DAC Generate Freq:{0}\".format(freq))"
   ]
  },
  {
   "cell_type": "markdown",
   "metadata": {},
   "source": [
    "#### 4. Play the segment "
   ]
  },
  {
   "cell_type": "code",
   "execution_count": 12,
   "metadata": {},
   "outputs": [
    {
     "name": "stdout",
     "output_type": "stream",
     "text": [
      "Play the segment ..\n",
      "0, no error\n"
     ]
    }
   ],
   "source": [
    "print('Play the segment ..')\n",
    "\n",
    "# Play the specified segment at the selected channel:\n",
    "cmd = ':SOUR:FUNC:MODE:SEGM {0}'.format(segnum)\n",
    "pyte.send_cmd(inst, cmd, paranoia_level)\n",
    "\n",
    "# Turn on the output of the selected channel:\n",
    "cmd = ':OUTP ON'\n",
    "pyte.send_cmd(inst, cmd, paranoia_level)\n",
    "\n",
    "# Turn on the markers of the selected channel    \n",
    "resp = inst.query(':MARK:SEL? MAX')\n",
    "resp = resp.rstrip()\n",
    "markers_per_chan = int(resp)\n",
    "for imarker in range(markers_per_chan):\n",
    "    cmd = ':MARK:SEL {0}; :MARK:STAT ON'.format(imarker + 1)\n",
    "    pyte.send_cmd(inst, cmd, paranoia_level)\n",
    "\n",
    "resp = inst.query(':SYST:ERR?')\n",
    "print(resp)"
   ]
  },
  {
   "cell_type": "code",
   "execution_count": 13,
   "metadata": {},
   "outputs": [],
   "source": [
    "if 0:\n",
    "    cmd = ':INST:CHAN 1'\n",
    "    pyte.send_cmd(inst, cmd, paranoia_level)\n",
    "    cmd = ':TRAC:ZERO:ALL'\n",
    "    pyte.send_cmd(inst, cmd, paranoia_level)"
   ]
  },
  {
   "cell_type": "code",
   "execution_count": 14,
   "metadata": {},
   "outputs": [],
   "source": [
    "if 0:\n",
    "    cmd = ':INST:CHAN 2'\n",
    "    pyte.send_cmd(inst, cmd, paranoia_level)\n",
    "    cmd = ':TRAC:ZERO:ALL'\n",
    "    pyte.send_cmd(inst, cmd, paranoia_level)"
   ]
  },
  {
   "cell_type": "code",
   "execution_count": null,
   "metadata": {},
   "outputs": [],
   "source": []
  }
 ],
 "metadata": {
  "kernelspec": {
   "display_name": "Python 3",
   "language": "python",
   "name": "python3"
  },
  "language_info": {
   "codemirror_mode": {
    "name": "ipython",
    "version": 3
   },
   "file_extension": ".py",
   "mimetype": "text/x-python",
   "name": "python",
   "nbconvert_exporter": "python",
   "pygments_lexer": "ipython3",
   "version": "3.8.3"
  }
 },
 "nbformat": 4,
 "nbformat_minor": 4
}
