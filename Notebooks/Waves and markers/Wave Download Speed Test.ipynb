{
 "cells": [
  {
   "cell_type": "markdown",
   "metadata": {},
   "source": [
    "<img align=\"left\" src=\"https://www.taborelec.com/Pictures/logo.png\">"
   ]
  },
  {
   "cell_type": "markdown",
   "metadata": {},
   "source": [
    "# Wave Download Speed Test"
   ]
  },
  {
   "cell_type": "markdown",
   "metadata": {},
   "source": [
    "### Description:\n",
    "This script porpuse is to exacute aspeed test of downloading wave to a Proteus device.\n",
    "\n",
    "The script creates a sine waves in size of 1 Gigabyte and downloads it to the device and measure the time it takes.\n",
    "\n",
    "The script also run the script on channel #1 for verification\n",
    "\n",
    "### set up:\n",
    "Any prodeus device.\n",
    "This scripts supports connection via LAN and PXI\n",
    "\n",
    "### Proteus version: \n",
    "Anabelle\n"
   ]
  },
  {
   "cell_type": "code",
   "execution_count": 17,
   "metadata": {},
   "outputs": [],
   "source": [
    "%matplotlib notebook\n",
    "import numpy as np\n",
    "import time\n",
    "import ipywidgets as widgets\n",
    "import matplotlib.pyplot as plt"
   ]
  },
  {
   "cell_type": "code",
   "execution_count": 18,
   "metadata": {},
   "outputs": [],
   "source": [
    "import os\n",
    "import gc\n",
    "import sys\n",
    "srcpath = os.path.realpath('../../SourceFiles')\n",
    "sys.path.append(srcpath)\n",
    "from teproteus import TEProteusAdmin, TEProteusInst\n",
    "from tevisainst import TEVisaInst"
   ]
  },
  {
   "cell_type": "markdown",
   "metadata": {},
   "source": [
    "### Before we start\n",
    "\n",
    "This example is designed to work both when there is a LAN based communication-service (usually on benchtop/desktop)<br>\n",
    "And when there's no communication-service, and the user's application has access to hardware-modules in the PXI chassis.\n",
    "\n",
    "In the first case, when there's a LAN communication, this example uses the class `TEVisaInst` from `tevisainst`.<br>\n",
    "\n",
    "In the second case, this example uses the classes `TEProteusAdmin` and `TEProteusInst` from `teproteus`."
   ]
  },
  {
   "cell_type": "code",
   "execution_count": 19,
   "metadata": {},
   "outputs": [
    {
     "data": {
      "application/vnd.jupyter.widget-view+json": {
       "model_id": "d2aa72fee27e439697c6eea075040ba8",
       "version_major": 2,
       "version_minor": 0
      },
      "text/plain": [
       "Text(value='', description='Address:', placeholder='IP Address or Slot Id')"
      ]
     },
     "metadata": {},
     "output_type": "display_data"
    },
    {
     "data": {
      "application/vnd.jupyter.widget-view+json": {
       "model_id": "5fbd299d4d434faf8c70c948a1bb238a",
       "version_major": 2,
       "version_minor": 0
      },
      "text/plain": [
       "Button(description='Connect', style=ButtonStyle())"
      ]
     },
     "metadata": {},
     "output_type": "display_data"
    },
    {
     "data": {
      "application/vnd.jupyter.widget-view+json": {
       "model_id": "e2923d6ad33a4d3683198a0d7f5efd9b",
       "version_major": 2,
       "version_minor": 0
      },
      "text/plain": [
       "Button(description='Disconnect', style=ButtonStyle())"
      ]
     },
     "metadata": {},
     "output_type": "display_data"
    },
    {
     "data": {
      "application/vnd.jupyter.widget-view+json": {
       "model_id": "6df793de2aa143c4879f810cef78a65f",
       "version_major": 2,
       "version_minor": 0
      },
      "text/plain": [
       "Output()"
      ]
     },
     "metadata": {},
     "output_type": "display_data"
    }
   ],
   "source": [
    "# Connect to instrument\n",
    "\n",
    "inst = None\n",
    "admin = None\n",
    "\n",
    "conn_msg_str = ''\n",
    "\n",
    "def disconnect():\n",
    "    global inst\n",
    "    global admin\n",
    "    if inst is not None:\n",
    "        try:\n",
    "            inst.close_instrument()            \n",
    "        except:\n",
    "            pass\n",
    "        inst = None\n",
    "    if admin is not None:\n",
    "        try:\n",
    "            admin.close_inst_admin()\n",
    "        except:\n",
    "            pass\n",
    "        admin = None\n",
    "    gc.collect()\n",
    "\n",
    "def connect_to_pxi_slot(slot_id):\n",
    "    global inst\n",
    "    global admin\n",
    "    try:\n",
    "        disconnect()        \n",
    "        admin = TEProteusAdmin()\n",
    "        admin.open_inst_admin()        \n",
    "        inst = admin.open_instrument(slot_id, reset_hot_flag=True)\n",
    "    except:\n",
    "        pass\n",
    "\n",
    "def connect_to_lan_server(ip_address):\n",
    "    global inst\n",
    "    try:\n",
    "        disconnect()\n",
    "        inst = TEVisaInst(ip_address, port=5025)\n",
    "    except:\n",
    "        pass\n",
    "\n",
    "def connect(ipaddr_or_slotid):\n",
    "    try:\n",
    "        disconnect()\n",
    "        if isinstance(ipaddr_or_slotid, str) and '.' in ipaddr_or_slotid:\n",
    "            connect_to_lan_server(ipaddr_or_slotid)\n",
    "        else:\n",
    "            connect_to_pxi_slot(ipaddr_or_slotid)\n",
    "    except:\n",
    "        pass\n",
    "\n",
    "addr_textbox = widgets.Text(\n",
    "    value='',\n",
    "    placeholder='IP Address or Slot Id',\n",
    "    description='Address:',\n",
    "    disabled=False\n",
    ")\n",
    "\n",
    "output = widgets.Output()\n",
    "\n",
    "def print_conn_message(msg_str):\n",
    "    global output\n",
    "    global conn_msg_str\n",
    "    with output:\n",
    "        if len(conn_msg_str) > 0:\n",
    "            print('\\r', end='')\n",
    "            print(' ' * len(conn_msg_str), end='')\n",
    "            print('\\r', end='')\n",
    "        conn_msg_str = str(msg_str)\n",
    "        if len(conn_msg_str) > 0:\n",
    "            print(conn_msg_str, end='')\n",
    "\n",
    "def on_button_connect_clicked(b):\n",
    "    global inst\n",
    "    global addr_textbox\n",
    "    print_conn_message('')\n",
    "    disconnect()\n",
    "    if addr_textbox is not None:\n",
    "        conn_str = addr_textbox.value\n",
    "        if conn_str:\n",
    "            print_conn_message('Connecting to {0} ..'.format(conn_str))\n",
    "            connect(conn_str)\n",
    "            print_conn_message('')\n",
    "    if inst is not None:\n",
    "        idn_str = inst.send_scpi_query('*IDN?')\n",
    "        if idn_str:\n",
    "            print_conn_message('Connected to: ' + idn_str.strip())\n",
    "    \n",
    "def on_button_disconnect_clicked(b):\n",
    "    print_conn_message('')\n",
    "    disconnect()\n",
    "\n",
    "btn_connect = widgets.Button(description=\"Connect\")\n",
    "btn_disconnect = widgets.Button(description=\"Disconnect\")\n",
    "\n",
    "btn_connect.on_click(on_button_connect_clicked)\n",
    "btn_disconnect.on_click(on_button_disconnect_clicked)\n",
    "\n",
    "display(addr_textbox, btn_connect, btn_disconnect, output)"
   ]
  },
  {
   "cell_type": "code",
   "execution_count": 20,
   "metadata": {},
   "outputs": [
    {
     "name": "stdout",
     "output_type": "stream",
     "text": [
      "Model: P9484M\n",
      "DAC waveform format: 16 bits-per-point\n",
      "Number of channels: 4\n",
      "Max segment number: 65536\n",
      "Available memory per DDR: 16,966,629,312 wave-bytes\n"
     ]
    }
   ],
   "source": [
    "# Get the model name\n",
    "resp = inst.send_scpi_query(\":SYSTem:INFormation:MODel?\")\n",
    "print(\"Model: \" + resp)\n",
    "\n",
    "# Infer the natural DAC waveform format\n",
    "if 'P9082' in resp:\n",
    "    dac_mode = 8\n",
    "else:\n",
    "    dac_mode = 16\n",
    "print(\"DAC waveform format: {0} bits-per-point\".format(dac_mode))\n",
    "\n",
    "# Get number of channels\n",
    "resp = inst.send_scpi_query(\":INST:CHAN? MAX\")\n",
    "print(\"Number of channels: \" + resp)\n",
    "num_channels = int(resp)\n",
    "\n",
    "# Get the maximal number of segments\n",
    "resp = inst.send_scpi_query(\":TRACe:SELect:SEGMent? MAX\")\n",
    "print(\"Max segment number: \" + resp)\n",
    "max_seg_number = int(resp)\n",
    "\n",
    "# Get the available memory in bytes of wavform-data (per DDR):\n",
    "resp = inst.send_scpi_query(\":TRACe:FREE?\")\n",
    "arbmem_capacity = int(resp)\n",
    "print(\"Available memory per DDR: {0:,} wave-bytes\".format(arbmem_capacity))\n",
    "\n",
    "max_dac = 2 ** dac_mode - 1\n",
    "half_dac = max_dac / 2.0\n",
    "    "
   ]
  },
  {
   "cell_type": "code",
   "execution_count": 21,
   "metadata": {},
   "outputs": [
    {
     "name": "stdout",
     "output_type": "stream",
     "text": [
      "DAC Generate Freq:2500000000.0\n"
     ]
    }
   ],
   "source": [
    "FREQ = 2500\n",
    "inst.send_scpi_cmd(\":FREQ:RAST {0}MHz\".format(FREQ))\n",
    "resp = inst.send_scpi_query(\":FREQ:RAST?\")\n",
    "freq = float(resp)\n",
    "print (\"DAC Generate Freq:{0}\".format(freq))"
   ]
  },
  {
   "cell_type": "code",
   "execution_count": 22,
   "metadata": {},
   "outputs": [
    {
     "name": "stdout",
     "output_type": "stream",
     "text": [
      "Downloaded the wave in \"2.08321669999998\" seconds\n"
     ]
    },
    {
     "data": {
      "text/plain": [
       "0"
      ]
     },
     "execution_count": 22,
     "metadata": {},
     "output_type": "execute_result"
    }
   ],
   "source": [
    "seglen=102400000\n",
    "num_cycles=2000\n",
    "cyclelen = seglen / num_cycles\n",
    "\n",
    "x = np.linspace(start=0, stop=2 * np.pi * num_cycles, num=seglen, endpoint=False)\n",
    "y = (np.sin(x) + 1.0) * half_dac\n",
    "y = np.round(y)\n",
    "y = np.clip(y, 0, max_dac)\n",
    "if dac_mode == 16:\n",
    "    wave = y.astype(np.uint16)\n",
    "else:\n",
    "    wave = y.astype(np.uint8)\n",
    "        \n",
    "# data-type code: 'B' = uint8, 'H' = uint16\n",
    "data_type = 'H' if dac_mode == 16 else 'B'\n",
    "\n",
    "\n",
    "channb=1\n",
    "segnum=1\n",
    "\n",
    "cmd = ':INST:CHAN {0}'.format(channb)\n",
    "inst.send_scpi_cmd(cmd)\n",
    "\n",
    "cmd = ':TRAC:DEF {0}, {1}'.format(segnum, seglen)\n",
    "inst.send_scpi_cmd(cmd)\n",
    "\n",
    "cmd = ':TRAC:SEL {0}'.format(segnum)\n",
    "inst.send_scpi_cmd(cmd)\n",
    "\n",
    "inst.timeout = 30000\n",
    "\n",
    "#start_time = time.time()\n",
    "tic = time.perf_counter()\n",
    "\n",
    "inst.write_binary_data(':TRAC:DATA', wave)\n",
    "\n",
    "#end_time = time.time()\n",
    "#time_lapsed = end_time - start_time\n",
    "\n",
    "#print('Downloaded the wave in \"{0}\" seconds'.format(time_lapsed))\n",
    "\n",
    "toc = time.perf_counter()\n",
    "timer = float(toc-tic)\n",
    "\n",
    "print('Downloaded the wave in \"{0}\" seconds'.format(timer))\n",
    "\n",
    "\n",
    "resp = inst.send_scpi_query(':SYST:ERR?')\n",
    "resp = resp.rstrip()\n",
    "if not resp.startswith('0'):\n",
    "     print('ERROR: \"{0}\" after writing binary values'.format(resp))\n",
    "\n",
    "cmd = ':SOUR:FUNC:MODE:SEGM {0}'.format(segnum)\n",
    "inst.send_scpi_cmd(cmd)"
   ]
  },
  {
   "cell_type": "code",
   "execution_count": 23,
   "metadata": {},
   "outputs": [
    {
     "name": "stdout",
     "output_type": "stream",
     "text": [
      "0, no error\n"
     ]
    }
   ],
   "source": [
    "inst.send_scpi_cmd(':INST:CHAN 1')\n",
    "\n",
    "\n",
    "inst.send_scpi_cmd('FUNC:MODE ARB')\n",
    "# Play the specified segment at the selected channel:\n",
    "cmd = ':SOUR:FUNC:MODE:SEGM {0}'.format(segnum)\n",
    "inst.send_scpi_cmd( cmd, 2)\n",
    "\n",
    "resp = inst.send_scpi_cmd(':OUTP OFF')\n",
    "inst.send_scpi_cmd(':SOUR:VOLT 0.4')\n",
    "# Turn on the output of the selected channel:\n",
    "\n",
    "\n",
    "resp = inst.send_scpi_cmd(':OUTP ON')\n",
    "\n",
    "inst.send_scpi_cmd('*TRG')\n",
    "resp = inst.send_scpi_query(':SYST:ERR?')\n",
    "resp = inst.send_scpi_query(':SYST:ERR?')\n",
    "print(resp)\n",
    "#inst.send_scpi_cmd('FUNC:MODE CONT')"
   ]
  },
  {
   "cell_type": "code",
   "execution_count": null,
   "metadata": {},
   "outputs": [],
   "source": [
    "# close connection\n",
    "disconnect()"
   ]
  },
  {
   "cell_type": "code",
   "execution_count": null,
   "metadata": {},
   "outputs": [],
   "source": []
  }
 ],
 "metadata": {
  "kernelspec": {
   "display_name": "Python 3",
   "language": "python",
   "name": "python3"
  },
  "language_info": {
   "codemirror_mode": {
    "name": "ipython",
    "version": 3
   },
   "file_extension": ".py",
   "mimetype": "text/x-python",
   "name": "python",
   "nbconvert_exporter": "python",
   "pygments_lexer": "ipython3",
   "version": "3.8.5"
  }
 },
 "nbformat": 4,
 "nbformat_minor": 4
}
