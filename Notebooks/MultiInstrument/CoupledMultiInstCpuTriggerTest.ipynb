{
 "cells": [
  {
   "cell_type": "markdown",
   "metadata": {},
   "source": [
    "<img align=\"left\" src=\"https://www.taborelec.com/Pictures/logo.png\">"
   ]
  },
  {
   "cell_type": "markdown",
   "metadata": {},
   "source": [
    "##  CPU Multi-Instrument Coupled Trigger Test\n",
    "\n",
    "Test CPU Trigger to activate multi instrument coupled channel operation.\n",
    "This script also allow testing of synchronizing tasks over multiple instruments without using change_dac_clock method (command ':TASK:SYNC')\n",
    "\n",
    "Test Setup:\n",
    "* 2x module of P948x\n",
    "* Connect Sync cable between modules 1 and 2.\n",
    "* Scope ch1 connected to channel 1 of module 1 and Scope ch2 connected to channel 1 of module 2.\n",
    "\n",
    "This example creates 2 waves of different types, and downloads them into a task table to channel 1 on both instruments. The task's wait for an internal CPU trigger to activate the operation. The coupled cpu trigger mode activates all task tables together.\n",
    "Run script and verify on Scope that:\n",
    "- Before ('*TRG') command, both channels are not active\n",
    "- After the cpu trigger command ('*TRG') signals are generated once on both channels.\n",
    "- If signals are not synchronized after the *TRG command, you can run the ':TASK:SYNC' command in order to synchronize.\n",
    "\n",
    "\n",
    "download the waves once for each DDR (depending on the number of channels in the device) on both instruments. Creates a task table. Download it for each channel and plays the task table according to a trigger send by the script. Verify on Scope connected to Channel 1 and 2 see generated signal after the '*TRG' command is run."
   ]
  },
  {
   "cell_type": "code",
   "execution_count": 1,
   "metadata": {},
   "outputs": [],
   "source": [
    "%matplotlib notebook\n",
    "import numpy as np\n",
    "import time\n",
    "import ipywidgets as widgets\n",
    "import matplotlib.pyplot as plt"
   ]
  },
  {
   "cell_type": "code",
   "execution_count": 2,
   "metadata": {},
   "outputs": [],
   "source": [
    "import os\n",
    "import gc\n",
    "import sys\n",
    "srcpath = os.path.realpath('../../SourceFiles')\n",
    "sys.path.append(srcpath)\n",
    "#from teproteus import TEProteusAdmin, TEProteusInst\n",
    "from tevisainst import TEVisaInst"
   ]
  },
  {
   "cell_type": "code",
   "execution_count": 3,
   "metadata": {},
   "outputs": [
    {
     "name": "stdout",
     "output_type": "stream",
     "text": [
      "connected to: Tabor Electronics,P9484M,000000000000,1.232.0 --Tabor Electronics,P9484M,000000000000,1.233.0 --slot#: 3, slot#: 5, \n"
     ]
    }
   ],
   "source": [
    "# Connect to instrument\n",
    "\n",
    "# Please choose appropriate address:\n",
    "inst_addr = 'TCPIP::192.168.0.117::5025::SOCKET'\n",
    "\n",
    "inst = TEVisaInst(inst_addr)\n",
    "\n",
    "resp = inst.send_scpi_query(\"*IDN?\")\n",
    "print('connected to: ' + resp)"
   ]
  },
  {
   "cell_type": "code",
   "execution_count": 4,
   "metadata": {},
   "outputs": [
    {
     "name": "stdout",
     "output_type": "stream",
     "text": [
      "0, no error\n"
     ]
    }
   ],
   "source": [
    "inst.send_scpi_cmd(':INST:ACT 1')\n",
    "inst.send_scpi_cmd(':XINS:SYNC:FOLL 1')\n",
    "\n",
    "resp = inst.send_scpi_query(\":SYST:ERR?\")\n",
    "print(resp)\n"
   ]
  },
  {
   "cell_type": "code",
   "execution_count": 5,
   "metadata": {},
   "outputs": [
    {
     "data": {
      "text/plain": [
       "0"
      ]
     },
     "execution_count": 5,
     "metadata": {},
     "output_type": "execute_result"
    }
   ],
   "source": [
    "inst.send_scpi_cmd(':INST:ACT 1')\n",
    "inst.send_scpi_cmd(':TRIG:COUPLE ON')\n",
    "inst.send_scpi_cmd(':TRIG:CPU:MODE GLOBAL')\n",
    "#inst.send_scpi_cmd(':INST:ACT 2')\n",
    "#inst.send_scpi_cmd(':TRIG:COUPLE ON')"
   ]
  },
  {
   "cell_type": "code",
   "execution_count": 6,
   "metadata": {},
   "outputs": [
    {
     "name": "stdout",
     "output_type": "stream",
     "text": [
      "Model: P9484M \n",
      "Number of channels: 4\n",
      "Max segment number: 65536\n",
      "Available memory per DDR: 17,171,480,576 wave-bytes\n",
      "Max segment length: 8,585,740,288\n"
     ]
    }
   ],
   "source": [
    "# Get the model:\n",
    "model_name = inst.send_scpi_query('SYST:INF:MODel?')\n",
    "print('Model: {0} '.format(model_name))\n",
    "\n",
    "# Get number of channels\n",
    "resp = inst.send_scpi_query(\":INST:CHAN? MAX\")\n",
    "print(\"Number of channels: \" + resp)\n",
    "num_channels = int(resp)\n",
    "\n",
    "# Get model dependant parameters:\n",
    "\n",
    "if model_name.startswith('P948'):\n",
    "    bpp = 2\n",
    "    max_dac = 65535\n",
    "    wpt_type = np.uint16\n",
    "    channels_per_dac = 2\n",
    "elif model_name.startswith('P908'):\n",
    "    bpp = 1\n",
    "    max_dac = 255\n",
    "    wpt_type = np.uint8\n",
    "    channels_per_dac = 1\n",
    "else:\n",
    "    bpp = 2\n",
    "    max_dac = 65535\n",
    "    wpt_type = np.uint16\n",
    "    channels_per_dac = 2\n",
    "    \n",
    "half_dac = max_dac / 2.0\n",
    "\n",
    "# Get the maximal number of segments\n",
    "resp = inst.send_scpi_query(\":TRACe:SELect:SEGMent? MAX\")\n",
    "print(\"Max segment number: \" + resp)\n",
    "max_seg_number = int(resp)\n",
    "\n",
    "# Get the available memory in bytes of wavform-data (per DDR):\n",
    "resp = inst.send_scpi_query(\":TRACe:FREE?\")\n",
    "arbmem_capacity = (int(resp) // 64) * 64\n",
    "print(\"Available memory per DDR: {0:,} wave-bytes\".format(arbmem_capacity))\n",
    "\n",
    "max_seglen = arbmem_capacity // bpp\n",
    "print ('Max segment length: {0:,}'.format(max_seglen))"
   ]
  },
  {
   "cell_type": "code",
   "execution_count": 7,
   "metadata": {},
   "outputs": [],
   "source": [
    "# Build 3 waveforms\n",
    "\n",
    "seglen = 4096\n",
    "cyclelen = seglen\n",
    "ncycles = seglen / cyclelen\n",
    "waves = [ None for _ in range(3)]\n",
    "\n",
    "# sin wave:\n",
    "x = np.linspace(\n",
    "    start=0, stop=2 * np.pi * ncycles, num=seglen, endpoint=False)\n",
    "y = (np.sin(x) + 1.0) * half_dac\n",
    "y = np.round(y)\n",
    "y = np.clip(y, 0, max_dac)\n",
    "waves[0] = y.astype(wpt_type)\n",
    "\n",
    "# triangle wave:\n",
    "x = np.linspace(\n",
    "    start=0, stop=2 * np.pi * ncycles, num=seglen, endpoint=False)\n",
    "y = np.sin(x)\n",
    "y = np.arcsin(y)* 2 * half_dac / np.pi + half_dac\n",
    "y = np.round(y)\n",
    "y = np.clip(y, 0, max_dac)\n",
    "waves[1] = y.astype(wpt_type)\n",
    "\n",
    "# square wave\n",
    "x = np.linspace(start=0, stop=seglen, num=seglen, endpoint=False)\n",
    "y = np.fmod(x, cyclelen)\n",
    "y = (y <= cyclelen / 2) * max_dac\n",
    "y = np.round(y)\n",
    "y = np.clip(y, 0, max_dac)\n",
    "waves[2] = y.astype(wpt_type)"
   ]
  },
  {
   "cell_type": "code",
   "execution_count": 8,
   "metadata": {},
   "outputs": [
    {
     "name": "stdout",
     "output_type": "stream",
     "text": [
      "### Instrument #1 - segments\n",
      "Downloading segment 1 of channel 1\n",
      "Downloading segment 2 of channel 1\n",
      "### Instrument #2 - segments\n",
      "Downloading segment 1 of channel 1\n",
      "Downloading segment 2 of channel 1\n",
      "0, no error\n"
     ]
    }
   ],
   "source": [
    "\n",
    "# download 3 waveforms to each DDR\n",
    "for insId in [1,2]:\n",
    "    print('### Instrument #{} - segments'.format(insId))\n",
    "    inst.send_scpi_cmd(':INST:ACT {}'.format(insId))\n",
    "    channb = 1\n",
    "    # Select channel\n",
    "    cmd = ':INST:CHAN {0}'.format(channb)\n",
    "    inst.send_scpi_cmd(cmd)\n",
    "    for iseg in range(2):\n",
    "        segnum = iseg + 1\n",
    "        print('Downloading segment {0} of channel {1}'.format(segnum, channb))\n",
    "        # Define segment\n",
    "        cmd = ':TRAC:DEF {0}, {1}'.format(segnum, seglen)\n",
    "        inst.send_scpi_cmd(cmd)\n",
    "        # Select the segment\n",
    "        cmd = ':TRAC:SEL {0}'.format(segnum)\n",
    "        inst.send_scpi_cmd(cmd)\n",
    "        # Send the binary-data:\n",
    "        inst.write_binary_data(':TRAC:DATA', waves[iseg])\n",
    "            \n",
    "resp = inst.send_scpi_query(':SYST:ERR?')\n",
    "print(resp)"
   ]
  },
  {
   "cell_type": "code",
   "execution_count": 9,
   "metadata": {},
   "outputs": [
    {
     "name": "stdout",
     "output_type": "stream",
     "text": [
      "### Instrument #1 - play segment\n",
      "### Instrument #2 - play segment\n",
      "0, no error\n"
     ]
    }
   ],
   "source": [
    "# Play the first segment in each channel\n",
    "for insId in [1,2]:\n",
    "    print('### Instrument #{} - play segment'.format(insId))\n",
    "    inst.send_scpi_cmd(':INST:ACT {}'.format(insId))\n",
    "    channb = 1\n",
    "    # Select channel\n",
    "    cmd = ':INST:CHAN {0}'.format(channb)\n",
    "    inst.send_scpi_cmd(cmd)\n",
    "    \n",
    "    inst.send_scpi_cmd(':FUNC:MODE TASK')\n",
    "    \n",
    "    # Turn on the output of the selected channel:\n",
    "    inst.send_scpi_cmd(':OUTP ON')\n",
    "\n",
    "resp = inst.send_scpi_query(':SYST:ERR?')\n",
    "print(resp)"
   ]
  },
  {
   "cell_type": "code",
   "execution_count": 10,
   "metadata": {},
   "outputs": [
    {
     "name": "stdout",
     "output_type": "stream",
     "text": [
      "### Instrument #1 - task table\n",
      "### Instrument #2 - task table\n"
     ]
    }
   ],
   "source": [
    "# Define task-table of 3 tasks in each channel.\n",
    "# The first task shall wait for trigger1.\n",
    "# In order to \n",
    "\n",
    "tasklen = 2\n",
    "for insId in [1,2]:\n",
    "    print('### Instrument #{} - task table'.format(insId))\n",
    "    inst.send_scpi_cmd(':INST:ACT {}'.format(insId))\n",
    "# Compose the task-table rows:\n",
    "    cmd = ':TASK:COMP:LENG {0}'.format(tasklen)\n",
    "    inst.send_scpi_cmd(cmd)\n",
    "    \n",
    "    for itask in range(tasklen):\n",
    "        tasknb = itask + 1\n",
    "        segnb = itask + 1\n",
    "\n",
    "        cmd = ':TASK:COMP:SEL {0}'.format(tasknb)\n",
    "        inst.send_scpi_cmd(cmd)\n",
    "\n",
    "        inst.send_scpi_cmd(':TASK:COMP:TYPE SING')\n",
    "\n",
    "        cmd = ':TASK:COMP:SEGM {0}'.format(segnb)\n",
    "        inst.send_scpi_cmd(cmd)\n",
    "\n",
    "        if 1 == tasknb:\n",
    "            # in case of :TRIG:COUPLE ON need to put INT instead of CPU??\n",
    "            cmd = ':TASK:COMP:ENAB INT' \n",
    "            inst.send_scpi_cmd(cmd)\n",
    "        else:\n",
    "            cmd = ':TASK:COMP:ENAB NONE'\n",
    "            inst.send_scpi_cmd(cmd)\n",
    "\n",
    "        if tasklen == tasknb:\n",
    "            cmd = ':TASK:COMP:NEXT1 1'\n",
    "            inst.send_scpi_cmd(cmd)\n",
    "        else:\n",
    "            cmd = ':TASK:COMP:NEXT1 {0}'.format(tasknb + 1)\n",
    "            inst.send_scpi_cmd(cmd)\n",
    "\n",
    "    inst.send_scpi_cmd(':TASK:COMP:WRIT')"
   ]
  },
  {
   "cell_type": "code",
   "execution_count": 11,
   "metadata": {},
   "outputs": [
    {
     "name": "stdout",
     "output_type": "stream",
     "text": [
      "TASK\n"
     ]
    }
   ],
   "source": [
    "resp = inst.send_scpi_query(':FUNC:MODE?')\n",
    "print(resp)"
   ]
  },
  {
   "cell_type": "markdown",
   "metadata": {},
   "source": [
    "## Send CPU Trigger - \n",
    "Verify on Scope connected to Channel 1 and 2 and that signal is generated."
   ]
  },
  {
   "cell_type": "code",
   "execution_count": 12,
   "metadata": {},
   "outputs": [
    {
     "data": {
      "text/plain": [
       "0"
      ]
     },
     "execution_count": 12,
     "metadata": {},
     "output_type": "execute_result"
    }
   ],
   "source": [
    "#inst.send_scpi_cmd(':INST:CHAN 1')\n",
    "inst.send_scpi_cmd(':INST:ACT 1')\n",
    "## Test Signal generatation from the task table.\n",
    "inst.send_scpi_cmd('*TRG')\n"
   ]
  },
  {
   "cell_type": "markdown",
   "metadata": {},
   "source": [
    "## option to sycronize tasks and channels over multiple instruments (without calling change_dac_clock)"
   ]
  },
  {
   "cell_type": "code",
   "execution_count": 13,
   "metadata": {},
   "outputs": [],
   "source": [
    "if 1:\n",
    "    inst.send_scpi_cmd(':TASK:SYNC')\n",
    "    inst.send_scpi_cmd('*TRG')"
   ]
  },
  {
   "cell_type": "markdown",
   "metadata": {},
   "source": [
    "## (Optional) Debug - Register Dump"
   ]
  },
  {
   "cell_type": "code",
   "execution_count": 14,
   "metadata": {},
   "outputs": [],
   "source": [
    "import tempfile\n",
    "import webbrowser\n",
    "\n",
    "inst.send_scpi_cmd(':INST:ACT 2')\n",
    "Debug=False\n",
    "\n",
    "if Debug == True :\n",
    "    channb = 1\n",
    "    cmd = ':INST:CHAN {0}; :SYST:INF:REG?'.format(channb)\n",
    "    html_str = inst.send_scpi_query(cmd, max_resp_len=200000)\n",
    "    #print(html_str)\n",
    "    with tempfile.NamedTemporaryFile('w', delete=False, suffix='.html') as f:\n",
    "        url = 'file://' + f.name\n",
    "        f.write(html_str)\n",
    "    webbrowser.open(url)"
   ]
  },
  {
   "cell_type": "code",
   "execution_count": 15,
   "metadata": {},
   "outputs": [],
   "source": [
    "inst.close_instrument()"
   ]
  },
  {
   "cell_type": "code",
   "execution_count": null,
   "metadata": {},
   "outputs": [],
   "source": []
  }
 ],
 "metadata": {
  "kernelspec": {
   "display_name": "Python 3",
   "language": "python",
   "name": "python3"
  },
  "language_info": {
   "codemirror_mode": {
    "name": "ipython",
    "version": 3
   },
   "file_extension": ".py",
   "mimetype": "text/x-python",
   "name": "python",
   "nbconvert_exporter": "python",
   "pygments_lexer": "ipython3",
   "version": "3.8.3"
  }
 },
 "nbformat": 4,
 "nbformat_minor": 4
}
